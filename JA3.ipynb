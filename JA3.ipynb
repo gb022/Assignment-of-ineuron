{
  "nbformat": 4,
  "nbformat_minor": 0,
  "metadata": {
    "colab": {
      "provenance": []
    },
    "kernelspec": {
      "name": "python3",
      "display_name": "Python 3"
    },
    "language_info": {
      "name": "python"
    }
  },
  "cells": [
    {
      "cell_type": "markdown",
      "source": [
        "Q1.Write a simple Banking System program by using OOPs concept where you can get account Holder name balance etc?"
      ],
      "metadata": {
        "id": "jo_fVv9EcAZo"
      }
    },
    {
      "cell_type": "code",
      "execution_count": null,
      "metadata": {
        "id": "RkLSHGkSb_Mt"
      },
      "outputs": [],
      "source": [
        "import java.util.Scanner;\n",
        "\n",
        "class BankAccount {\n",
        "    private String accountHolderName;\n",
        "    private double balance;\n",
        "\n",
        "    public BankAccount(String accountHolderName, double initialBalance) {\n",
        "        this.accountHolderName = accountHolderName;\n",
        "        this.balance = initialBalance;\n",
        "    }\n",
        "\n",
        "    public String getAccountHolderName() {\n",
        "        return accountHolderName;\n",
        "    }\n",
        "\n",
        "    public double getBalance() {\n",
        "        return balance;\n",
        "    }\n",
        "\n",
        "    public void deposit(double amount) {\n",
        "        balance += amount;\n",
        "        System.out.println(\"Deposit of $\" + amount + \" successful.\");\n",
        "    }\n",
        "\n",
        "    public void withdraw(double amount) {\n",
        "        if (balance >= amount) {\n",
        "            balance -= amount;\n",
        "            System.out.println(\"Withdrawal of $\" + amount + \" successful.\");\n",
        "        } else {\n",
        "            System.out.println(\"Insufficient balance.\");\n",
        "        }\n",
        "    }\n",
        "}\n",
        "\n",
        "public class BankingSystem {\n",
        "    public static void main(String[] args) {\n",
        "        Scanner scanner = new Scanner(System.in);\n",
        "\n",
        "        System.out.print(\"Enter account holder's name: \");\n",
        "        String name = scanner.nextLine();\n",
        "\n",
        "        System.out.print(\"Enter initial balance: \");\n",
        "        double initialBalance = scanner.nextDouble();\n",
        "\n",
        "        BankAccount account = new BankAccount(name, initialBalance);\n",
        "\n",
        "        System.out.println(\"\\nAccount Details:\");\n",
        "        System.out.println(\"Account Holder: \" + account.getAccountHolderName());\n",
        "        System.out.println(\"Current Balance: $\" + account.getBalance());\n",
        "\n",
        "        System.out.print(\"\\nEnter amount to deposit: \");\n",
        "        double depositAmount = scanner.nextDouble();\n",
        "        account.deposit(depositAmount);\n",
        "\n",
        "        System.out.print(\"\\nEnter amount to withdraw: \");\n",
        "        double withdrawAmount = scanner.nextDouble();\n",
        "        account.withdraw(withdrawAmount);\n",
        "\n",
        "        System.out.println(\"\\nUpdated Account Details:\");\n",
        "        System.out.println(\"Account Holder: \" + account.getAccountHolderName());\n",
        "        System.out.println(\"Current Balance: $\" + account.getBalance());\n",
        "\n",
        "        scanner.close();\n",
        "    }\n",
        "}"
      ]
    },
    {
      "cell_type": "markdown",
      "source": [
        "Q2. Write a Program where you inherit method from parent class and show method Overridden Concept?"
      ],
      "metadata": {
        "id": "Izy2wnJ6cHdf"
      }
    },
    {
      "cell_type": "code",
      "source": [
        "class Animal {\n",
        "    public void makeSound() {\n",
        "        System.out.println(\"Generic animal sound\");\n",
        "    }\n",
        "}\n",
        "\n",
        "class Dog extends Animal {\n",
        "    @Override\n",
        "    public void makeSound() {\n",
        "        System.out.println(\"Dog barks\");\n",
        "    }\n",
        "}\n",
        "\n",
        "public class Main {\n",
        "    public static void main(String[] args) {\n",
        "        Animal genericAnimal = new Animal();\n",
        "        Dog dog = new Dog();\n",
        "\n",
        "        // Call the makeSound() method from the parent class\n",
        "        genericAnimal.makeSound();\n",
        "\n",
        "        // Call the makeSound() method from the child class (overridden method)\n",
        "        dog.makeSound();\n",
        "    }\n",
        "}\n",
        "// Output:\n",
        "//Generic animal sound\n",
        "//Dog barks\n"
      ],
      "metadata": {
        "id": "n9vt8LOGcL8Q"
      },
      "execution_count": null,
      "outputs": []
    },
    {
      "cell_type": "markdown",
      "source": [
        "Q3.Write a program to show run time polymorphism in java?"
      ],
      "metadata": {
        "id": "4aslkkOacY58"
      }
    },
    {
      "cell_type": "code",
      "source": [
        "class Animal {\n",
        "    public void makeSound() {\n",
        "        System.out.println(\"Generic animal sound\");\n",
        "    }\n",
        "}\n",
        "\n",
        "class Dog extends Animal {\n",
        "    @Override\n",
        "    public void makeSound() {\n",
        "        System.out.println(\"Dog barks\");\n",
        "    }\n",
        "}\n",
        "\n",
        "class Cat extends Animal {\n",
        "    @Override\n",
        "    public void makeSound() {\n",
        "        System.out.println(\"Cat meows\");\n",
        "    }\n",
        "}\n",
        "\n",
        "public class Main {\n",
        "    public static void main(String[] args) {\n",
        "        Animal animal1 = new Dog();\n",
        "        Animal animal2 = new Cat();\n",
        "\n",
        "        animal1.makeSound(); // Calls the makeSound() method from the Dog class\n",
        "        animal2.makeSound(); // Calls the makeSound() method from the Cat class\n",
        "    }\n",
        "}\n",
        "// output\n",
        "//Dog barks\n",
        "//Cat meows\n"
      ],
      "metadata": {
        "id": "7VvbY0p-cdcQ"
      },
      "execution_count": null,
      "outputs": []
    },
    {
      "cell_type": "markdown",
      "source": [
        "Q4.Write a program to show Compile time polymorphism in java?"
      ],
      "metadata": {
        "id": "zdNJqcw_clg7"
      }
    },
    {
      "cell_type": "code",
      "source": [
        "class MathOperations {\n",
        "    public int add(int a, int b) {\n",
        "        return a + b;\n",
        "    }\n",
        "\n",
        "    public double add(double a, double b) {\n",
        "        return a + b;\n",
        "    }\n",
        "\n",
        "    public int add(int a, int b, int c) {\n",
        "        return a + b + c;\n",
        "    }\n",
        "}\n",
        "\n",
        "public class Main {\n",
        "    public static void main(String[] args) {\n",
        "        MathOperations math = new MathOperations();\n",
        "\n",
        "        int sum1 = math.add(5, 10);              // Calls the int add(int a, int b) method\n",
        "        double sum2 = math.add(3.14, 2.71);      // Calls the double add(double a, double b) method\n",
        "        int sum3 = math.add(1, 2, 3);            // Calls the int add(int a, int b, int c) method\n",
        "\n",
        "        System.out.println(\"Sum 1: \" + sum1);\n",
        "        System.out.println(\"Sum 2: \" + sum2);\n",
        "        System.out.println(\"Sum 3: \" + sum3);\n",
        "    }\n",
        "}\n",
        "// output\n",
        "// Sum 1: 15\n",
        "//Sum 2: 5.85\n",
        "//Sum 3: 6\n",
        "\n"
      ],
      "metadata": {
        "id": "EB14KnEFcn8I"
      },
      "execution_count": null,
      "outputs": []
    },
    {
      "cell_type": "markdown",
      "source": [
        "Q5. Achieve loose coupling in java by using OOPs  concept?\n",
        "\n",
        "---> In object-oriented programming, loose coupling is achieved by designing classes and their relationships in a way that minimizes their dependencies on each other. The goal is to create a system where changes to one class do not affect other classes, and each class can be modified or replaced without causing ripple effects throughout the entire system."
      ],
      "metadata": {
        "id": "2dHXvr7jc3Hr"
      }
    },
    {
      "cell_type": "markdown",
      "source": [
        "Q6. What is the benefit of encapsulation in java?\n",
        "\n",
        "--->  Encapsulation is one of the four fundamental principles of object-oriented programming (OOP), and it refers to the bundling of data and methods that operate on that data within a single unit, called a class. The main benefit of encapsulation in Java and other OOP languages is to provide better control over the accessibility and manipulation of data, which leads to several advantages:\n",
        "\n",
        "Data Hiding\n",
        "\n",
        "Security\n",
        "\n",
        "Maintainability and Flexibility\n",
        "\n",
        "Code Reusability\n",
        "\n",
        "Polymorphism\n",
        "\n",
        "Debugging and Testing\n",
        "\n",
        "Maintaining Invariants"
      ],
      "metadata": {
        "id": "-ThoVtpRdASk"
      }
    },
    {
      "cell_type": "markdown",
      "source": [
        "Q7.Is java a t 100% Object oriented Programming language? If no why ?\n",
        "\n",
        "--->\n",
        "No, Java is not a 100% Object-Oriented Programming (OOP) language. While Java is primarily designed to be object-oriented and follows the principles of OOP, there are a few reasons why it is not considered a pure or 100% OOP language:\n",
        "\n",
        "Primitive Data Types\n",
        "\n",
        "Static Members\n",
        "\n",
        "Procedural Programming\n",
        "\n",
        "Inheritance and Implementation Separation"
      ],
      "metadata": {
        "id": "nKlCMt9FdPxy"
      }
    },
    {
      "cell_type": "markdown",
      "source": [
        "Q8.What are the advantages of abstraction in java?\n",
        "\n",
        "---> Abstraction in Java is a fundamental concept of Object-Oriented Programming (OOP) that allows you to hide the implementation details of an object and only expose the essential features or behaviors that are relevant to the user. Here are some of the advantages of abstraction in Java:\n",
        "\n",
        "Simplifies Complexity: Abstraction helps in managing the complexity of a program by breaking it down into smaller, more manageable units. It allows you to focus on the high-level design and functionality of objects rather than getting bogged down by their internal complexities.\n",
        "\n",
        "Encapsulation: Abstraction is closely related to encapsulation. By hiding the implementation details of an object, you can prevent direct access to its internal state from outside the object. This promotes data security and enhances maintainability.\n",
        "\n",
        "Code Reusability: Abstraction enables the creation of reusable components. Once you define an abstract class or interface, you can derive multiple concrete classes from it, each implementing the abstract methods in its own way. This promotes code reuse and avoids code duplication.\n",
        "\n",
        "Flexibility and Extensibility: Abstraction allows you to define the structure of a class or an interface without specifying its actual implementation. This provides flexibility to change or extend the implementation later without affecting the code that uses the abstracted class or interface.\n",
        "\n",
        "Loose Coupling: Abstraction helps in achieving loose coupling between classes and modules. When you interact with an object through its abstraction (e.g., an interface), you don't need to worry about the underlying implementation. This allows you to change the implementation of an object without affecting other parts of the code.\n",
        "\n",
        "Improves Maintainability: By abstracting away the implementation details, the code becomes easier to understand and maintain. Changes to the implementation can be localized to the concrete classes, while the interface remains unchanged.\n",
        "\n",
        "Promotes Modularity: Abstraction promotes the division of a large program into smaller, self-contained modules. Each module can be developed and tested independently, which makes the overall development process more manageable."
      ],
      "metadata": {
        "id": "2Z1v-pL1dbBD"
      }
    },
    {
      "cell_type": "markdown",
      "source": [
        "Q9.What is an abstraction explained with an Example?\n",
        "\n",
        "---> Abstraction is a fundamental concept in Object-Oriented Programming (OOP) that allows you to create a simplified representation of an object by hiding its internal details and only exposing the essential features or behaviors relevant to the user. It provides a way to define the structure of a class or an interface without specifying its implementation."
      ],
      "metadata": {
        "id": "ZQgM30TTdokf"
      }
    },
    {
      "cell_type": "code",
      "source": [
        "// Abstract class representing a Shape\n",
        "abstract class Shape {\n",
        "    // Abstract method to calculate the area of the shape\n",
        "    public abstract double calculateArea();\n",
        "\n",
        "    // Concrete method to display the shape's properties\n",
        "    public void displayProperties() {\n",
        "        System.out.println(\"This is a shape.\");\n",
        "    }\n",
        "}\n",
        "\n",
        "// Concrete subclass representing a Circle\n",
        "class Circle extends Shape {\n",
        "    private double radius;\n",
        "\n",
        "    public Circle(double radius) {\n",
        "        this.radius = radius;\n",
        "    }\n",
        "\n",
        "    @Override\n",
        "    public double calculateArea() {\n",
        "        return Math.PI * radius * radius;\n",
        "    }\n",
        "\n",
        "    // Overriding the displayProperties() method to show circle-specific information\n",
        "    @Override\n",
        "    public void displayProperties() {\n",
        "        System.out.println(\"This is a circle with radius \" + radius + \".\");\n",
        "    }\n",
        "}\n",
        "\n",
        "// Concrete subclass representing a Rectangle\n",
        "class Rectangle extends Shape {\n",
        "    private double length;\n",
        "    private double width;\n",
        "\n",
        "    public Rectangle(double length, double width) {\n",
        "        this.length = length;\n",
        "        this.width = width;\n",
        "    }\n",
        "\n",
        "    @Override\n",
        "    public double calculateArea() {\n",
        "        return length * width;\n",
        "    }\n",
        "\n",
        "    // Overriding the displayProperties() method to show rectangle-specific information\n",
        "    @Override\n",
        "    public void displayProperties() {\n",
        "        System.out.println(\"This is a rectangle with length \" + length + \" and width \" + width + \".\");\n",
        "    }\n",
        "}\n",
        "\n",
        "public class Main {\n",
        "    public static void main(String[] args) {\n",
        "        // Creating objects of Circle and Rectangle\n",
        "        Shape circle = new Circle(5.0);\n",
        "        Shape rectangle = new Rectangle(4.0, 6.0);\n",
        "\n",
        "        // Using abstraction to work with shapes without knowing their internal details\n",
        "        circle.displayProperties();\n",
        "        System.out.println(\"Area of the circle: \" + circle.calculateArea());\n",
        "\n",
        "        rectangle.displayProperties();\n",
        "        System.out.println(\"Area of the rectangle: \" + rectangle.calculateArea());\n",
        "    }\n",
        "}"
      ],
      "metadata": {
        "id": "0-W40hO6dulw"
      },
      "execution_count": null,
      "outputs": []
    },
    {
      "cell_type": "markdown",
      "source": [
        "Q10.What is the final class in Java?\n",
        "\n",
        "---> In Java, a final class is a class that cannot be subclassed or extended by other classes. When a class is declared as final, it means that it cannot have any subclasses, and its implementation is considered complete and cannot be further extended."
      ],
      "metadata": {
        "id": "amjWylyudyoC"
      }
    }
  ]
}