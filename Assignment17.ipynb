{
  "nbformat": 4,
  "nbformat_minor": 0,
  "metadata": {
    "colab": {
      "provenance": []
    },
    "kernelspec": {
      "name": "python3",
      "display_name": "Python 3"
    },
    "language_info": {
      "name": "python"
    }
  },
  "cells": [
    {
      "cell_type": "code",
      "execution_count": 3,
      "metadata": {
        "colab": {
          "base_uri": "https://localhost:8080/"
        },
        "id": "_Gyn1wKWjzG-",
        "outputId": "15afa7b8-e86b-4297-82dd-088752008892"
      },
      "outputs": [
        {
          "output_type": "stream",
          "name": "stdout",
          "text": [
            "0\n",
            "2\n",
            "-1\n"
          ]
        }
      ],
      "source": [
        "# Question 1\n",
        "def firstUniqChar(s):\n",
        "    char_count = {}\n",
        "    for c in s:\n",
        "        if c in char_count:\n",
        "            char_count[c] += 1\n",
        "        else:\n",
        "            char_count[c] = 1\n",
        "\n",
        "    for i, c in enumerate(s):\n",
        "        if char_count[c] == 1:\n",
        "            return i\n",
        "\n",
        "    return -1\n",
        "s = \"leetcode\"\n",
        "print(firstUniqChar(s))  # Output: 0\n",
        "\n",
        "s = \"loveleetcode\"\n",
        "print(firstUniqChar(s))  # Output: 2\n",
        "\n",
        "s = \"aabb\"\n",
        "print(firstUniqChar(s))  # Output: -1\n",
        "\n"
      ]
    },
    {
      "cell_type": "code",
      "source": [
        "# Question 2\n",
        "def maxSubarraySumCircular(nums):\n",
        "    max_sum = nums[0]\n",
        "    min_sum = nums[0]\n",
        "    current_max = nums[0]\n",
        "    current_min = nums[0]\n",
        "    total_sum = nums[0]\n",
        "\n",
        "    for i in range(1, len(nums)):\n",
        "        num = nums[i]\n",
        "        current_max = max(current_max + num, num)\n",
        "        current_min = min(current_min + num, num)\n",
        "        max_sum = max(max_sum, current_max)\n",
        "        min_sum = min(min_sum, current_min)\n",
        "        total_sum += num\n",
        "\n",
        "    if max_sum < 0:\n",
        "        return max_sum\n",
        "\n",
        "    return max(max_sum, total_sum - min_sum)\n",
        "nums = [1, -2, 3, -2]\n",
        "print(maxSubarraySumCircular(nums))  # Output: 3\n",
        "\n",
        "nums = [5, -3, 5]\n",
        "print(maxSubarraySumCircular(nums))  # Output: 10\n",
        "\n",
        "nums = [-3, -2, -3]\n",
        "print(maxSubarraySumCircular(nums))  # Output: -2\n"
      ],
      "metadata": {
        "colab": {
          "base_uri": "https://localhost:8080/"
        },
        "id": "_FmFVo96kWGW",
        "outputId": "b433ae45-3f48-44b5-e7bd-45f2ebed3b2f"
      },
      "execution_count": 4,
      "outputs": [
        {
          "output_type": "stream",
          "name": "stdout",
          "text": [
            "3\n",
            "10\n",
            "-2\n"
          ]
        }
      ]
    },
    {
      "cell_type": "code",
      "source": [
        "# Question 3\n",
        "def countStudents(students, sandwiches):\n",
        "    students_left = len(students)\n",
        "    while students_left > 0:\n",
        "        if students[0] == sandwiches[0]:\n",
        "            students.pop(0)\n",
        "            sandwiches.pop(0)\n",
        "            students_left -= 1\n",
        "        elif students == students[:1] * len(students):\n",
        "            break\n",
        "        else:\n",
        "            students.append(students.pop(0))\n",
        "    return students_left\n",
        "students = [1, 1, 0, 0]\n",
        "sandwiches = [0, 1, 0, 1]\n",
        "print(countStudents(students, sandwiches))  # Output: 0\n",
        "\n",
        "students = [1, 1, 1, 0, 0, 1]\n",
        "sandwiches = [1, 0, 0, 0, 1, 1]\n",
        "print(countStudents(students, sandwiches))  # Output: 3\n"
      ],
      "metadata": {
        "colab": {
          "base_uri": "https://localhost:8080/"
        },
        "id": "3zLgkDxwkoay",
        "outputId": "3673a8c0-117d-4e47-9e9f-7b680bac0a7a"
      },
      "execution_count": 5,
      "outputs": [
        {
          "output_type": "stream",
          "name": "stdout",
          "text": [
            "0\n",
            "3\n"
          ]
        }
      ]
    },
    {
      "cell_type": "code",
      "source": [
        "# Question 4\n",
        "from collections import deque\n",
        "\n",
        "class RecentCounter:\n",
        "    def __init__(self):\n",
        "        self.requests = deque()\n",
        "\n",
        "    def ping(self, t: int) -> int:\n",
        "        # Add the current request timestamp to the queue\n",
        "        self.requests.append(t)\n",
        "\n",
        "        # Remove outdated requests that fall outside the time frame [t - 3000, t]\n",
        "        while self.requests and self.requests[0] < t - 3000:\n",
        "            self.requests.popleft()\n",
        "\n",
        "        # Return the number of requests in the time frame\n",
        "        return len(self.requests)\n",
        "recentCounter = RecentCounter()\n",
        "print(recentCounter.ping(1))     # Output: 1\n",
        "print(recentCounter.ping(100))   # Output: 2\n",
        "print(recentCounter.ping(3001))  # Output: 3\n",
        "print(recentCounter.ping(3002))  # Output: 3\n"
      ],
      "metadata": {
        "colab": {
          "base_uri": "https://localhost:8080/"
        },
        "id": "7Qj1ZTEBk_G7",
        "outputId": "8ae1a225-7dab-4bd3-f2f7-a976d16078ca"
      },
      "execution_count": 6,
      "outputs": [
        {
          "output_type": "stream",
          "name": "stdout",
          "text": [
            "1\n",
            "2\n",
            "3\n",
            "3\n"
          ]
        }
      ]
    },
    {
      "cell_type": "code",
      "source": [
        "# Question 5\n",
        "class ListNode:\n",
        "    def __init__(self, val=0, next=None):\n",
        "        self.val = val\n",
        "        self.next = next\n",
        "\n",
        "\n",
        "def findTheWinner(n, k):\n",
        "    # Create the circular linked list\n",
        "    head = ListNode(1)\n",
        "    prev = head\n",
        "    for i in range(2, n + 1):\n",
        "        node = ListNode(i)\n",
        "        prev.next = node\n",
        "        prev = node\n",
        "    prev.next = head\n",
        "\n",
        "    # Start at the first friend\n",
        "    current = head\n",
        "\n",
        "    # Remove friends until there is only one left\n",
        "    while current.next != current:\n",
        "        # Count k - 1 friends in the clockwise direction\n",
        "        for _ in range(k - 1):\n",
        "            current = current.next\n",
        "        # Remove the next friend from the linked list\n",
        "        current.next = current.next.next\n",
        "        # Move to the friend immediately clockwise of the removed friend\n",
        "        current = current.next\n",
        "\n",
        "    return current.val\n",
        "n = 5\n",
        "k = 2\n",
        "print(findTheWinner(n, k))  # Output: 3\n"
      ],
      "metadata": {
        "colab": {
          "base_uri": "https://localhost:8080/"
        },
        "id": "fg_08oG3lTtZ",
        "outputId": "8f25771e-8e28-46ba-ef9a-a53bce648998"
      },
      "execution_count": 7,
      "outputs": [
        {
          "output_type": "stream",
          "name": "stdout",
          "text": [
            "4\n"
          ]
        }
      ]
    },
    {
      "cell_type": "code",
      "source": [
        "# Question 6\n",
        "from collections import deque\n",
        "\n",
        "def deckRevealedIncreasing(deck):\n",
        "    # Sort the deck in ascending order\n",
        "    deck.sort()\n",
        "\n",
        "    # Create a queue to store the indices of the cards\n",
        "    queue = deque(range(len(deck)))\n",
        "\n",
        "    # Initialize the result list\n",
        "    result = [0] * len(deck)\n",
        "\n",
        "    # Simulate the process of revealing the cards\n",
        "    for card in deck:\n",
        "        result[queue.popleft()] = card\n",
        "        if queue:\n",
        "            queue.append(queue.popleft())\n",
        "\n",
        "    return result\n",
        "deck1 = [17, 13, 11, 2, 3, 5, 7]\n",
        "print(deckRevealedIncreasing(deck1))  # Output: [2, 13, 3, 11, 5, 17, 7]\n",
        "\n",
        "deck2 = [1, 1000]\n",
        "print(deckRevealedIncreasing(deck2))  # Output: [1, 1000]\n"
      ],
      "metadata": {
        "colab": {
          "base_uri": "https://localhost:8080/"
        },
        "id": "X60FL7qDlmoA",
        "outputId": "5dff3f0b-be60-4f36-86c1-64ee8ae007f2"
      },
      "execution_count": 8,
      "outputs": [
        {
          "output_type": "stream",
          "name": "stdout",
          "text": [
            "[2, 13, 3, 11, 5, 17, 7]\n",
            "[1, 1000]\n"
          ]
        }
      ]
    },
    {
      "cell_type": "code",
      "source": [
        "# Question 7\n",
        "class Node:\n",
        "    def __init__(self, val):\n",
        "        self.val = val\n",
        "        self.prev = None\n",
        "        self.next = None\n",
        "\n",
        "\n",
        "class FrontMiddleBackQueue:\n",
        "    def __init__(self):\n",
        "        self.head = None\n",
        "        self.tail = None\n",
        "\n",
        "    def pushFront(self, val):\n",
        "        new_node = Node(val)\n",
        "        if not self.head:\n",
        "            self.head = new_node\n",
        "            self.tail = new_node\n",
        "        else:\n",
        "            new_node.next = self.head\n",
        "            self.head.prev = new_node\n",
        "            self.head = new_node\n",
        "\n",
        "    def pushBack(self, val):\n",
        "        new_node = Node(val)\n",
        "        if not self.head:\n",
        "            self.head = new_node\n",
        "            self.tail = new_node\n",
        "        else:\n",
        "            new_node.prev = self.tail\n",
        "            self.tail.next = new_node\n",
        "            self.tail = new_node\n",
        "\n",
        "    def pushMiddle(self, val):\n",
        "        if not self.head:\n",
        "            self.pushFront(val)\n",
        "        else:\n",
        "            slow = self.head\n",
        "            fast = self.head\n",
        "            while fast and fast.next and fast.next.next:\n",
        "                slow = slow.next\n",
        "                fast = fast.next.next\n",
        "            new_node = Node(val)\n",
        "            if fast:\n",
        "                # The queue has an odd number of elements\n",
        "                new_node.next = slow.next\n",
        "                new_node.prev = slow\n",
        "                slow.next.prev = new_node\n",
        "                slow.next = new_node\n",
        "            else:\n",
        "                # The queue has an even number of elements\n",
        "                new_node.next = slow\n",
        "                new_node.prev = slow.prev\n",
        "                if slow.prev:\n",
        "                    slow.prev.next = new_node\n",
        "                slow.prev = new_node\n",
        "\n",
        "    def popFront(self):\n",
        "        if not self.head:\n",
        "            return 1\n",
        "        val = self.head.val\n",
        "        if self.head == self.tail:\n",
        "            self.head = None\n",
        "            self.tail = None\n",
        "        else:\n",
        "            self.head = self.head.next\n",
        "            self.head.prev = None\n",
        "        return val\n",
        "\n",
        "    def popMiddle(self):\n",
        "        if not self.head:\n",
        "            return 1\n",
        "        slow = self.head\n",
        "        fast = self.head\n",
        "        while fast and fast.next and fast.next.next:\n",
        "            slow = slow.next\n",
        "            fast = fast.next.next\n",
        "        val = slow.val\n",
        "        if fast:\n",
        "            # The queue has an odd number of elements\n",
        "            slow.prev.next = slow.next\n",
        "            slow.next.prev = slow.prev\n",
        "        else:\n",
        "            # The queue has an even number of elements\n",
        "            if slow.prev:\n",
        "                slow.prev.next = slow.next\n",
        "            slow.next.prev = slow.prev\n",
        "        return val\n",
        "\n",
        "    def popBack(self):\n",
        "        if not self.head:\n",
        "            return 1\n",
        "        val = self.tail.val\n",
        "        if self.head == self.tail:\n",
        "            self.head = None\n",
        "            self.tail = None\n",
        "        else:\n",
        "            self.tail = self.tail.prev\n",
        "            self.tail.next = None\n",
        "        return val\n",
        "\n"
      ],
      "metadata": {
        "id": "-axqh67rl2zU"
      },
      "execution_count": 10,
      "outputs": []
    },
    {
      "cell_type": "code",
      "source": [
        "# Question 8\n",
        "from collections import deque\n",
        "\n",
        "class DataStream:\n",
        "    def __init__(self, value, k):\n",
        "        self.queue = deque()\n",
        "        self.value = value\n",
        "        self.k = k\n",
        "\n",
        "    def consec(self, num):\n",
        "        self.queue.append(num)\n",
        "        if len(self.queue) < self.k:\n",
        "            return False\n",
        "        if len(self.queue) > self.k:\n",
        "            self.queue.popleft()\n",
        "        return all(x == self.value for x in self.queue)\n",
        "dataStream = DataStream(4, 3)\n",
        "print(dataStream.consec(4))  # Output: False\n",
        "print(dataStream.consec(4))  # Output: False\n",
        "print(dataStream.consec(4))  # Output: True\n",
        "print(dataStream.consec(3))  # Output: False\n"
      ],
      "metadata": {
        "colab": {
          "base_uri": "https://localhost:8080/"
        },
        "id": "15qPqN7amSUw",
        "outputId": "b91c398f-8527-4a98-e20e-8fdc7c3e46e9"
      },
      "execution_count": 12,
      "outputs": [
        {
          "output_type": "stream",
          "name": "stdout",
          "text": [
            "False\n",
            "False\n",
            "True\n",
            "False\n"
          ]
        }
      ]
    },
    {
      "cell_type": "code",
      "source": [],
      "metadata": {
        "id": "rXHfgxFkmX5p"
      },
      "execution_count": null,
      "outputs": []
    }
  ]
}