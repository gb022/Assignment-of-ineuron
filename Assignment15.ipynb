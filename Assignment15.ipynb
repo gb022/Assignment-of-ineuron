{
  "nbformat": 4,
  "nbformat_minor": 0,
  "metadata": {
    "colab": {
      "provenance": []
    },
    "kernelspec": {
      "name": "python3",
      "display_name": "Python 3"
    },
    "language_info": {
      "name": "python"
    }
  },
  "cells": [
    {
      "cell_type": "code",
      "execution_count": 4,
      "metadata": {
        "colab": {
          "base_uri": "https://localhost:8080/"
        },
        "id": "-cI2dXNh9tdw",
        "outputId": "eae868db-5eb0-425f-b9c9-edf3bb2dc210"
      },
      "outputs": [
        {
          "output_type": "stream",
          "name": "stdout",
          "text": [
            "[3, 4, 4, -1]\n",
            "[8, -1, 1, 3, -1]\n"
          ]
        }
      ],
      "source": [
        "# Question 1\n",
        "def findNextGreaterElements(arr):\n",
        "    stack = []\n",
        "    result = [-1] * len(arr)\n",
        "\n",
        "    for i in range(len(arr) - 1, -1, -1):\n",
        "        while stack and stack[-1] <= arr[i]:\n",
        "            stack.pop()\n",
        "\n",
        "        if stack:\n",
        "            result[i] = stack[-1]\n",
        "\n",
        "        stack.append(arr[i])\n",
        "\n",
        "    return result\n",
        "\n",
        "    # now testing the function by an example\n",
        "    arr1 = [1, 3, 2, 4]\n",
        "result1 = findNextGreaterElements(arr1)\n",
        "print(result1)  # Output: [3, 4, 4, -1]\n",
        "\n",
        "arr2 = [6, 8, 0, 1, 3]\n",
        "result2 = findNextGreaterElements(arr2)\n",
        "print(result2)  # Output: [8, -1, 1, 3, -1]\n",
        "\n"
      ]
    },
    {
      "cell_type": "code",
      "source": [
        "# Question 2\n",
        "def findNearestSmallerNumbers(a):\n",
        "    stack = []\n",
        "    result = [-1] * len(a)\n",
        "\n",
        "    for i in range(len(a)):\n",
        "        while stack and stack[-1] >= a[i]:\n",
        "            stack.pop()\n",
        "\n",
        "        if stack:\n",
        "            result[i] = stack[-1]\n",
        "\n",
        "        stack.append(a[i])\n",
        "\n",
        "    return result\n",
        "\n",
        " # now testing the function by an example\n",
        "a1 = [1, 6, 2]\n",
        "result1 = findNearestSmallerNumbers(a1)\n",
        "print(result1)  # Output: [-1, 1, 1]\n",
        "\n",
        "a2 = [1, 5, 0, 3, 4, 5]\n",
        "result2 = findNearestSmallerNumbers(a2)\n",
        "print(result2)  # Output: [-1, 1, -1, 0, 3, 4]\n"
      ],
      "metadata": {
        "colab": {
          "base_uri": "https://localhost:8080/"
        },
        "id": "mmJjZkKx90k7",
        "outputId": "63b8af88-194c-4b2f-f196-c563f6f76d2b"
      },
      "execution_count": 6,
      "outputs": [
        {
          "output_type": "stream",
          "name": "stdout",
          "text": [
            "[-1, 1, 1]\n",
            "[-1, 1, -1, 0, 3, 4]\n"
          ]
        }
      ]
    },
    {
      "cell_type": "code",
      "source": [
        "# Question 3\n",
        "class Stack:\n",
        "    def __init__(self):\n",
        "        self.q1 = []\n",
        "        self.q2 = []\n",
        "\n",
        "    def push(self, element):\n",
        "        if not self.q1:\n",
        "            self.q1.append(element)\n",
        "        else:\n",
        "            self.q2.append(element)\n",
        "\n",
        "    def pop(self):\n",
        "        if not self.q1 and not self.q2:\n",
        "            return -1\n",
        "\n",
        "        if self.q1:\n",
        "            while len(self.q1) > 1:\n",
        "                self.q2.append(self.q1.pop(0))\n",
        "            return self.q1.pop()\n",
        "\n",
        "        else:\n",
        "            while len(self.q2) > 1:\n",
        "                self.q1.append(self.q2.pop(0))\n",
        "            return self.q2.pop()\n",
        "\n",
        "\n",
        "# Testing the implementation\n",
        "stack = Stack()\n",
        "\n",
        "stack.push(2)\n",
        "stack.push(3)\n",
        "print(stack.pop())  # Output: 3\n",
        "\n",
        "stack.push(4)\n",
        "print(stack.pop())  # Output: 4\n",
        "\n",
        "stack.push(5)\n",
        "print(stack.pop())  # Output: 5\n",
        "\n",
        "stack.push(6)\n",
        "print(stack.pop())  # Output: 6\n",
        "\n",
        "print(stack.pop())  # Output: -1 (stack is empty)\n"
      ],
      "metadata": {
        "colab": {
          "base_uri": "https://localhost:8080/"
        },
        "id": "d2S1jAT0-ByQ",
        "outputId": "35a3f3e0-5801-43fe-869a-e27f37be8691"
      },
      "execution_count": 7,
      "outputs": [
        {
          "output_type": "stream",
          "name": "stdout",
          "text": [
            "2\n",
            "4\n",
            "5\n",
            "6\n",
            "3\n"
          ]
        }
      ]
    },
    {
      "cell_type": "code",
      "source": [
        "# Question 4\n",
        "def reverseStack(St):\n",
        "    if len(St) <= 1:\n",
        "        return St\n",
        "\n",
        "    top = St.pop()\n",
        "    St = reverseStack(St)\n",
        "    St = insertAtBottom(St, top)\n",
        "    return St\n",
        "\n",
        "\n",
        "def insertAtBottom(St, element):\n",
        "    if len(St) == 0:\n",
        "        St.append(element)\n",
        "        return St\n",
        "\n",
        "    top = St.pop()\n",
        "    St = insertAtBottom(St, element)\n",
        "    St.append(top)\n",
        "    return St\n",
        "\n",
        "\n",
        "# Testing the implementation\n",
        "stack1 = [3, 2, 1, 7, 6]\n",
        "reversed_stack1 = reverseStack(stack1)\n",
        "print(reversed_stack1)  # Output: [6, 7, 1, 2, 3]\n",
        "\n",
        "stack2 = [4, 3, 9, 6]\n",
        "reversed_stack2 = reverseStack(stack2)\n",
        "print(reversed_stack2)  # Output: [6, 9, 3, 4]\n"
      ],
      "metadata": {
        "colab": {
          "base_uri": "https://localhost:8080/"
        },
        "id": "32HLhmvB_XHu",
        "outputId": "1300111c-b0fa-4670-8629-b9e9b7a60e1e"
      },
      "execution_count": 8,
      "outputs": [
        {
          "output_type": "stream",
          "name": "stdout",
          "text": [
            "[6, 7, 1, 2, 3]\n",
            "[6, 9, 3, 4]\n"
          ]
        }
      ]
    },
    {
      "cell_type": "code",
      "source": [
        "# Question 5\n",
        "def reverseString(S):\n",
        "    stack = []\n",
        "    for char in S:\n",
        "        stack.append(char)\n",
        "\n",
        "    reversed_string = ''\n",
        "    while stack:\n",
        "        reversed_string += stack.pop()\n",
        "\n",
        "    return reversed_string\n",
        "\n",
        "\n",
        "# Testing the implementation\n",
        "string1 = \"GeeksforGeeks\"\n",
        "reversed_string1 = reverseString(string1)\n",
        "print(reversed_string1)  # Output: skeeGrofskeeG\n",
        "\n",
        "string2 = \"Hello, World!\"\n",
        "reversed_string2 = reverseString(string2)\n",
        "print(reversed_string2)  # Output: !dlroW ,olleH\n"
      ],
      "metadata": {
        "colab": {
          "base_uri": "https://localhost:8080/"
        },
        "id": "dxlFAjW-_l9M",
        "outputId": "01e058cd-873c-4785-a50c-277bffb50c7e"
      },
      "execution_count": 9,
      "outputs": [
        {
          "output_type": "stream",
          "name": "stdout",
          "text": [
            "skeeGrofskeeG\n",
            "!dlroW ,olleH\n"
          ]
        }
      ]
    },
    {
      "cell_type": "code",
      "source": [
        "# Question 6\n",
        "def evaluatePostfixExpression(S):\n",
        "    stack = []\n",
        "\n",
        "    for char in S:\n",
        "        if char.isdigit():\n",
        "            stack.append(int(char))\n",
        "        else:\n",
        "            operand2 = stack.pop()\n",
        "            operand1 = stack.pop()\n",
        "            result = performOperation(operand1, operand2, char)\n",
        "            stack.append(result)\n",
        "\n",
        "    return stack[0]\n",
        "\n",
        "\n",
        "def performOperation(operand1, operand2, operator):\n",
        "    if operator == '+':\n",
        "        return operand1 + operand2\n",
        "    elif operator == '-':\n",
        "        return operand1 - operand2\n",
        "    elif operator == '*':\n",
        "        return operand1 * operand2\n",
        "    elif operator == '/':\n",
        "        return operand1 / operand2\n",
        "\n",
        "\n",
        "# Testing the implementation\n",
        "expression1 = \"231*+9-\"\n",
        "result1 = evaluatePostfixExpression(expression1)\n",
        "print(result1)  # Output: -4\n",
        "\n",
        "expression2 = \"123+*8-\"\n",
        "result2 = evaluatePostfixExpression(expression2)\n",
        "print(result2)  # Output: -3\n"
      ],
      "metadata": {
        "colab": {
          "base_uri": "https://localhost:8080/"
        },
        "id": "Or61J4Ys_0ot",
        "outputId": "d0487497-7694-4028-964a-ce850735250e"
      },
      "execution_count": 10,
      "outputs": [
        {
          "output_type": "stream",
          "name": "stdout",
          "text": [
            "-4\n",
            "-3\n"
          ]
        }
      ]
    },
    {
      "cell_type": "code",
      "source": [
        "# Question 7\n",
        "class MinStack:\n",
        "    def __init__(self):\n",
        "        self.mainStack = []\n",
        "        self.minStack = []\n",
        "\n",
        "    def push(self, val):\n",
        "        self.mainStack.append(val)\n",
        "        if not self.minStack or val <= self.minStack[-1]:\n",
        "            self.minStack.append(val)\n",
        "\n",
        "    def pop(self):\n",
        "        if not self.mainStack:\n",
        "            return\n",
        "        popped = self.mainStack.pop()\n",
        "        if popped == self.minStack[-1]:\n",
        "            self.minStack.pop()\n",
        "\n",
        "    def top(self):\n",
        "        if not self.mainStack:\n",
        "            return -1\n",
        "        return self.mainStack[-1]\n",
        "\n",
        "    def getMin(self):\n",
        "        if not self.minStack:\n",
        "            return -1\n",
        "        return self.minStack[-1]\n",
        "\n",
        "\n",
        "# Testing the implementation\n",
        "minStack = MinStack()\n",
        "minStack.push(-2)\n",
        "minStack.push(0)\n",
        "minStack.push(-3)\n",
        "print(minStack.getMin())  # Output: -3\n",
        "minStack.pop()\n",
        "print(minStack.top())  # Output: 0\n",
        "print(minStack.getMin())  # Output: -2\n"
      ],
      "metadata": {
        "colab": {
          "base_uri": "https://localhost:8080/"
        },
        "id": "23rnsfP1AGRM",
        "outputId": "9427ddea-474f-45f8-e4e4-67c344a6f13c"
      },
      "execution_count": 11,
      "outputs": [
        {
          "output_type": "stream",
          "name": "stdout",
          "text": [
            "-3\n",
            "0\n",
            "-2\n"
          ]
        }
      ]
    },
    {
      "cell_type": "code",
      "source": [
        "# Question 8\n",
        "def trap(height):\n",
        "    left = 0\n",
        "    right = len(height) - 1\n",
        "    leftMax = rightMax = waterTrapped = 0\n",
        "\n",
        "    while left <= right:\n",
        "        if height[left] <= height[right]:\n",
        "            if height[left] > leftMax:\n",
        "                leftMax = height[left]\n",
        "            else:\n",
        "                waterTrapped += leftMax - height[left]\n",
        "            left += 1\n",
        "        else:\n",
        "            if height[right] > rightMax:\n",
        "                rightMax = height[right]\n",
        "            else:\n",
        "                waterTrapped += rightMax - height[right]\n",
        "            right -= 1\n",
        "\n",
        "    return waterTrapped\n",
        "\n",
        "\n",
        "# Testing the implementation\n",
        "height1 = [0, 1, 0, 2, 1, 0, 1, 3, 2, 1, 2, 1]\n",
        "print(trap(height1))  # Output: 6\n",
        "\n",
        "height2 = [4, 2, 0, 3, 2, 5]\n",
        "print(trap(height2))  # Output: 9\n"
      ],
      "metadata": {
        "colab": {
          "base_uri": "https://localhost:8080/"
        },
        "id": "AS1dq7_CAaGX",
        "outputId": "4a533ac3-07e5-4328-83f3-5d38b9395ed1"
      },
      "execution_count": 12,
      "outputs": [
        {
          "output_type": "stream",
          "name": "stdout",
          "text": [
            "6\n",
            "9\n"
          ]
        }
      ]
    },
    {
      "cell_type": "code",
      "source": [],
      "metadata": {
        "id": "twATXtC8A6qz"
      },
      "execution_count": null,
      "outputs": []
    }
  ]
}