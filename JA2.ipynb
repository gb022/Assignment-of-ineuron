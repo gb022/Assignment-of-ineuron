{
  "nbformat": 4,
  "nbformat_minor": 0,
  "metadata": {
    "colab": {
      "provenance": []
    },
    "kernelspec": {
      "name": "python3",
      "display_name": "Python 3"
    },
    "language_info": {
      "name": "python"
    }
  },
  "cells": [
    {
      "cell_type": "markdown",
      "source": [
        "Q1. What are the Conditional Operators in Java?\n",
        "\n",
        "--->\n",
        "In Java, conditional operators, also known as ternary operators, are used to perform a concise form of the if-else statement. The conditional operator consists of three operands and has the following syntax:\n",
        "\n",
        "condition ? expression1 : expression2\n",
        "\n",
        "The condition is a boolean expression that evaluates to either true or false. If the condition is true, the entire expression evaluates to expression1, and if the condition is false, it evaluates to expression2."
      ],
      "metadata": {
        "id": "HuKLNV0vU_e8"
      }
    },
    {
      "cell_type": "markdown",
      "source": [
        "Q2. What are the types of operators based on the number of operands?\n",
        "\n",
        "---> Based on the number of operands they operate on, operators in Java can be classified into three types:\n",
        "\n",
        "Unary Operators: Unary operators work with a single operand. They perform operations like increment, decrement, logical negation, and bitwise complement. The unary operators in Java are:\n",
        "\n",
        "+: Unary plus (used to indicate a positive value, but doesn't have any effect).\n",
        "\n",
        "-: Unary minus (negates the value of the operand).\n",
        "\n",
        "++: Increment (increases the value of the operand by 1).\n",
        "\n",
        "--: Decrement (decreases the value of the operand by 1).\n",
        "\n",
        "!: Logical NOT (used for boolean negation).\n",
        "\n",
        "~: Bitwise NOT (flips the bits of the operand).\n",
        "\n",
        "Binary Operators: Binary operators work with two operands. They perform arithmetic, relational, logical, and bitwise operations. The most common binary operators in Java are:\n",
        "\n",
        "Arithmetic Operators: + (addition), - (subtraction), * (multiplication), / (division), % (modulus).\n",
        "\n",
        "Relational Operators: == (equal to), != (not equal to), < (less than), > (greater than), <= (less than or equal to), >= (greater than or equal to).\n",
        "\n",
        "Logical Operators: && (logical AND), || (logical OR).\n",
        "\n",
        "Bitwise Operators: & (bitwise AND), | (bitwise OR), ^ (bitwise XOR), << (left shift), >> (right shift), >>> (unsigned right shift).\n",
        "\n",
        "Ternary Operator: The ternary operator, also known as the conditional operator, works with three operands. It is a shorthand form of the if-else statement and has the syntax:\n",
        "\n",
        "condition ? expression1 : expression2\n"
      ],
      "metadata": {
        "id": "JdxMUUp3VMhM"
      }
    },
    {
      "cell_type": "markdown",
      "source": [
        "Q3.What is the use of Switch case in Java programming?\n",
        "\n",
        "---> The switch statement in Java is a control flow statement that allows you to select one of many code blocks to be executed based on the value of an expression. It provides an efficient and more concise way to handle multiple conditional branches compared to using multiple if-else statements. The switch statement can be used with byte, short, char, int (and their wrapper classes), enums, and String (since Java 7) data types."
      ],
      "metadata": {
        "id": "Yb4SPRL2V6OK"
      }
    },
    {
      "cell_type": "markdown",
      "source": [
        "Q4.What are the conditional Statements and use of conditional statements in Java?\n",
        "\n",
        "---> Conditional statements in Java allow you to control the flow of execution based on certain conditions. These statements help you make decisions in your code and execute specific blocks of code based on whether a condition is true or false. There are two main types of conditional statements in Java: if statement and switch statement.\n",
        "\n",
        "The main use of conditional statements in Java is to control the program's logic and behavior based on certain conditions. They are commonly used for implementing decision-making, handling user input, performing different actions based on different cases, and creating menus or user interfaces with multiple options."
      ],
      "metadata": {
        "id": "8Cx8RRETXiXE"
      }
    },
    {
      "cell_type": "markdown",
      "source": [
        "Q5.What is the syntax of if else statement?\n",
        "\n",
        "if (condition) {\n",
        "\n",
        "    // Code block to be executed if the condition is true\n",
        "\n",
        "} else {\n",
        "\n",
        "    // Code block to be executed if the condition is false\n",
        "    \n",
        "}"
      ],
      "metadata": {
        "id": "e6kyBmRRYBQV"
      }
    },
    {
      "cell_type": "markdown",
      "source": [
        "Q6.How do you compare two strings in Java?\n",
        "\n",
        "---> In Java, you can compare two strings using the equals() method or the compareTo() method. It is important to use equals() for content comparison and compareTo() for lexicographic comparison (i.e., comparing strings in dictionary order)."
      ],
      "metadata": {
        "id": "zy72EntdYgnE"
      }
    },
    {
      "cell_type": "markdown",
      "source": [
        "Q7.What is Mutable String in Java Explain with an example\n",
        "\n",
        "---> In Java, strings are immutable, which means once a string object is created, its value cannot be changed. However, there is a mutable alternative to strings in Java called StringBuilder. StringBuilder is a class that provides a mutable sequence of characters, allowing you to modify the content of the string without creating a new object.\n",
        "\n",
        "Output:\n",
        "Immutable String: Hello World\n",
        "\n",
        "Mutable String: Hello World\n"
      ],
      "metadata": {
        "id": "ZBEJsz4dYtSA"
      }
    },
    {
      "cell_type": "code",
      "source": [
        "#Example\n",
        "public class MutableStringExample {\n",
        "    public static void main(String[] args) {\n",
        "        // Immutable String\n",
        "        String immutableStr = \"Hello\";\n",
        "        immutableStr = immutableStr + \" World\"; // Concatenating strings creates a new object\n",
        "        System.out.println(\"Immutable String: \" + immutableStr);\n",
        "\n",
        "        // Mutable String using StringBuilder\n",
        "        StringBuilder mutableStr = new StringBuilder(\"Hello\");\n",
        "        mutableStr.append(\" World\"); // Modifying the StringBuilder\n",
        "        System.out.println(\"Mutable String: \" + mutableStr);\n",
        "    }\n",
        "}"
      ],
      "metadata": {
        "id": "KpkJheuDY5Ny"
      },
      "execution_count": null,
      "outputs": []
    },
    {
      "cell_type": "markdown",
      "source": [
        "Q8.Write a program to sort a String Alphabetically\n",
        "\n",
        "---> Output\n",
        "\n",
        "Original String: programming\n",
        "\n",
        "Sorted String: aggimmnoprr\n"
      ],
      "metadata": {
        "id": "LDRcYu9DY_4u"
      }
    },
    {
      "cell_type": "code",
      "source": [
        "import java.util.Arrays;\n",
        "\n",
        "public class StringSortAlphabetically {\n",
        "    public static void main(String[] args) {\n",
        "        String inputString = \"programming\";\n",
        "        String sortedString = sortStringAlphabetically(inputString);\n",
        "        System.out.println(\"Original String: \" + inputString);\n",
        "        System.out.println(\"Sorted String: \" + sortedString);\n",
        "    }\n",
        "\n",
        "    public static String sortStringAlphabetically(String str) {\n",
        "        char[] charArray = str.toCharArray();\n",
        "        Arrays.sort(charArray);\n",
        "        return new String(charArray);\n",
        "    }\n",
        "}"
      ],
      "metadata": {
        "id": "24Uz62AeZNLO"
      },
      "execution_count": null,
      "outputs": []
    },
    {
      "cell_type": "markdown",
      "source": [
        "\n",
        "Q9.Write a program to check if the letter 'e' is present in the word 'Umbrella'.\n",
        "\n",
        "---> output\n",
        "\n",
        "Is 'e' present in the word? true\n",
        "\n"
      ],
      "metadata": {
        "id": "58SUVcLDZZXV"
      }
    },
    {
      "cell_type": "code",
      "source": [
        "public class CheckLetterPresence {\n",
        "    public static void main(String[] args) {\n",
        "        String word = \"Umbrella\";\n",
        "        boolean isLetterEPresent = checkLetterPresence(word, 'e');\n",
        "        System.out.println(\"Is 'e' present in the word? \" + isLetterEPresent);\n",
        "    }\n",
        "\n",
        "    public static boolean checkLetterPresence(String word, char letter) {\n",
        "        for (int i = 0; i < word.length(); i++) {\n",
        "            if (word.charAt(i) == letter) {\n",
        "                return true;\n",
        "            }\n",
        "        }\n",
        "        return false;\n",
        "    }\n",
        "}"
      ],
      "metadata": {
        "id": "rpuxgGAIZwvD"
      },
      "execution_count": null,
      "outputs": []
    },
    {
      "cell_type": "markdown",
      "source": [
        "Q10.Where exactly is the string constant pool located in the memory?\n",
        "\n",
        "---> In Java, the string constant pool is a special area of the heap memory where string literals (constant strings) are stored. The heap memory is a region of the JVM's memory used for dynamic memory allocation, and it is shared among all threads in a Java application.\n",
        "\n",
        "The string constant pool is part of the Java Runtime Environment (JRE) and is used to store unique instances of string literals to save memory. When a string literal is encountered in the code, the JVM checks if the same string value already exists in the pool. If it does, a reference to the existing string is returned; otherwise, a new entry is added to the pool with the new string value."
      ],
      "metadata": {
        "id": "tKqz_bePZ7ID"
      }
    }
  ]
}