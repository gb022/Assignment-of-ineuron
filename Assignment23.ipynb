{
  "nbformat": 4,
  "nbformat_minor": 0,
  "metadata": {
    "colab": {
      "provenance": []
    },
    "kernelspec": {
      "name": "python3",
      "display_name": "Python 3"
    },
    "language_info": {
      "name": "python"
    }
  },
  "cells": [
    {
      "cell_type": "code",
      "source": [
        "#💡 Question-1:\n",
        "'''\n",
        "Given preorder of a binary tree, calculate its **[depth(or height)](https://www.geeksforgeeks.org/write-a-c-program-to-find-the-maximum-depth-or-height-of-a-tree/)** [starting from depth 0]. The preorder is given as a string with two possible characters.\n",
        "\n",
        "1. ‘l’ denotes the leaf\n",
        "2. ‘n’ denotes internal node\n",
        "\n",
        "The given tree can be seen as a full binary tree where every node has 0 or two children. The two children of a node can ‘n’ or ‘l’ or mix of both.\n",
        "\n",
        "**Examples :**\n",
        "\n",
        "Input  : nlnll\n",
        "Output : 2\n",
        "Explanation :\n",
        "\n",
        "!https://media.geeksforgeeks.org/wp-content/uploads/btree1.png\n",
        "\n",
        "Input  : nlnnlll\n",
        "Output : 3\n",
        "\n",
        "!https://media.geeksforgeeks.org/wp-content/uploads/dia2.png\n",
        "'''"
      ],
      "metadata": {
        "colab": {
          "base_uri": "https://localhost:8080/",
          "height": 105
        },
        "id": "0VBVNJyUmiP2",
        "outputId": "ef98a318-f91b-48fb-a61f-084f626cdc92"
      },
      "execution_count": 26,
      "outputs": [
        {
          "output_type": "execute_result",
          "data": {
            "text/plain": [
              "'\\nGiven preorder of a binary tree, calculate its\\xa0**[depth(or height)](https://www.geeksforgeeks.org/write-a-c-program-to-find-the-maximum-depth-or-height-of-a-tree/)**\\xa0[starting from depth 0]. The preorder is given as a string with two possible characters.\\n\\n1. ‘l’ denotes the leaf\\n2. ‘n’ denotes internal node\\n\\nThe given tree can be seen as a full binary tree where every node has 0 or two children. The two children of a node can ‘n’ or ‘l’ or mix of both.\\n\\n**Examples :**\\n\\nInput  : nlnll\\nOutput : 2\\nExplanation :\\n\\n!https://media.geeksforgeeks.org/wp-content/uploads/btree1.png\\n\\nInput  : nlnnlll\\nOutput : 3\\n\\n!https://media.geeksforgeeks.org/wp-content/uploads/dia2.png\\n'"
            ],
            "application/vnd.google.colaboratory.intrinsic+json": {
              "type": "string"
            }
          },
          "metadata": {},
          "execution_count": 26
        }
      ]
    },
    {
      "cell_type": "code",
      "source": [
        "def calculate_tree_depth(preorder):\n",
        "    depth = 0\n",
        "    stack = []\n",
        "\n",
        "    for char in preorder:\n",
        "        if char == 'n':\n",
        "            stack.append(char)\n",
        "        elif char == 'l':\n",
        "            while stack and stack[-1] == 'l':\n",
        "                stack.pop()\n",
        "            if stack:\n",
        "                stack.pop()\n",
        "            stack.append('l')\n",
        "            depth = max(depth, len(stack) - 1)\n",
        "\n",
        "    return depth\n",
        "\n",
        "\n",
        "# Example usage\n",
        "preorder1 = 'nlnll'\n",
        "print(calculate_tree_depth(preorder1))\n",
        "# Output: 2\n",
        "\n",
        "preorder2 = 'nlnnlll'\n",
        "print(calculate_tree_depth(preorder2))\n",
        "# Output: 3\n"
      ],
      "metadata": {
        "colab": {
          "base_uri": "https://localhost:8080/"
        },
        "id": "dDmwDiUynHhx",
        "outputId": "f8885174-d638-494b-edbd-1aff6254596d"
      },
      "execution_count": 27,
      "outputs": [
        {
          "output_type": "stream",
          "name": "stdout",
          "text": [
            "1\n",
            "2\n"
          ]
        }
      ]
    },
    {
      "cell_type": "code",
      "source": [
        "#💡 Question-2:\n",
        "'''\n",
        "Given a Binary tree, the task is to print the **left view** of the Binary Tree. The left view of a Binary Tree is a set of leftmost nodes for every level.\n",
        "\n",
        "**Examples:**\n",
        "\n",
        "***Input:***\n",
        "\n",
        "            4\n",
        "\n",
        "          /   \\\n",
        "\n",
        "        5     2\n",
        "\n",
        "             /   \\\n",
        "\n",
        "            3     1\n",
        "\n",
        "           /  \\\n",
        "\n",
        "          6    7\n",
        "\n",
        "***Output:** 4 5 3 6*\n",
        "\n",
        "**Explanation:**\n",
        "\n",
        "!https://media.geeksforgeeks.org/wp-content/cdn-uploads/left-view.png\n",
        "\n",
        "***Input:***\n",
        "\n",
        "                    1\n",
        "\n",
        "                  /   \\\n",
        "\n",
        "                2       3\n",
        "\n",
        "                 \\\n",
        "\n",
        "                   4\n",
        "\n",
        "                     \\\n",
        "\n",
        "                        5\n",
        "\n",
        "                           \\\n",
        "\n",
        "                             6\n",
        "\n",
        "**Output:** 1 2 4 5 6\n",
        "'''"
      ],
      "metadata": {
        "colab": {
          "base_uri": "https://localhost:8080/",
          "height": 105
        },
        "id": "ljVhIjwnnMt-",
        "outputId": "a89954e6-c74f-4833-fade-db83ad798d92"
      },
      "execution_count": 28,
      "outputs": [
        {
          "output_type": "execute_result",
          "data": {
            "text/plain": [
              "'\\nGiven a\\xa0Binary tree, the task is to print the\\xa0**left view**\\xa0of the Binary Tree. The left view of a Binary Tree is a set of leftmost nodes for every level.\\n\\n**Examples:**\\n\\n***Input:***\\n\\n            4\\n\\n          / \\xa0 \\n        5 \\xa0 \\xa0 2\\n\\n             / \\xa0 \\n            3 \\xa0 \\xa0 1\\n\\n           / \\xa0\\n          6 \\xa0 \\xa07\\n\\n***Output:**\\xa04 5 3 6*\\n\\n**Explanation:**\\n\\n!https://media.geeksforgeeks.org/wp-content/cdn-uploads/left-view.png\\n\\n***Input:***\\n\\n                    1\\n\\n                  / \\xa0 \\n                2 \\xa0 \\xa0 \\xa0 3\\n\\n                 \\n                   4\\n\\n                     \\n                        5\\n\\n                           \\n                             6\\n\\n**Output:**\\xa01 2 4 5 6\\n'"
            ],
            "application/vnd.google.colaboratory.intrinsic+json": {
              "type": "string"
            }
          },
          "metadata": {},
          "execution_count": 28
        }
      ]
    },
    {
      "cell_type": "code",
      "source": [
        "class TreeNode:\n",
        "    def __init__(self, value):\n",
        "        self.value = value\n",
        "        self.left = None\n",
        "        self.right = None\n",
        "\n",
        "\n",
        "def print_left_view(root):\n",
        "    if root is None:\n",
        "        return\n",
        "\n",
        "    max_level = [0]  # To keep track of the maximum level reached so far\n",
        "    print_left_view_util(root, 1, max_level)\n",
        "\n",
        "\n",
        "def print_left_view_util(node, level, max_level):\n",
        "    if node is None:\n",
        "        return\n",
        "\n",
        "    # If this is the leftmost node at the current level\n",
        "    if level > max_level[0]:\n",
        "        print(node.value, end=\" \")\n",
        "        max_level[0] = level\n",
        "\n",
        "    # Recur for the left subtree first to ensure leftmost nodes are visited first\n",
        "    print_left_view_util(node.left, level + 1, max_level)\n",
        "    print_left_view_util(node.right, level + 1, max_level)\n",
        "\n",
        "\n",
        "# Example usage\n",
        "# Example 1\n",
        "# Create the binary tree\n",
        "root1 = TreeNode(4)\n",
        "root1.left = TreeNode(5)\n",
        "root1.right = TreeNode(2)\n",
        "root1.right.left = TreeNode(3)\n",
        "root1.right.right = TreeNode(1)\n",
        "root1.right.left.left = TreeNode(6)\n",
        "root1.right.left.right = TreeNode(7)\n",
        "\n",
        "# Print the left view of the binary tree\n",
        "print(\"Left view of the tree is:\", end=\" \")\n",
        "print_left_view(root1)\n",
        "# Output: Left view of the tree is: 4 5 3 6\n",
        "\n",
        "# Example 2\n",
        "# Create the binary tree\n",
        "root2 = TreeNode(1)\n",
        "root2.left = TreeNode(2)\n",
        "root2.right = TreeNode(3)\n",
        "root2.left.right = TreeNode(4)\n",
        "root2.left.right.right = TreeNode(5)\n",
        "root2.left.right.right.right = TreeNode(6)\n",
        "\n",
        "# Print the left view of the binary tree\n",
        "print(\"Left view of the tree is:\", end=\" \")\n",
        "print_left_view(root2)\n",
        "# Output: Left view of the tree is: 1 2 4 5 6\n"
      ],
      "metadata": {
        "colab": {
          "base_uri": "https://localhost:8080/"
        },
        "id": "DtmSh_T9ndDk",
        "outputId": "cd6accd8-8f58-4892-9247-ff0b438700a4"
      },
      "execution_count": 34,
      "outputs": [
        {
          "output_type": "stream",
          "name": "stdout",
          "text": [
            "Left view of the tree is: 4 5 3 6 Left view of the tree is: 1 2 4 5 6 "
          ]
        }
      ]
    },
    {
      "cell_type": "code",
      "source": [
        "#💡 Question-3:\n",
        "'''\n",
        "Given a Binary Tree, print the Right view of it.\n",
        "\n",
        "The right view of a Binary Tree is a set of nodes visible when the tree is visited from the Right side.\n",
        "\n",
        "**Examples:**\n",
        "\n",
        "**Input:**\n",
        "\n",
        "         1\n",
        "\n",
        "      /     \\\n",
        "\n",
        "   2         3\n",
        "\n",
        "/   \\       /  \\\n",
        "\n",
        "4     5   6    7\n",
        "\n",
        "             \\\n",
        "\n",
        "               8\n",
        "\n",
        "**Output**:\n",
        "\n",
        "Right view of the tree is 1 3 7 8\n",
        "\n",
        "**Input:**\n",
        "\n",
        "         1\n",
        "\n",
        "       /\n",
        "\n",
        "    8\n",
        "\n",
        "  /\n",
        "\n",
        "7\n",
        "\n",
        "**Output**:\n",
        "\n",
        "Right view of the tree is 1 8 7\n",
        "'''"
      ],
      "metadata": {
        "colab": {
          "base_uri": "https://localhost:8080/",
          "height": 87
        },
        "id": "J7qDESaPnhKU",
        "outputId": "fae4b6c1-eb9c-4cdc-8f93-e3a4e1088eca"
      },
      "execution_count": 32,
      "outputs": [
        {
          "output_type": "execute_result",
          "data": {
            "text/plain": [
              "'\\nGiven a Binary Tree, print the Right view of it.\\n\\nThe\\xa0right view of a Binary Tree\\xa0is a set of nodes visible when the tree is visited from the Right side.\\n\\n**Examples:**\\n\\n**Input:**\\n\\n         1\\n\\n      / \\xa0 \\xa0 \\n   2 \\xa0 \\xa0  \\xa0 \\xa03\\n\\n/ \\xa0 \\\\ \\xa0 \\xa0 \\xa0 / \\xa0\\n4 \\xa0 \\xa0 5 \\xa0 6 \\xa0 \\xa07\\n\\n             \\n               8\\n\\n**Output**: \\n\\nRight view of the tree is 1 3 7 8\\n\\n**Input:**\\n\\n         1\\n\\n       /\\n\\n    8\\n\\n  /\\n\\n7\\n\\n**Output**: \\n\\nRight view of the tree is 1 8 7\\n'"
            ],
            "application/vnd.google.colaboratory.intrinsic+json": {
              "type": "string"
            }
          },
          "metadata": {},
          "execution_count": 32
        }
      ]
    },
    {
      "cell_type": "code",
      "source": [
        "class TreeNode:\n",
        "    def __init__(self, value):\n",
        "        self.value = value\n",
        "        self.left = None\n",
        "        self.right = None\n",
        "\n",
        "\n",
        "def print_right_view(root):\n",
        "    if root is None:\n",
        "        return\n",
        "\n",
        "    max_level = [0]  # To keep track of the maximum level reached so far\n",
        "    print_right_view_util(root, 1, max_level)\n",
        "\n",
        "\n",
        "def print_right_view_util(node, level, max_level):\n",
        "    if node is None:\n",
        "        return\n",
        "\n",
        "    # If this is the rightmost node at the current level\n",
        "    if level > max_level[0]:\n",
        "        print(node.value, end=\" \")\n",
        "        max_level[0] = level\n",
        "\n",
        "    # Recur for the right subtree first to ensure rightmost nodes are visited first\n",
        "    print_right_view_util(node.right, level + 1, max_level)\n",
        "    print_right_view_util(node.left, level + 1, max_level)\n",
        "\n",
        "\n",
        "# Example usage\n",
        "# Example 1\n",
        "# Create the binary tree\n",
        "root1 = TreeNode(1)\n",
        "root1.left = TreeNode(2)\n",
        "root1.right = TreeNode(3)\n",
        "root1.left.left = TreeNode(4)\n",
        "root1.left.right = TreeNode(5)\n",
        "root1.right.left = TreeNode(6)\n",
        "root1.right.right = TreeNode(7)\n",
        "root1.right.right.right = TreeNode(8)\n",
        "\n",
        "# Print the right view of the binary tree\n",
        "print(\"Right view of the tree is:\", end=\" \")\n",
        "print_right_view(root1)\n",
        "# Output: Right view of the tree is: 1 3 7 8\n",
        "\n",
        "# Example 2\n",
        "# Create the binary tree\n",
        "root2 = TreeNode(1)\n",
        "root2.left = TreeNode(8)\n",
        "root2.left.left = TreeNode(7)\n",
        "\n",
        "# Print the right view of the binary tree\n",
        "print(\"Right view of the tree is:\", end=\" \")\n",
        "print_right_view(root2)\n",
        "# Output: Right view of the tree is: 1 8 7\n"
      ],
      "metadata": {
        "colab": {
          "base_uri": "https://localhost:8080/"
        },
        "id": "YJpdKauYnspA",
        "outputId": "205a563c-8850-40c8-9445-9069d6de4340"
      },
      "execution_count": 33,
      "outputs": [
        {
          "output_type": "stream",
          "name": "stdout",
          "text": [
            "Right view of the tree is: 1 3 7 8 Right view of the tree is: 1 8 7 "
          ]
        }
      ]
    },
    {
      "cell_type": "code",
      "source": [
        "#💡 Question-4:\n",
        "'''\n",
        "Given a Binary Tree, The task is to print the **bottom view** from left to right. A node **x** is there in output if x is the bottommost node at its horizontal distance. The horizontal distance of the left child of a node x is equal to a horizontal distance of x minus 1, and that of a right child is the horizontal distance of x plus 1.\n",
        "\n",
        "**Examples:**\n",
        "\n",
        "**Input:**\n",
        "\n",
        "             20\n",
        "\n",
        "           /     \\\n",
        "\n",
        "        8         22\n",
        "\n",
        "    /      \\         \\\n",
        "\n",
        "5         3        25\n",
        "\n",
        "        /    \\\n",
        "\n",
        "   10       14\n",
        "\n",
        "**Output:** 5, 10, 3, 14, 25.\n",
        "\n",
        "**Input:**\n",
        "\n",
        "             20\n",
        "\n",
        "           /     \\\n",
        "\n",
        "        8         22\n",
        "\n",
        "    /      \\      /   \\\n",
        "\n",
        " 5         3    4     25\n",
        "\n",
        "         /    \\\n",
        "\n",
        "     10       14\n",
        "\n",
        "**Output:**\n",
        "\n",
        "5 10 4 14 25.\n",
        "\n",
        "**Explanation:**\n",
        "\n",
        "If there are multiple bottom-most nodes for a horizontal distance from the root, then print the later one in the level traversal.\n",
        "\n",
        "**3 and 4** are both the bottom-most nodes at a horizontal distance of 0, we need to print 4.\n",
        "'''"
      ],
      "metadata": {
        "colab": {
          "base_uri": "https://localhost:8080/",
          "height": 122
        },
        "id": "GRK9-hxEoHHD",
        "outputId": "2926dce8-152e-416b-cbeb-8ed1e7b6ce4f"
      },
      "execution_count": 35,
      "outputs": [
        {
          "output_type": "execute_result",
          "data": {
            "text/plain": [
              "'\\nGiven a Binary Tree, The task is to print the\\xa0**bottom view**\\xa0from left to right. A node\\xa0**x**\\xa0is there in output if x is the bottommost node at its horizontal distance. The horizontal distance of the left child of a node x is equal to a horizontal distance of x minus 1, and that of a right child is the horizontal distance of x plus 1.\\n\\n**Examples:**\\n\\n**Input:**\\n\\n             20\\n\\n           / \\xa0 \\xa0 \\n        8 \\xa0 \\xa0 \\xa0 \\xa0 22\\n\\n    / \\xa0 \\xa0 \\xa0\\\\ \\xa0 \\xa0 \\xa0 \\xa0 \\n5 \\xa0 \\xa0 \\xa0 \\xa0 3 \\xa0 \\xa0 \\xa0 \\xa025\\n\\n        / \\xa0 \\xa0\\n   10 \\xa0 \\xa0 \\xa0 14\\n\\n**Output:**\\xa05, 10, 3, 14, 25.\\n\\n**Input:**\\n\\n             20\\n\\n           / \\xa0 \\xa0 \\n        8 \\xa0 \\xa0 \\xa0 \\xa0 22\\n\\n    / \\xa0 \\xa0 \\xa0\\\\ \\xa0 \\xa0 \\xa0/ \\xa0 \\n 5 \\xa0 \\xa0 \\xa0 \\xa0 3 \\xa0  4 \\xa0 \\xa0 25\\n\\n         / \\xa0 \\xa0\\n     10 \\xa0 \\xa0 \\xa0 14\\n\\n**Output:**\\n\\n5 10 4 14 25.\\n\\n**Explanation:**\\n\\nIf there are multiple bottom-most nodes for a horizontal distance from the root, then print the later one in the level traversal.\\n\\n**3 and 4** are both the bottom-most nodes at a horizontal distance of 0, we need to print 4.\\n'"
            ],
            "application/vnd.google.colaboratory.intrinsic+json": {
              "type": "string"
            }
          },
          "metadata": {},
          "execution_count": 35
        }
      ]
    },
    {
      "cell_type": "code",
      "source": [
        "from collections import deque\n",
        "\n",
        "\n",
        "class TreeNode:\n",
        "    def __init__(self, value):\n",
        "        self.value = value\n",
        "        self.left = None\n",
        "        self.right = None\n",
        "        self.horizontal_distance = 0\n",
        "\n",
        "\n",
        "def print_bottom_view(root):\n",
        "    if root is None:\n",
        "        return\n",
        "\n",
        "    # Dictionary to store the nodes at each horizontal distance\n",
        "    horizontal_distance_map = {}\n",
        "\n",
        "    # Queue for level-order traversal\n",
        "    queue = deque()\n",
        "    queue.append(root)\n",
        "\n",
        "    while queue:\n",
        "        node = queue.popleft()\n",
        "\n",
        "        # Update the horizontal distance of the node\n",
        "        horizontal_distance = node.horizontal_distance\n",
        "        horizontal_distance_map[horizontal_distance] = node.value\n",
        "\n",
        "        # Enqueue the left child with the updated horizontal distance\n",
        "        if node.left:\n",
        "            node.left.horizontal_distance = horizontal_distance - 1\n",
        "            queue.append(node.left)\n",
        "\n",
        "        # Enqueue the right child with the updated horizontal distance\n",
        "        if node.right:\n",
        "            node.right.horizontal_distance = horizontal_distance + 1\n",
        "            queue.append(node.right)\n",
        "\n",
        "    # Print the nodes from the dictionary in the order of their horizontal distance\n",
        "    for hd in sorted(horizontal_distance_map.keys()):\n",
        "        print(horizontal_distance_map[hd], end=\" \")\n",
        "\n",
        "\n",
        "# Example usage\n",
        "# Example 1\n",
        "# Create the binary tree\n",
        "root1 = TreeNode(20)\n",
        "root1.left = TreeNode(8)\n",
        "root1.right = TreeNode(22)\n",
        "root1.left.left = TreeNode(5)\n",
        "root1.left.right = TreeNode(3)\n",
        "root1.right.right = TreeNode(25)\n",
        "root1.left.right.left = TreeNode(10)\n",
        "root1.left.right.right = TreeNode(14)\n",
        "\n",
        "# Print the bottom view of the binary tree\n",
        "print(\"Bottom view of the tree is:\", end=\" \")\n",
        "print_bottom_view(root1)\n",
        "# Output: Bottom view of the tree is: 5 10 3 14 25\n",
        "\n",
        "# Example 2\n",
        "# Create the binary tree\n",
        "root2 = TreeNode(20)\n",
        "root2.left = TreeNode(8)\n",
        "root2.right = TreeNode(22)\n",
        "root2.left.left = TreeNode(5)\n",
        "root2.left.right = TreeNode(3)\n",
        "root2.right.left = TreeNode(4)\n",
        "root2.right.right = TreeNode(25)\n",
        "root2.left.right.left = TreeNode(10)\n",
        "root2.left.right.right = TreeNode(14)\n",
        "\n",
        "# Print the bottom view of the binary tree\n",
        "print(\"Bottom view of the tree is:\", end=\" \")\n",
        "print_bottom_view(root2)\n",
        "# Output: Bottom view of the tree is: 5 10 4 14 25\n"
      ],
      "metadata": {
        "colab": {
          "base_uri": "https://localhost:8080/"
        },
        "id": "_TukUQiGomUx",
        "outputId": "7f976ccf-6bb7-4c0d-b3a6-92d8e0b82690"
      },
      "execution_count": 36,
      "outputs": [
        {
          "output_type": "stream",
          "name": "stdout",
          "text": [
            "Bottom view of the tree is: 5 10 3 14 25 Bottom view of the tree is: 5 10 4 14 25 "
          ]
        }
      ]
    },
    {
      "cell_type": "code",
      "source": [],
      "metadata": {
        "id": "yv5LPFmko0ZA"
      },
      "execution_count": null,
      "outputs": []
    }
  ]
}