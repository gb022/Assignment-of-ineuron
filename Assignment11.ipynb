{
  "nbformat": 4,
  "nbformat_minor": 0,
  "metadata": {
    "colab": {
      "provenance": []
    },
    "kernelspec": {
      "name": "python3",
      "display_name": "Python 3"
    },
    "language_info": {
      "name": "python"
    }
  },
  "cells": [
    {
      "cell_type": "code",
      "execution_count": 3,
      "metadata": {
        "id": "RqUVOP2O5NgT"
      },
      "outputs": [],
      "source": [
        "# Question 1\n",
        "def mySqrt(x):\n",
        "    if x <= 1:\n",
        "        return x\n",
        "\n",
        "    left = 0\n",
        "    right = x\n",
        "\n",
        "    while left <= right:\n",
        "        mid = (left + right) // 2\n",
        "        square = mid * mid\n",
        "\n",
        "        if square == x:\n",
        "            return mid\n",
        "        elif square < x:\n",
        "            left = mid + 1\n",
        "        else:\n",
        "            right = mid - 1\n",
        "\n",
        "    return right\n",
        "\n"
      ]
    },
    {
      "cell_type": "code",
      "source": [
        "print(mySqrt(9)) # output = 3\n",
        "print(mySqrt(19)) # output = 4"
      ],
      "metadata": {
        "colab": {
          "base_uri": "https://localhost:8080/"
        },
        "id": "rA49Gpl-6ttn",
        "outputId": "6a052892-60e6-4ee5-ea2c-65500964ccc3"
      },
      "execution_count": 5,
      "outputs": [
        {
          "output_type": "stream",
          "name": "stdout",
          "text": [
            "3\n",
            "4\n"
          ]
        }
      ]
    },
    {
      "cell_type": "code",
      "source": [
        "# Question 2\n",
        "def findPeakElement(nums):\n",
        "    left = 0\n",
        "    right = len(nums) - 1\n",
        "\n",
        "    while left < right:\n",
        "        mid = (left + right) // 2\n",
        "\n",
        "        if nums[mid] > nums[mid+1]:\n",
        "            right = mid\n",
        "        else:\n",
        "            left = mid + 1\n",
        "\n",
        "    return left"
      ],
      "metadata": {
        "id": "L4iZ5U3p67zt"
      },
      "execution_count": 6,
      "outputs": []
    },
    {
      "cell_type": "code",
      "source": [
        "print(findPeakElement([1, 2, 3, 1]))  # Output: 2\n",
        "print(findPeakElement([1, 2, 1, 3, 5, 6, 4]))  # Output: 5 or 6\n"
      ],
      "metadata": {
        "colab": {
          "base_uri": "https://localhost:8080/"
        },
        "id": "NdrV9Kzi8LDu",
        "outputId": "f8ffe52c-3e01-4cef-ae1a-caa969d681fc"
      },
      "execution_count": 7,
      "outputs": [
        {
          "output_type": "stream",
          "name": "stdout",
          "text": [
            "2\n",
            "5\n"
          ]
        }
      ]
    },
    {
      "cell_type": "code",
      "source": [
        "# Question 3\n",
        "def missingNumber(nums):\n",
        "    n = len(nums)\n",
        "    total_sum = n * (n + 1) // 2\n",
        "\n",
        "    for num in nums:\n",
        "        total_sum -= num\n",
        "\n",
        "    return total_sum\n"
      ],
      "metadata": {
        "id": "1d4Lndwf8WRp"
      },
      "execution_count": 8,
      "outputs": []
    },
    {
      "cell_type": "code",
      "source": [
        "print(missingNumber([3, 0, 1]))  # Output: 2\n",
        "print(missingNumber([0, 1]))  # Output: 2\n",
        "print(missingNumber([9, 6, 4, 2, 3, 5, 7, 0, 1]))  # Output: 8\n"
      ],
      "metadata": {
        "colab": {
          "base_uri": "https://localhost:8080/"
        },
        "id": "Wf4iYRlG9wmS",
        "outputId": "a97c0500-a3ac-414a-fd7f-a90589f25bda"
      },
      "execution_count": 9,
      "outputs": [
        {
          "output_type": "stream",
          "name": "stdout",
          "text": [
            "2\n",
            "2\n",
            "8\n"
          ]
        }
      ]
    },
    {
      "cell_type": "code",
      "source": [
        "# Question 4\n",
        "def findDuplicate(nums):\n",
        "    n = len(nums) - 1\n",
        "    left = 1\n",
        "    right = n\n",
        "\n",
        "    while left < right:\n",
        "        midpoint = (left + right) // 2\n",
        "        smaller_count = sum(num <= midpoint for num in nums)\n",
        "\n",
        "        if smaller_count > midpoint:\n",
        "            right = midpoint\n",
        "        else:\n",
        "            left = midpoint + 1\n",
        "\n",
        "    return left\n"
      ],
      "metadata": {
        "id": "XU119F1I930i"
      },
      "execution_count": 10,
      "outputs": []
    },
    {
      "cell_type": "code",
      "source": [
        "print(findDuplicate([1, 3, 4, 2, 2]))  # Output: 2\n",
        "print(findDuplicate([3, 1, 3, 4, 2]))  # Output: 3\n"
      ],
      "metadata": {
        "colab": {
          "base_uri": "https://localhost:8080/"
        },
        "id": "gVwTh1Pf-Tf-",
        "outputId": "5ef95364-3f56-4945-e3ef-5c5d394cc98d"
      },
      "execution_count": 11,
      "outputs": [
        {
          "output_type": "stream",
          "name": "stdout",
          "text": [
            "2\n",
            "3\n"
          ]
        }
      ]
    },
    {
      "cell_type": "code",
      "source": [
        "# Question 5\n",
        "def intersection(nums1, nums2):\n",
        "    set1 = set(nums1)\n",
        "    set2 = set(nums2)\n",
        "    intersection_set = set()\n",
        "\n",
        "    for num in set1:\n",
        "        if num in set2:\n",
        "            intersection_set.add(num)\n",
        "\n",
        "    return list(intersection_set)\n"
      ],
      "metadata": {
        "id": "JjdDj8E3-XaA"
      },
      "execution_count": 12,
      "outputs": []
    },
    {
      "cell_type": "code",
      "source": [
        "print(intersection([1, 2, 2, 1], [2, 2]))  # Output: [2]\n",
        "print(intersection([4, 9, 5], [9, 4, 9, 8, 4]))  # Output: [9, 4]\n"
      ],
      "metadata": {
        "colab": {
          "base_uri": "https://localhost:8080/"
        },
        "id": "sxwR15J8-2JJ",
        "outputId": "0e6684c5-4b95-4df3-fbe3-9f2eed6fad26"
      },
      "execution_count": 13,
      "outputs": [
        {
          "output_type": "stream",
          "name": "stdout",
          "text": [
            "[2]\n",
            "[9, 4]\n"
          ]
        }
      ]
    },
    {
      "cell_type": "code",
      "source": [
        "# Question 6\n",
        "def findMin(nums):\n",
        "    left = 0\n",
        "    right = len(nums) - 1\n",
        "\n",
        "    while left < right:\n",
        "        mid = (left + right) // 2\n",
        "\n",
        "        if nums[mid] > nums[right]:\n",
        "            left = mid + 1\n",
        "        else:\n",
        "            right = mid\n",
        "\n",
        "    return nums[left]\n"
      ],
      "metadata": {
        "id": "NQEgnj0N-5kM"
      },
      "execution_count": 14,
      "outputs": []
    },
    {
      "cell_type": "code",
      "source": [
        "print(findMin([3, 4, 5, 1, 2]))  # Output: 1\n",
        "print(findMin([4, 5, 6, 7, 0, 1, 2]))  # Output: 0\n",
        "print(findMin([11, 13, 15, 17]))  # Output: 11\n"
      ],
      "metadata": {
        "colab": {
          "base_uri": "https://localhost:8080/"
        },
        "id": "fPfclcLG_Jap",
        "outputId": "dd66a648-4d68-463c-8125-55850509e725"
      },
      "execution_count": 15,
      "outputs": [
        {
          "output_type": "stream",
          "name": "stdout",
          "text": [
            "1\n",
            "0\n",
            "11\n"
          ]
        }
      ]
    },
    {
      "cell_type": "code",
      "source": [
        "# Question 7\n",
        "def searchRange(nums, target):\n",
        "    left = -1\n",
        "    right = -1\n",
        "\n",
        "    # Find the leftmost occurrence\n",
        "    l = 0\n",
        "    r = len(nums) - 1\n",
        "\n",
        "    while l <= r:\n",
        "        mid = (l + r) // 2\n",
        "\n",
        "        if nums[mid] >= target:\n",
        "            r = mid - 1\n",
        "        else:\n",
        "            l = mid + 1\n",
        "\n",
        "    if l < len(nums) and nums[l] == target:\n",
        "        left = l\n",
        "\n",
        "    # Find the rightmost occurrence\n",
        "    l = 0\n",
        "    r = len(nums) - 1\n",
        "\n",
        "    while l <= r:\n",
        "        mid = (l + r) // 2\n",
        "\n",
        "        if nums[mid] > target:\n",
        "            r = mid - 1\n",
        "        else:\n",
        "            l = mid + 1\n",
        "\n",
        "    if r >= 0 and nums[r] == target:\n",
        "        right = r\n",
        "\n",
        "    return [left, right]\n"
      ],
      "metadata": {
        "id": "yaJL6Ak__SYN"
      },
      "execution_count": 16,
      "outputs": []
    },
    {
      "cell_type": "code",
      "source": [
        "print(searchRange([5, 7, 7, 8, 8, 10], 8))  # Output: [3, 4]\n",
        "print(searchRange([5, 7, 7, 8, 8, 10], 6))  # Output: [-1, -1]\n",
        "print(searchRange([], 0))  # Output: [-1, -1]\n"
      ],
      "metadata": {
        "colab": {
          "base_uri": "https://localhost:8080/"
        },
        "id": "6IfKYlXH_wA3",
        "outputId": "32edd215-2236-491b-d62f-911cb5c9b8e7"
      },
      "execution_count": 19,
      "outputs": [
        {
          "output_type": "stream",
          "name": "stdout",
          "text": [
            "[3, 4]\n",
            "[-1, -1]\n",
            "[-1, -1]\n"
          ]
        }
      ]
    },
    {
      "cell_type": "code",
      "source": [
        "# Question 8\n",
        "def intersect(nums1, nums2):\n",
        "    freq = {}\n",
        "\n",
        "    # Count the frequency of each number in nums1\n",
        "    for num in nums1:\n",
        "        freq[num] = freq.get(num, 0) + 1\n",
        "\n",
        "    intersection = []\n",
        "\n",
        "    # Find the intersection of nums1 and nums2\n",
        "    for num in nums2:\n",
        "        if num in freq and freq[num] > 0:\n",
        "            intersection.append(num)\n",
        "            freq[num] -= 1\n",
        "\n",
        "    return intersection\n",
        "\n",
        "\n"
      ],
      "metadata": {
        "id": "lqWzSrsG_2Vj"
      },
      "execution_count": 20,
      "outputs": []
    },
    {
      "cell_type": "code",
      "source": [
        "print(intersect([1, 2, 2, 1], [2, 2]))  # Output: [2, 2]\n",
        "print(intersect([4, 9, 5], [9, 4, 9, 8, 4]))  # Output: [4, 9]\n"
      ],
      "metadata": {
        "colab": {
          "base_uri": "https://localhost:8080/"
        },
        "id": "CYBej8uQAfGg",
        "outputId": "301b0a97-7d07-4971-a11d-57e204fcd80b"
      },
      "execution_count": 21,
      "outputs": [
        {
          "output_type": "stream",
          "name": "stdout",
          "text": [
            "[2, 2]\n",
            "[9, 4]\n"
          ]
        }
      ]
    },
    {
      "cell_type": "code",
      "source": [],
      "metadata": {
        "id": "CZX0MCQ2AjGr"
      },
      "execution_count": null,
      "outputs": []
    }
  ]
}