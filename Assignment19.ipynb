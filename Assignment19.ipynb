{
  "nbformat": 4,
  "nbformat_minor": 0,
  "metadata": {
    "colab": {
      "provenance": []
    },
    "kernelspec": {
      "name": "python3",
      "display_name": "Python 3"
    },
    "language_info": {
      "name": "python"
    }
  },
  "cells": [
    {
      "cell_type": "code",
      "execution_count": 6,
      "metadata": {
        "id": "NVifKx6Lpyan"
      },
      "outputs": [],
      "source": [
        "# Question 1\n",
        "import heapq\n",
        "\n",
        "class ListNode:\n",
        "    def __init__(self, val=0, next=None):\n",
        "        self.val = val\n",
        "        self.next = next\n",
        "\n",
        "def mergeKLists(lists):\n",
        "    heap = []\n",
        "    dummy = ListNode()\n",
        "    curr = dummy\n",
        "\n",
        "    # Add the head nodes of each list to the min-heap\n",
        "    for head in lists:\n",
        "        if head:\n",
        "            heapq.heappush(heap, (head.val, head))\n",
        "\n",
        "    # Merge the lists by picking the smallest node from the min-heap\n",
        "    while heap:\n",
        "        val, node = heapq.heappop(heap)\n",
        "        curr.next = node\n",
        "        curr = curr.next\n",
        "\n",
        "        if node.next:\n",
        "            heapq.heappush(heap, (node.next.val, node.next))\n",
        "\n",
        "    return dummy.next\n",
        "\n"
      ]
    },
    {
      "cell_type": "code",
      "source": [
        "# Question 2\n",
        "def countSmaller(nums):\n",
        "    def mergeAndCount(left, right):\n",
        "        merged = []\n",
        "        count = 0\n",
        "        i = j = 0\n",
        "\n",
        "        while i < len(left) and j < len(right):\n",
        "            if left[i][1] <= right[j][1]:\n",
        "                merged.append(left[i])\n",
        "                counts[left[i][0]] += count\n",
        "                i += 1\n",
        "            else:\n",
        "                merged.append(right[j])\n",
        "                count += 1\n",
        "                j += 1\n",
        "\n",
        "        merged.extend(left[i:])\n",
        "        merged.extend(right[j:])\n",
        "        return merged\n",
        "\n",
        "    def mergeSortAndCount(nums):\n",
        "        if len(nums) <= 1:\n",
        "            return nums\n",
        "\n",
        "        mid = len(nums) // 2\n",
        "        left = mergeSortAndCount(nums[:mid])\n",
        "        right = mergeSortAndCount(nums[mid:])\n",
        "\n",
        "        return mergeAndCount(left, right)\n",
        "\n",
        "    counts = [0] * len(nums)\n",
        "    nums = [(i, num) for i, num in enumerate(nums)]\n",
        "    mergeSortAndCount(nums)\n",
        "    return counts\n",
        "nums = [5, 2, 6, 1]\n",
        "result = countSmaller(nums)\n",
        "print(result)  # Output: [2, 1, 1, 0]\n"
      ],
      "metadata": {
        "colab": {
          "base_uri": "https://localhost:8080/"
        },
        "id": "1iEfmRVBp6M9",
        "outputId": "c2012e54-a045-4b5a-8383-6c2e7f5d3189"
      },
      "execution_count": 3,
      "outputs": [
        {
          "output_type": "stream",
          "name": "stdout",
          "text": [
            "[1, 1, 0, 0]\n"
          ]
        }
      ]
    },
    {
      "cell_type": "code",
      "source": [
        "# Question 3\n",
        "def sortArray(nums):\n",
        "    def partition(nums, low, high):\n",
        "        pivot = nums[high]\n",
        "        i = low\n",
        "\n",
        "        for j in range(low, high):\n",
        "            if nums[j] <= pivot:\n",
        "                nums[i], nums[j] = nums[j], nums[i]\n",
        "                i += 1\n",
        "\n",
        "        nums[i], nums[high] = nums[high], nums[i]\n",
        "        return i\n",
        "\n",
        "    def quickSort(nums, low, high):\n",
        "        if low < high:\n",
        "            pivot = partition(nums, low, high)\n",
        "            quickSort(nums, low, pivot - 1)\n",
        "            quickSort(nums, pivot + 1, high)\n",
        "\n",
        "    quickSort(nums, 0, len(nums) - 1)\n",
        "    return nums\n",
        "nums = [5, 2, 3, 1]\n",
        "result = sortArray(nums)\n",
        "print(result)  # Output: [1, 2, 3, 5]\n",
        "\n",
        "nums = [5, 1, 1, 2, 0, 0]\n",
        "result = sortArray(nums)\n",
        "print(result)  # Output: [0, 0, 1, 1, 2, 5]\n"
      ],
      "metadata": {
        "colab": {
          "base_uri": "https://localhost:8080/"
        },
        "id": "UnIvX_IyqQs0",
        "outputId": "a56efc4b-e091-4452-d59c-edab6ef55df3"
      },
      "execution_count": 7,
      "outputs": [
        {
          "output_type": "stream",
          "name": "stdout",
          "text": [
            "[1, 2, 3, 5]\n",
            "[0, 0, 1, 1, 2, 5]\n"
          ]
        }
      ]
    },
    {
      "cell_type": "code",
      "source": [
        "# Question 4\n",
        "def pushZerosToEnd(arr):\n",
        "    writeIdx = 0\n",
        "\n",
        "    for readIdx in range(len(arr)):\n",
        "        if arr[readIdx] != 0:\n",
        "            arr[writeIdx] = arr[readIdx]\n",
        "            writeIdx += 1\n",
        "\n",
        "    for i in range(writeIdx, len(arr)):\n",
        "        arr[i] = 0\n",
        "\n",
        "    return arr\n",
        "arr = [1, 9, 8, 4, 0, 0, 2, 7, 0, 6, 0]\n",
        "result = pushZerosToEnd(arr)\n",
        "print(result)  # Output: [1, 9, 8, 4, 2, 7, 6, 0, 0, 0, 0]\n",
        "\n",
        "arr = [1, 2, 0, 4, 3, 0, 5, 0]\n",
        "result = pushZerosToEnd(arr)\n",
        "print(result)  # Output: [1, 2, 4, 3, 5, 0, 0, 0]\n",
        "\n",
        "arr = [1, 2, 0, 0, 0, 3, 6]\n",
        "result = pushZerosToEnd(arr)\n",
        "print(result)  # Output: [1, 2, 3, 6, 0, 0, 0]\n"
      ],
      "metadata": {
        "colab": {
          "base_uri": "https://localhost:8080/"
        },
        "id": "eCUUf-WmqyTP",
        "outputId": "6d92b0f6-d7ae-4faa-99f5-6136521bf209"
      },
      "execution_count": 8,
      "outputs": [
        {
          "output_type": "stream",
          "name": "stdout",
          "text": [
            "[1, 9, 8, 4, 2, 7, 6, 0, 0, 0, 0]\n",
            "[1, 2, 4, 3, 5, 0, 0, 0]\n",
            "[1, 2, 3, 6, 0, 0, 0]\n"
          ]
        }
      ]
    },
    {
      "cell_type": "code",
      "source": [
        "# Question 5\n",
        "def alternateArrange(arr):\n",
        "    posIdx = 0\n",
        "    negIdx = 0\n",
        "\n",
        "    # Swap positive and negative numbers\n",
        "    while negIdx < len(arr) and posIdx < len(arr):\n",
        "        if arr[posIdx] >= 0:\n",
        "            posIdx += 1\n",
        "        elif arr[negIdx] < 0:\n",
        "            negIdx += 1\n",
        "        else:\n",
        "            arr[posIdx], arr[negIdx] = arr[negIdx], arr[posIdx]\n",
        "            posIdx += 1\n",
        "            negIdx += 1\n",
        "\n",
        "    # Alternate positive and negative numbers\n",
        "    negIdx = posIdx\n",
        "    while posIdx < len(arr) and negIdx < len(arr):\n",
        "        arr[posIdx], arr[negIdx] = arr[negIdx], arr[posIdx]\n",
        "        posIdx += 2\n",
        "        negIdx += 1\n",
        "\n",
        "    return arr\n",
        "arr = [1, 2, 3, -4, -1, 4]\n",
        "result = alternateArrange(arr)\n",
        "print(result)  # Output: [-4, 1, -1, 2, 3, 4]\n",
        "\n",
        "arr = [-5, -2, 5, 2, 4, 7, 1, 8, 0, -8]\n",
        "result = alternateArrange(arr)\n",
        "print(result)  # Output: [-5, 5, -2, 2, -8, 4, 7, 1, 8, 0]\n"
      ],
      "metadata": {
        "colab": {
          "base_uri": "https://localhost:8080/"
        },
        "id": "78RHX4BArJjO",
        "outputId": "a871fafa-367d-455a-92c0-9ab7739941fc"
      },
      "execution_count": 9,
      "outputs": [
        {
          "output_type": "stream",
          "name": "stdout",
          "text": [
            "[-4, -1, 3, 1, 2, 4]\n",
            "[5, 2, 4, 7, 1, 8, 0, -2, -8, -5]\n"
          ]
        }
      ]
    },
    {
      "cell_type": "code",
      "source": [
        "# Question 6\n",
        "def mergeSortedArrays(arr1, arr2):\n",
        "    len1 = len(arr1)\n",
        "    len2 = len(arr2)\n",
        "    i = j = k = 0\n",
        "    arr3 = [0] * (len1 + len2)\n",
        "\n",
        "    while i < len1 and j < len2:\n",
        "        if arr1[i] <= arr2[j]:\n",
        "            arr3[k] = arr1[i]\n",
        "            i += 1\n",
        "        else:\n",
        "            arr3[k] = arr2[j]\n",
        "            j += 1\n",
        "        k += 1\n",
        "\n",
        "    while i < len1:\n",
        "        arr3[k] = arr1[i]\n",
        "        i += 1\n",
        "        k += 1\n",
        "\n",
        "    while j < len2:\n",
        "        arr3[k] = arr2[j]\n",
        "        j += 1\n",
        "        k += 1\n",
        "\n",
        "    return arr3\n",
        "arr = [1, 2, 3, -4, -1, 4]\n",
        "result = alternateArrange(arr)\n",
        "print(result)  # Output: [-4, 1, -1, 2, 3, 4]\n",
        "\n",
        "arr = [-5, -2, 5, 2, 4, 7, 1, 8, 0, -8]\n",
        "result = alternateArrange(arr)\n",
        "print(result)  # Output: [-5, 5, -2, 2, -8, 4, 7, 1, 8, 0]\n"
      ],
      "metadata": {
        "colab": {
          "base_uri": "https://localhost:8080/"
        },
        "id": "3DBtrizTrZtl",
        "outputId": "8d6e0425-ce90-4405-f533-fe96ba951ddf"
      },
      "execution_count": 10,
      "outputs": [
        {
          "output_type": "stream",
          "name": "stdout",
          "text": [
            "[-4, -1, 3, 1, 2, 4]\n",
            "[5, 2, 4, 7, 1, 8, 0, -2, -8, -5]\n"
          ]
        }
      ]
    },
    {
      "cell_type": "code",
      "source": [
        "# Question 7\n",
        "def intersection(nums1, nums2):\n",
        "    set1 = set(nums1)\n",
        "    intersection = []\n",
        "\n",
        "    for num in nums2:\n",
        "        if num in set1:\n",
        "            intersection.append(num)\n",
        "            set1.remove(num)\n",
        "\n",
        "    return intersection\n",
        "# Example 1\n",
        "nums1 = [1, 2, 2, 1]\n",
        "nums2 = [2, 2]\n",
        "print(intersection(nums1, nums2))\n",
        "# Output: [2]\n",
        "\n",
        "# Example 2\n",
        "nums1 = [4, 9, 5]\n",
        "nums2 = [9, 4, 9, 8, 4]\n",
        "print(intersection(nums1, nums2))\n",
        "# Output: [9, 4]\n"
      ],
      "metadata": {
        "colab": {
          "base_uri": "https://localhost:8080/"
        },
        "id": "FIm6dqwrrwIq",
        "outputId": "44b37431-240d-4345-999a-0bfaf0e50f11"
      },
      "execution_count": 11,
      "outputs": [
        {
          "output_type": "stream",
          "name": "stdout",
          "text": [
            "[2]\n",
            "[9, 4]\n"
          ]
        }
      ]
    },
    {
      "cell_type": "code",
      "source": [
        " # Question 8\n",
        " def intersection(nums1, nums2):\n",
        "    freq_map = {}\n",
        "\n",
        "    for num in nums1:\n",
        "        if num in freq_map:\n",
        "            freq_map[num] += 1\n",
        "        else:\n",
        "            freq_map[num] = 1\n",
        "\n",
        "    intersection = []\n",
        "\n",
        "    for num in nums2:\n",
        "        if num in freq_map and freq_map[num] > 0:\n",
        "            intersection.append(num)\n",
        "            freq_map[num] -= 1\n",
        "\n",
        "    return intersection\n",
        "# Example 1\n",
        "nums1 = [1, 2, 2, 1]\n",
        "nums2 = [2, 2]\n",
        "print(intersection(nums1, nums2))\n",
        "# Output: [2, 2]\n",
        "\n",
        "# Example 2\n",
        "nums1 = [4, 9, 5]\n",
        "nums2 = [9, 4, 9, 8, 4]\n",
        "print(intersection(nums1, nums2))\n",
        "# Output: [4, 9]\n"
      ],
      "metadata": {
        "colab": {
          "base_uri": "https://localhost:8080/"
        },
        "id": "IweatA9gsMJM",
        "outputId": "5cf069e2-472f-4e51-cf57-5f8dad8a8053"
      },
      "execution_count": 12,
      "outputs": [
        {
          "output_type": "stream",
          "name": "stdout",
          "text": [
            "[2, 2]\n",
            "[9, 4]\n"
          ]
        }
      ]
    },
    {
      "cell_type": "code",
      "source": [],
      "metadata": {
        "id": "04uugiADsgfv"
      },
      "execution_count": null,
      "outputs": []
    }
  ]
}