{
  "nbformat": 4,
  "nbformat_minor": 0,
  "metadata": {
    "colab": {
      "provenance": []
    },
    "kernelspec": {
      "name": "python3",
      "display_name": "Python 3"
    },
    "language_info": {
      "name": "python"
    }
  },
  "cells": [
    {
      "cell_type": "markdown",
      "source": [
        "Question 1"
      ],
      "metadata": {
        "id": "U9JKcxEp8XTi"
      }
    },
    {
      "cell_type": "code",
      "execution_count": 1,
      "metadata": {
        "colab": {
          "base_uri": "https://localhost:8080/"
        },
        "id": "tr4HkY078U3E",
        "outputId": "187b2a63-09a1-4f2d-bd6e-0062dcf48d90"
      },
      "outputs": [
        {
          "output_type": "stream",
          "name": "stdout",
          "text": [
            "[[1, 2], [3, 4]]\n"
          ]
        }
      ],
      "source": [
        "def convertTo2D(original, m, n):\n",
        "    arraySize = len(original)\n",
        "    if m * n != arraySize:\n",
        "        return []\n",
        "    \n",
        "    result = [[0] * n for _ in range(m)]\n",
        "    \n",
        "    for i in range(arraySize):\n",
        "        rowIndex = i // n\n",
        "        colIndex = i % n\n",
        "        result[rowIndex][colIndex] = original[i]\n",
        "    \n",
        "    return result\n",
        "# Example\n",
        "original = [1, 2, 3, 4]\n",
        "m = 2\n",
        "n = 2\n",
        "\n",
        "result = convertTo2D(original, m, n)\n",
        "print(result)"
      ]
    },
    {
      "cell_type": "markdown",
      "source": [
        "Question 2"
      ],
      "metadata": {
        "id": "YUA8IP6x8Z6i"
      }
    },
    {
      "cell_type": "code",
      "source": [
        "def completeStaircaseRows(n):\n",
        "    k = 0\n",
        "    total_sum = 0\n",
        "    \n",
        "    while total_sum <= n:\n",
        "        k += 1\n",
        "        total_sum += k\n",
        "    \n",
        "    if total_sum > n:\n",
        "        k -= 1\n",
        "    \n",
        "    return k\n",
        "# Example\n",
        "n = 5\n",
        "\n",
        "result = completeStaircaseRows(n)\n",
        "print(result)"
      ],
      "metadata": {
        "colab": {
          "base_uri": "https://localhost:8080/"
        },
        "id": "bssBnnPZ8a5L",
        "outputId": "ee12b966-115d-42df-977a-f3aed478c8fc"
      },
      "execution_count": 3,
      "outputs": [
        {
          "output_type": "stream",
          "name": "stdout",
          "text": [
            "2\n"
          ]
        }
      ]
    },
    {
      "cell_type": "markdown",
      "source": [
        "Question 3"
      ],
      "metadata": {
        "id": "MGiXEQL28bB9"
      }
    },
    {
      "cell_type": "code",
      "source": [
        "def sortedSquares(nums):\n",
        "    left = 0\n",
        "    right = len(nums) - 1\n",
        "    squares = [0] * len(nums)\n",
        "    \n",
        "    for i in range(len(nums) - 1, -1, -1):\n",
        "        if abs(nums[left]) >= abs(nums[right]):\n",
        "            squares[i] = nums[left] * nums[left]\n",
        "            left += 1\n",
        "        else:\n",
        "            squares[i] = nums[right] * nums[right]\n",
        "            right -= 1\n",
        "    \n",
        "    return squares\n",
        "# Example\n",
        "nums = [-4, -1, 0, 3, 10]\n",
        "\n",
        "result = sortedSquares(nums)\n",
        "print(result)"
      ],
      "metadata": {
        "colab": {
          "base_uri": "https://localhost:8080/"
        },
        "id": "Hh3AS73m8cSu",
        "outputId": "a75ce721-2b12-4a4b-d51d-35b2282bdcff"
      },
      "execution_count": 5,
      "outputs": [
        {
          "output_type": "stream",
          "name": "stdout",
          "text": [
            "[0, 1, 9, 16, 100]\n"
          ]
        }
      ]
    },
    {
      "cell_type": "markdown",
      "source": [
        "Question 4"
      ],
      "metadata": {
        "id": "YIL3KoK_8ccN"
      }
    },
    {
      "cell_type": "code",
      "source": [
        "def findDistinct(nums1, nums2):\n",
        "    set1 = set(nums1)\n",
        "    set2 = set(nums2)\n",
        "    \n",
        "    distinct1 = set1 - set2\n",
        "    distinct2 = set2 - set1\n",
        "    \n",
        "    result1 = list(distinct1)\n",
        "    result2 = list(distinct2)\n",
        "    \n",
        "    return [result1, result2]\n",
        "# Example\n",
        "nums1 = [1, 2, 3]\n",
        "nums2 = [2, 4, 6]\n",
        "\n",
        "result = findDistinct(nums1, nums2)\n",
        "print(result)"
      ],
      "metadata": {
        "colab": {
          "base_uri": "https://localhost:8080/"
        },
        "id": "ImYUKJpm8daW",
        "outputId": "91d6c64b-046a-475c-818d-817ca9092c0c"
      },
      "execution_count": 7,
      "outputs": [
        {
          "output_type": "stream",
          "name": "stdout",
          "text": [
            "[[1, 3], [4, 6]]\n"
          ]
        }
      ]
    },
    {
      "cell_type": "markdown",
      "source": [
        "Question 5"
      ],
      "metadata": {
        "id": "1gRuFYEi8diN"
      }
    },
    {
      "cell_type": "code",
      "source": [
        "def distanceValue(arr1, arr2, d):\n",
        "    count = 0\n",
        "    for num1 in arr1:\n",
        "        for num2 in arr2:\n",
        "            if abs(num1 - num2) <= d:\n",
        "                break\n",
        "        else:\n",
        "            count += 1\n",
        "    \n",
        "    return count\n",
        "# Example\n",
        "arr1 = [4, 5, 8]\n",
        "arr2 = [10, 9, 1, 8]\n",
        "d = 2\n",
        "\n",
        "result = distanceValue(arr1, arr2, d)\n",
        "print(result)"
      ],
      "metadata": {
        "colab": {
          "base_uri": "https://localhost:8080/"
        },
        "id": "xb_JXY418e3C",
        "outputId": "8f2b40a6-694e-47e6-b9f8-e082d7b3e64e"
      },
      "execution_count": 8,
      "outputs": [
        {
          "output_type": "stream",
          "name": "stdout",
          "text": [
            "2\n"
          ]
        }
      ]
    },
    {
      "cell_type": "markdown",
      "source": [
        "Question 6"
      ],
      "metadata": {
        "id": "6ONjpo6a8e_u"
      }
    },
    {
      "cell_type": "code",
      "source": [
        "def findDuplicates(nums):\n",
        "    result = []\n",
        "    \n",
        "    for num in nums:\n",
        "        abs_num = abs(num)\n",
        "        if nums[abs_num - 1] > 0:\n",
        "            nums[abs_num - 1] *= -1\n",
        "        else:\n",
        "            result.append(abs_num)\n",
        "    \n",
        "    return result\n",
        "# Example\n",
        "nums = [4, 3, 2, 7, 8, 2, 3, 1]\n",
        "\n",
        "result = findDuplicates(nums)\n",
        "print(result)\n"
      ],
      "metadata": {
        "colab": {
          "base_uri": "https://localhost:8080/"
        },
        "id": "ZM02-EaG8gaL",
        "outputId": "2f5d1dd2-b901-4e57-b352-9aff7d6a4bab"
      },
      "execution_count": 9,
      "outputs": [
        {
          "output_type": "stream",
          "name": "stdout",
          "text": [
            "[2, 3]\n"
          ]
        }
      ]
    },
    {
      "cell_type": "markdown",
      "source": [
        "Question 7"
      ],
      "metadata": {
        "id": "4il2dU7p8hMy"
      }
    },
    {
      "cell_type": "code",
      "source": [
        "def findMin(nums):\n",
        "    left = 0\n",
        "    right = len(nums) - 1\n",
        "    \n",
        "    while left < right:\n",
        "        mid = left + (right - left) // 2\n",
        "        \n",
        "        if nums[mid] > nums[right]:\n",
        "            left = mid + 1\n",
        "        else:\n",
        "            right = mid\n",
        "    \n",
        "    return nums[left]\n",
        "# Example\n",
        "nums = [3, 4, 5, 1, 2]\n",
        "\n",
        "result = findMin(nums)\n",
        "print(result)"
      ],
      "metadata": {
        "colab": {
          "base_uri": "https://localhost:8080/"
        },
        "id": "vNEn8GL-8iTu",
        "outputId": "c58534eb-a433-489d-d478-0c391b86390f"
      },
      "execution_count": 10,
      "outputs": [
        {
          "output_type": "stream",
          "name": "stdout",
          "text": [
            "1\n"
          ]
        }
      ]
    },
    {
      "cell_type": "markdown",
      "source": [
        "Question 8"
      ],
      "metadata": {
        "id": "IHrCx3SK8ib-"
      }
    },
    {
      "cell_type": "code",
      "source": [
        "from collections import defaultdict\n",
        "\n",
        "def findOriginalArray(changed):\n",
        "    counts = defaultdict(int)\n",
        "    for x in changed:\n",
        "        counts[x] += 1\n",
        "    \n",
        "    original = []\n",
        "    for x in sorted(changed):\n",
        "        if counts[x] == 0:\n",
        "            continue\n",
        "        \n",
        "        counts[x] -= 1\n",
        "        \n",
        "        if counts[2 * x] == 0:\n",
        "            return []\n",
        "        \n",
        "        counts[2 * x] -= 1\n",
        "        original.append(x)\n",
        "    \n",
        "    return original\n",
        "# Example\n",
        "changed = [1, 3, 4, 2, 6, 8]\n",
        "print(findOriginalArray(changed))\n"
      ],
      "metadata": {
        "colab": {
          "base_uri": "https://localhost:8080/"
        },
        "id": "fifesds88kGs",
        "outputId": "b801f1bd-cbc3-4fb8-c6ff-acbd799d8c15"
      },
      "execution_count": 20,
      "outputs": [
        {
          "output_type": "stream",
          "name": "stdout",
          "text": [
            "[1, 3, 4]\n"
          ]
        }
      ]
    }
  ]
}