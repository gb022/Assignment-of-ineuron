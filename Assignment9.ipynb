{
  "nbformat": 4,
  "nbformat_minor": 0,
  "metadata": {
    "colab": {
      "provenance": []
    },
    "kernelspec": {
      "name": "python3",
      "display_name": "Python 3"
    },
    "language_info": {
      "name": "python"
    }
  },
  "cells": [
    {
      "cell_type": "markdown",
      "source": [
        "Question 1"
      ],
      "metadata": {
        "id": "cJzSxOk9DgJD"
      }
    },
    {
      "cell_type": "code",
      "execution_count": 1,
      "metadata": {
        "id": "cu5Xb-KtC-1_"
      },
      "outputs": [],
      "source": [
        "def isPowerOfTwo(n):\n",
        "    if n <= 0:\n",
        "        return False\n",
        "    return (n & (n - 1)) == 0"
      ]
    },
    {
      "cell_type": "code",
      "source": [
        "print(isPowerOfTwo(1))  # Output: True\n",
        "print(isPowerOfTwo(16))  # Output: True\n",
        "print(isPowerOfTwo(3))  # Output: False"
      ],
      "metadata": {
        "colab": {
          "base_uri": "https://localhost:8080/"
        },
        "id": "1Ec7leSMDqQw",
        "outputId": "36cc322c-c247-4809-87a4-9ed74e41c116"
      },
      "execution_count": 2,
      "outputs": [
        {
          "output_type": "stream",
          "name": "stdout",
          "text": [
            "True\n",
            "True\n",
            "False\n"
          ]
        }
      ]
    },
    {
      "cell_type": "markdown",
      "source": [
        "Question 2"
      ],
      "metadata": {
        "id": "a3pAnZqDDs6E"
      }
    },
    {
      "cell_type": "code",
      "source": [
        "def sumOfFirstNNumbers(n):\n",
        "    return (n * (n + 1)) // 2\n"
      ],
      "metadata": {
        "id": "rbh8LOOXDvMM"
      },
      "execution_count": 3,
      "outputs": []
    },
    {
      "cell_type": "code",
      "source": [
        "print(sumOfFirstNNumbers(3))  # Output: 6\n",
        "print(sumOfFirstNNumbers(5))  # Output: 15"
      ],
      "metadata": {
        "colab": {
          "base_uri": "https://localhost:8080/"
        },
        "id": "C-9XyzcjD5lb",
        "outputId": "39324614-7306-4f1e-e715-ec739fb14dcd"
      },
      "execution_count": 4,
      "outputs": [
        {
          "output_type": "stream",
          "name": "stdout",
          "text": [
            "6\n",
            "15\n"
          ]
        }
      ]
    },
    {
      "cell_type": "markdown",
      "source": [
        "Question 3"
      ],
      "metadata": {
        "id": "X00b3HxaD8b9"
      }
    },
    {
      "cell_type": "code",
      "source": [
        "def factorial(N):\n",
        "    factorial = 1\n",
        "    for i in range(1, N + 1):\n",
        "        factorial *= i\n",
        "    return factorial"
      ],
      "metadata": {
        "id": "xV5S0SetD-U4"
      },
      "execution_count": 5,
      "outputs": []
    },
    {
      "cell_type": "code",
      "source": [
        "print(factorial(5))  # Output: 120\n",
        "print(factorial(4))  # Output: 24"
      ],
      "metadata": {
        "colab": {
          "base_uri": "https://localhost:8080/"
        },
        "id": "oSfKcB3FEIBJ",
        "outputId": "8ec58361-a3a8-4629-d6cd-14329162d8b0"
      },
      "execution_count": 6,
      "outputs": [
        {
          "output_type": "stream",
          "name": "stdout",
          "text": [
            "120\n",
            "24\n"
          ]
        }
      ]
    },
    {
      "cell_type": "markdown",
      "source": [
        "Question 4"
      ],
      "metadata": {
        "id": "uKim5ttMEJwh"
      }
    },
    {
      "cell_type": "code",
      "source": [
        "def calculateExponent(N, P):\n",
        "    result = N ** P\n",
        "    return result"
      ],
      "metadata": {
        "id": "G3JSUIxQEL-I"
      },
      "execution_count": 7,
      "outputs": []
    },
    {
      "cell_type": "code",
      "source": [
        "print(calculateExponent(5, 2))  # Output: 25\n",
        "print(calculateExponent(2, 5))  # Output: 32"
      ],
      "metadata": {
        "colab": {
          "base_uri": "https://localhost:8080/"
        },
        "id": "lVhcv9fRETjL",
        "outputId": "8f9ff729-92bd-40ee-a839-b0be8b5e60dd"
      },
      "execution_count": 8,
      "outputs": [
        {
          "output_type": "stream",
          "name": "stdout",
          "text": [
            "25\n",
            "32\n"
          ]
        }
      ]
    },
    {
      "cell_type": "markdown",
      "source": [
        "Question 5"
      ],
      "metadata": {
        "id": "9WHkcxexEVU5"
      }
    },
    {
      "cell_type": "code",
      "source": [
        "def findMax(arr, n):\n",
        "    if n == 1:\n",
        "        return arr[0]\n",
        "    else:\n",
        "        max_value = findMax(arr[1:], n - 1)\n",
        "        return max(arr[0], max_value)"
      ],
      "metadata": {
        "id": "AAqCoBQFEXCK"
      },
      "execution_count": 9,
      "outputs": []
    },
    {
      "cell_type": "code",
      "source": [
        "arr1 = [1, 4, 3, -5, -4, 8, 6]\n",
        "print(findMax(arr1, len(arr1)))  # Output: 8\n",
        "\n",
        "arr2 = [1, 4, 45, 6, 10, -8]\n",
        "print(findMax(arr2, len(arr2)))  # Output: 45"
      ],
      "metadata": {
        "colab": {
          "base_uri": "https://localhost:8080/"
        },
        "id": "0Mo3e50UEe7T",
        "outputId": "d1931542-0dd7-4edb-f449-d6ae0c93a8b0"
      },
      "execution_count": 10,
      "outputs": [
        {
          "output_type": "stream",
          "name": "stdout",
          "text": [
            "8\n",
            "45\n"
          ]
        }
      ]
    },
    {
      "cell_type": "markdown",
      "source": [
        "Question 6"
      ],
      "metadata": {
        "id": "SUOabdIPEoGY"
      }
    },
    {
      "cell_type": "code",
      "source": [
        "def findNthTerm(a, d, N):\n",
        "    nthTerm = a + (N - 1) * d\n",
        "    return nthTerm"
      ],
      "metadata": {
        "id": "aH4HmiQpEp1v"
      },
      "execution_count": 11,
      "outputs": []
    },
    {
      "cell_type": "code",
      "source": [
        "print(findNthTerm(2, 1, 5))  # Output: 6\n",
        "print(findNthTerm(5, 2, 10))  # Output: 23"
      ],
      "metadata": {
        "colab": {
          "base_uri": "https://localhost:8080/"
        },
        "id": "U7EB6xiwEuZC",
        "outputId": "a66053fd-ba66-4004-86a9-a9bb3a007d09"
      },
      "execution_count": 12,
      "outputs": [
        {
          "output_type": "stream",
          "name": "stdout",
          "text": [
            "6\n",
            "23\n"
          ]
        }
      ]
    },
    {
      "cell_type": "markdown",
      "source": [
        "Question 7"
      ],
      "metadata": {
        "id": "iYRD1FpVExav"
      }
    },
    {
      "cell_type": "code",
      "source": [
        "def permute(S, start, end):\n",
        "    if start == end:\n",
        "        print(''.join(S))\n",
        "    else:\n",
        "        for i in range(start, end + 1):\n",
        "            S[start], S[i] = S[i], S[start]  # Swap characters\n",
        "            permute(S, start + 1, end)  # Recurse on the next index\n",
        "            S[start], S[i] = S[i], S[start]  # Restore original order\n",
        "\n",
        "def printPermutations(S):\n",
        "    n = len(S)\n",
        "    permute(list(S), 0, n - 1)"
      ],
      "metadata": {
        "id": "GAWjAtYCEzte"
      },
      "execution_count": 13,
      "outputs": []
    },
    {
      "cell_type": "code",
      "source": [
        "printPermutations(\"ABC\")\n",
        "# Output:\n",
        "# ABC\n",
        "# ACB\n",
        "# BAC\n",
        "# BCA\n",
        "# CBA\n",
        "# CAB\n",
        "\n",
        "printPermutations(\"XY\")\n",
        "# Output:\n",
        "# XY\n",
        "# YX"
      ],
      "metadata": {
        "colab": {
          "base_uri": "https://localhost:8080/"
        },
        "id": "OeiVsjJoE_W5",
        "outputId": "8e007662-ffd5-43d5-a785-fc4e527840af"
      },
      "execution_count": 14,
      "outputs": [
        {
          "output_type": "stream",
          "name": "stdout",
          "text": [
            "ABC\n",
            "ACB\n",
            "BAC\n",
            "BCA\n",
            "CBA\n",
            "CAB\n",
            "XY\n",
            "YX\n"
          ]
        }
      ]
    },
    {
      "cell_type": "markdown",
      "source": [
        "Question 8"
      ],
      "metadata": {
        "id": "EkkIzzf9FEvL"
      }
    },
    {
      "cell_type": "code",
      "source": [
        "def getProduct(arr):\n",
        "    product = 1\n",
        "    for num in arr:\n",
        "        product *= num\n",
        "    return product"
      ],
      "metadata": {
        "id": "tCTrfl5MFHFE"
      },
      "execution_count": 15,
      "outputs": []
    },
    {
      "cell_type": "code",
      "source": [
        "arr1 = [1, 2, 3, 4, 5]\n",
        "print(getProduct(arr1))  # Output: 120\n",
        "\n",
        "arr2 = [1, 6, 3]\n",
        "print(getProduct(arr2))  # Output: 18"
      ],
      "metadata": {
        "colab": {
          "base_uri": "https://localhost:8080/"
        },
        "id": "kf6SZIazFQBM",
        "outputId": "aecb2fd9-a85c-40e7-aa0c-1876d2ddc7d0"
      },
      "execution_count": 16,
      "outputs": [
        {
          "output_type": "stream",
          "name": "stdout",
          "text": [
            "120\n",
            "18\n"
          ]
        }
      ]
    }
  ]
}