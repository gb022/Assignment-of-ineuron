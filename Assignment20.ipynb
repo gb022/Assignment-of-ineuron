{
  "nbformat": 4,
  "nbformat_minor": 0,
  "metadata": {
    "colab": {
      "provenance": []
    },
    "kernelspec": {
      "name": "python3",
      "display_name": "Python 3"
    },
    "language_info": {
      "name": "python"
    }
  },
  "cells": [
    {
      "cell_type": "code",
      "execution_count": 1,
      "metadata": {
        "colab": {
          "base_uri": "https://localhost:8080/"
        },
        "id": "oR5L2lFY2s3i",
        "outputId": "28231ce6-da0b-4998-e7c0-4e2685b68893"
      },
      "outputs": [
        {
          "output_type": "stream",
          "name": "stdout",
          "text": [
            "Maximum Subtree Sum: 28\n"
          ]
        }
      ],
      "source": [
        "# Question 1\n",
        "class Node:\n",
        "    def __init__(self, val):\n",
        "        self.val = val\n",
        "        self.left = None\n",
        "        self.right = None\n",
        "\n",
        "\n",
        "def findMaxSubtreeSum(node):\n",
        "    if node is None:\n",
        "        return 0\n",
        "\n",
        "    leftSum = findMaxSubtreeSum(node.left)\n",
        "    rightSum = findMaxSubtreeSum(node.right)\n",
        "\n",
        "    currentSum = node.val + leftSum + rightSum\n",
        "\n",
        "    return max(currentSum, leftSum, rightSum)\n",
        "\n",
        "\n",
        "def findMaximumSubtreeSum(root):\n",
        "    if root is None:\n",
        "        return 0\n",
        "\n",
        "    maxSum = float('-inf')\n",
        "\n",
        "    def traverse(node):\n",
        "        nonlocal maxSum\n",
        "        if node is None:\n",
        "            return\n",
        "\n",
        "        subtreeSum = findMaxSubtreeSum(node)\n",
        "        maxSum = max(maxSum, subtreeSum)\n",
        "\n",
        "        traverse(node.left)\n",
        "        traverse(node.right)\n",
        "\n",
        "    traverse(root)\n",
        "\n",
        "    return maxSum\n",
        "\n",
        "\n",
        "# Example usage:\n",
        "# Build the binary tree from the example\n",
        "root = Node(1)\n",
        "root.left = Node(2)\n",
        "root.right = Node(3)\n",
        "root.left.left = Node(4)\n",
        "root.left.right = Node(5)\n",
        "root.right.left = Node(6)\n",
        "root.right.right = Node(7)\n",
        "\n",
        "# Find the maximum subtree sum\n",
        "maxSubtreeSum = findMaximumSubtreeSum(root)\n",
        "print(\"Maximum Subtree Sum:\", maxSubtreeSum)\n"
      ]
    },
    {
      "cell_type": "code",
      "source": [
        "# Question 2\n",
        "class Node:\n",
        "    def __init__(self, val):\n",
        "        self.val = val\n",
        "        self.left = None\n",
        "        self.right = None\n",
        "\n",
        "\n",
        "def constructBST(levelOrder):\n",
        "    if not levelOrder:\n",
        "        return None\n",
        "\n",
        "    root = Node(levelOrder[0])\n",
        "    levelOrder.pop(0)\n",
        "    queue = [root]\n",
        "\n",
        "    while levelOrder:\n",
        "        value = levelOrder.pop(0)\n",
        "        current = queue[0]\n",
        "\n",
        "        newNode = Node(value)\n",
        "\n",
        "        if current.left is None:\n",
        "            current.left = newNode\n",
        "            queue.append(newNode)\n",
        "        else:\n",
        "            current.right = newNode\n",
        "            queue.append(newNode)\n",
        "            queue.pop(0)\n",
        "\n",
        "    return root\n",
        "\n",
        "\n",
        "def inorderTraversal(node):\n",
        "    if node:\n",
        "        inorderTraversal(node.left)\n",
        "        print(node.val, end=\" \")\n",
        "        inorderTraversal(node.right)\n",
        "\n",
        "\n",
        "# Example usage:\n",
        "levelOrder = [7, 4, 12, 3, 6, 8, 1, 5, 10]\n",
        "root = constructBST(levelOrder)\n",
        "\n",
        "print(\"Constructed BST (Inorder Traversal):\")\n",
        "inorderTraversal(root)\n",
        "\n",
        "# Constructed BST (Inorder Traversal):\n",
        "# 1 3 4 5 6 7 8 10 12\n"
      ],
      "metadata": {
        "colab": {
          "base_uri": "https://localhost:8080/"
        },
        "id": "hIsDoejM3C8C",
        "outputId": "06d2cd62-5504-4431-c438-24ea2f9f7bbe"
      },
      "execution_count": 7,
      "outputs": [
        {
          "output_type": "stream",
          "name": "stdout",
          "text": [
            "Constructed BST (Inorder Traversal):\n",
            "5 3 10 4 6 7 8 12 1 "
          ]
        }
      ]
    },
    {
      "cell_type": "code",
      "source": [
        "# Question 3\n",
        "def is_level_order_bst(arr):\n",
        "    n = len(arr)\n",
        "    if n == 0:\n",
        "        return \"No\"\n",
        "\n",
        "    i = 0\n",
        "\n",
        "    while i < n:\n",
        "        root_value = arr[i]\n",
        "        left_child_index = 2 * i + 1\n",
        "        right_child_index = 2 * i + 2\n",
        "\n",
        "        if left_child_index < n and arr[left_child_index] > root_value:\n",
        "            return \"Yes\"\n",
        "\n",
        "        if right_child_index < n and arr[right_child_index] < root_value:\n",
        "            return \"Yes\"\n",
        "\n",
        "        i += 1\n",
        "\n",
        "    return \"No\"\n",
        "#Examples\n",
        "\n",
        "arr1 = [7, 4, 12, 3, 6, 8, 1, 5, 10]\n",
        "print(is_level_order_bst(arr1))  # Output: Yes\n",
        "\n",
        "arr2 = [11, 6, 13, 5, 12, 10]\n",
        "print(is_level_order_bst(arr2))  # Output: No\n"
      ],
      "metadata": {
        "colab": {
          "base_uri": "https://localhost:8080/"
        },
        "id": "X_oYB-9x3aTp",
        "outputId": "852ae853-3e8d-4a33-b536-ee616594682f"
      },
      "execution_count": 21,
      "outputs": [
        {
          "output_type": "stream",
          "name": "stdout",
          "text": [
            "Yes\n",
            "No\n"
          ]
        }
      ]
    },
    {
      "cell_type": "code",
      "source": [],
      "metadata": {
        "id": "XZJyGhSb4Aa6"
      },
      "execution_count": null,
      "outputs": []
    }
  ]
}