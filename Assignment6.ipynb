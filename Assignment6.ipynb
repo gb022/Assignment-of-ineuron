{
  "nbformat": 4,
  "nbformat_minor": 0,
  "metadata": {
    "colab": {
      "provenance": []
    },
    "kernelspec": {
      "name": "python3",
      "display_name": "Python 3"
    },
    "language_info": {
      "name": "python"
    }
  },
  "cells": [
    {
      "cell_type": "markdown",
      "source": [
        "Question 1"
      ],
      "metadata": {
        "id": "Y94sbcc3_Tsw"
      }
    },
    {
      "cell_type": "code",
      "execution_count": 1,
      "metadata": {
        "id": "hAPprvr-_Qzy"
      },
      "outputs": [],
      "source": [
        "def reconstructPermutation(s):\n",
        "    perm = []\n",
        "    n = len(s)\n",
        "    low, high = 0, n\n",
        "    \n",
        "    for ch in s:\n",
        "        if ch == 'I':\n",
        "            perm.append(low)\n",
        "            low += 1\n",
        "        else:\n",
        "            perm.append(high)\n",
        "            high -= 1\n",
        "    \n",
        "    # Append the remaining element\n",
        "    perm.append(low)\n",
        "    \n",
        "    return perm"
      ]
    },
    {
      "cell_type": "code",
      "source": [
        "s = \"IDID\"\n",
        "print(reconstructPermutation(s))"
      ],
      "metadata": {
        "colab": {
          "base_uri": "https://localhost:8080/"
        },
        "id": "5MC51ho4APAJ",
        "outputId": "77e62cb7-e4a8-4f65-83af-297f6ce813d9"
      },
      "execution_count": 2,
      "outputs": [
        {
          "output_type": "stream",
          "name": "stdout",
          "text": [
            "[0, 4, 1, 3, 2]\n"
          ]
        }
      ]
    },
    {
      "cell_type": "markdown",
      "source": [
        "Question 2"
      ],
      "metadata": {
        "id": "Rqqu_-34_Yb0"
      }
    },
    {
      "cell_type": "code",
      "source": [
        "def searchMatrix(matrix, target):\n",
        "    m, n = len(matrix), len(matrix[0])\n",
        "    left, right = 0, m * n - 1\n",
        "    \n",
        "    while left <= right:\n",
        "        mid = (left + right) // 2\n",
        "        row = mid // n\n",
        "        col = mid % n\n",
        "        \n",
        "        if matrix[row][col] == target:\n",
        "            return True\n",
        "        elif matrix[row][col] < target:\n",
        "            left = mid + 1\n",
        "        else:\n",
        "            right = mid - 1\n",
        "    \n",
        "    return False"
      ],
      "metadata": {
        "id": "CZ-7ErAH_Zca"
      },
      "execution_count": 3,
      "outputs": []
    },
    {
      "cell_type": "code",
      "source": [
        "matrix = [[1, 3, 5, 7], [10, 11, 16, 20], [23, 30, 34, 60]]\n",
        "target = 3\n",
        "print(searchMatrix(matrix, target))"
      ],
      "metadata": {
        "colab": {
          "base_uri": "https://localhost:8080/"
        },
        "id": "0Ka7iBciAa0F",
        "outputId": "5ec03e82-0eb3-4754-9dd6-e26835bd1e42"
      },
      "execution_count": 4,
      "outputs": [
        {
          "output_type": "stream",
          "name": "stdout",
          "text": [
            "True\n"
          ]
        }
      ]
    },
    {
      "cell_type": "markdown",
      "source": [
        "Question 3"
      ],
      "metadata": {
        "id": "SAw5v4XW_Zjx"
      }
    },
    {
      "cell_type": "code",
      "source": [
        "def validMountainArray(arr):\n",
        "    n = len(arr)\n",
        "    i = 0\n",
        "    \n",
        "    if n < 3:\n",
        "        return False\n",
        "    \n",
        "    while i < n - 1 and arr[i] < arr[i + 1]:\n",
        "        i += 1\n",
        "    \n",
        "    if i == 0 or i == n - 1:\n",
        "        return False\n",
        "    \n",
        "    while i < n - 1 and arr[i] > arr[i + 1]:\n",
        "        i += 1\n",
        "    \n",
        "    return i == n - 1"
      ],
      "metadata": {
        "id": "Ffk3Q0er_akK"
      },
      "execution_count": 5,
      "outputs": []
    },
    {
      "cell_type": "code",
      "source": [
        "arr = [2, 1]\n",
        "print(validMountainArray(arr))"
      ],
      "metadata": {
        "colab": {
          "base_uri": "https://localhost:8080/"
        },
        "id": "FWnjZhhfAh5r",
        "outputId": "bf49e4fa-eaaf-480b-9515-3327b60b4985"
      },
      "execution_count": 6,
      "outputs": [
        {
          "output_type": "stream",
          "name": "stdout",
          "text": [
            "False\n"
          ]
        }
      ]
    },
    {
      "cell_type": "markdown",
      "source": [
        "Question 4"
      ],
      "metadata": {
        "id": "fj-pcYcQ_aqa"
      }
    },
    {
      "cell_type": "code",
      "source": [
        "def findMaxLength(nums):\n",
        "    max_length = 0\n",
        "    count = 0\n",
        "    prefix_sum = {0: -1}\n",
        "    \n",
        "    for i in range(len(nums)):\n",
        "        if nums[i] == 0:\n",
        "            count -= 1\n",
        "        else:\n",
        "            count += 1\n",
        "        \n",
        "        if count in prefix_sum:\n",
        "            max_length = max(max_length, i - prefix_sum[count])\n",
        "        else:\n",
        "            prefix_sum[count] = i\n",
        "    \n",
        "    return max_length"
      ],
      "metadata": {
        "id": "Aj7gcxEA_cij"
      },
      "execution_count": 7,
      "outputs": []
    },
    {
      "cell_type": "code",
      "source": [
        "nums = [0, 1]\n",
        "print(findMaxLength(nums))"
      ],
      "metadata": {
        "colab": {
          "base_uri": "https://localhost:8080/"
        },
        "id": "x_fAeVwAApW2",
        "outputId": "94388739-2808-41af-bd84-9f35f51cdc1a"
      },
      "execution_count": 8,
      "outputs": [
        {
          "output_type": "stream",
          "name": "stdout",
          "text": [
            "2\n"
          ]
        }
      ]
    },
    {
      "cell_type": "markdown",
      "source": [
        "Question 5"
      ],
      "metadata": {
        "id": "vXemi247_cqL"
      }
    },
    {
      "cell_type": "code",
      "source": [
        "def minProductSum(nums1, nums2):\n",
        "    nums1.sort()\n",
        "    nums2.sort(reverse=True)\n",
        "    product_sum = 0\n",
        "\n",
        "    for i in range(len(nums1)):\n",
        "        product_sum += nums1[i] * nums2[i]\n",
        "\n",
        "    return product_sum"
      ],
      "metadata": {
        "id": "lSaE5P3n_d3S"
      },
      "execution_count": 9,
      "outputs": []
    },
    {
      "cell_type": "code",
      "source": [
        "nums1 = [5, 3, 4, 2]\n",
        "nums2 = [4, 2, 2, 5]\n",
        "print(minProductSum(nums1, nums2))"
      ],
      "metadata": {
        "colab": {
          "base_uri": "https://localhost:8080/"
        },
        "id": "v71WWeP4Av1B",
        "outputId": "1a7e1200-3f44-4771-aa31-acd70a49b047"
      },
      "execution_count": 10,
      "outputs": [
        {
          "output_type": "stream",
          "name": "stdout",
          "text": [
            "40\n"
          ]
        }
      ]
    },
    {
      "cell_type": "markdown",
      "source": [
        "Question 6"
      ],
      "metadata": {
        "id": "oYyQLh2G_eAW"
      }
    },
    {
      "cell_type": "code",
      "source": [
        "from collections import defaultdict\n",
        "\n",
        "def findOriginalArray(changed):\n",
        "    counts = defaultdict(int)\n",
        "    for x in changed:\n",
        "        counts[x] += 1\n",
        "    \n",
        "    original = []\n",
        "    for x in sorted(changed):\n",
        "        if counts[x] == 0:\n",
        "            continue\n",
        "        \n",
        "        counts[x] -= 1\n",
        "        \n",
        "        if counts[2 * x] == 0:\n",
        "            return []\n",
        "        \n",
        "        counts[2 * x] -= 1\n",
        "        original.append(x)\n",
        "    \n",
        "    return original"
      ],
      "metadata": {
        "id": "Hrs0gUkT_fOW"
      },
      "execution_count": 13,
      "outputs": []
    },
    {
      "cell_type": "code",
      "source": [
        "changed = [1, 3, 4, 2, 6, 8]\n",
        "print(findOriginalArray(changed))"
      ],
      "metadata": {
        "colab": {
          "base_uri": "https://localhost:8080/"
        },
        "id": "zR_yY5tJA42M",
        "outputId": "88ef19e4-f26e-423c-a7d0-b6d83452f829"
      },
      "execution_count": 14,
      "outputs": [
        {
          "output_type": "stream",
          "name": "stdout",
          "text": [
            "[1, 3, 4]\n"
          ]
        }
      ]
    },
    {
      "cell_type": "markdown",
      "source": [
        "Question 7"
      ],
      "metadata": {
        "id": "bPQ45LXZ_fVm"
      }
    },
    {
      "cell_type": "code",
      "source": [
        "def generateMatrix(n):\n",
        "    matrix = [[0] * n for _ in range(n)]\n",
        "    row_start, row_end = 0, n - 1\n",
        "    col_start, col_end = 0, n - 1\n",
        "    num = 1\n",
        "\n",
        "    while row_start <= row_end and col_start <= col_end:\n",
        "        # Fill top row\n",
        "        for col in range(col_start, col_end + 1):\n",
        "            matrix[row_start][col] = num\n",
        "            num += 1\n",
        "        row_start += 1\n",
        "\n",
        "        # Fill rightmost column\n",
        "        for row in range(row_start, row_end + 1):\n",
        "            matrix[row][col_end] = num\n",
        "            num += 1\n",
        "        col_end -= 1\n",
        "\n",
        "        # Fill bottom row\n",
        "        if row_start <= row_end:\n",
        "            for col in range(col_end, col_start - 1, -1):\n",
        "                matrix[row_end][col] = num\n",
        "                num += 1\n",
        "            row_end -= 1\n",
        "\n",
        "        # Fill leftmost column\n",
        "        if col_start <= col_end:\n",
        "            for row in range(row_end, row_start - 1, -1):\n",
        "                matrix[row][col_start] = num\n",
        "                num += 1\n",
        "            col_start += 1\n",
        "\n",
        "    return matrix"
      ],
      "metadata": {
        "id": "WW1y5vNM_gb_"
      },
      "execution_count": 15,
      "outputs": []
    },
    {
      "cell_type": "code",
      "source": [
        "n = 3\n",
        "print(generateMatrix(n))"
      ],
      "metadata": {
        "colab": {
          "base_uri": "https://localhost:8080/"
        },
        "id": "zo-FH1puBJgU",
        "outputId": "ddf82977-23c9-4cf8-e4ec-8443fba37f48"
      },
      "execution_count": 16,
      "outputs": [
        {
          "output_type": "stream",
          "name": "stdout",
          "text": [
            "[[1, 2, 3], [8, 9, 4], [7, 6, 5]]\n"
          ]
        }
      ]
    },
    {
      "cell_type": "markdown",
      "source": [
        "Question 8"
      ],
      "metadata": {
        "id": "HTvHvd61_gjd"
      }
    },
    {
      "cell_type": "code",
      "source": [
        "def multiply(mat1, mat2):\n",
        "    m, k, n = len(mat1), len(mat1[0]), len(mat2[0])\n",
        "    mat2_transpose = [[mat2[j][i] for j in range(k)] for i in range(n)]\n",
        "    result = [[0] * n for _ in range(m)]\n",
        "\n",
        "    for i in range(m):\n",
        "        for j in range(n):\n",
        "            # Compute dot product of row i in mat1 and column j in mat2_transpose\n",
        "            dot_product = sum(mat1[i][k] * mat2_transpose[j][k] for k in range(k))\n",
        "            result[i][j] = dot_product\n",
        "\n",
        "    return result"
      ],
      "metadata": {
        "id": "3epy8n0C_h8G"
      },
      "execution_count": 17,
      "outputs": []
    },
    {
      "cell_type": "code",
      "source": [
        "mat1 = [[1, 0, 0], [-1, 0, 3]]\n",
        "mat2 = [[7, 0, 0], [0, 0, 0], [0, 0, 1]]\n",
        "print(multiply(mat1, mat2))"
      ],
      "metadata": {
        "id": "0A78ekm7BPKa",
        "outputId": "ab7531b1-b5ba-48e1-ba49-21564888d94a",
        "colab": {
          "base_uri": "https://localhost:8080/"
        }
      },
      "execution_count": 18,
      "outputs": [
        {
          "output_type": "stream",
          "name": "stdout",
          "text": [
            "[[7, 0, 0], [-7, 0, 3]]\n"
          ]
        }
      ]
    }
  ]
}