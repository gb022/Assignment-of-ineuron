{
  "nbformat": 4,
  "nbformat_minor": 0,
  "metadata": {
    "colab": {
      "provenance": []
    },
    "kernelspec": {
      "name": "python3",
      "display_name": "Python 3"
    },
    "language_info": {
      "name": "python"
    }
  },
  "cells": [
    {
      "cell_type": "code",
      "execution_count": 3,
      "metadata": {
        "id": "T7onnhWE-Ywf"
      },
      "outputs": [],
      "source": [
        "# Question 1\n",
        "def find_nearest_element(arr):\n",
        "    frequency = {}\n",
        "    next_greater_freq_index = {}\n",
        "    result = [-1] * len(arr)\n",
        "\n",
        "    # Step 1: Calculate the frequency of each element\n",
        "    for num in arr:\n",
        "        frequency[num] = frequency.get(num, 0) + 1\n",
        "\n",
        "    # Step 2: Calculate the index of the next element with greater frequency\n",
        "    for i in range(len(arr) - 1, -1, -1):\n",
        "        next_greater_freq_index[i] = next_greater_freq_index.get(i+1, len(arr))\n",
        "        if i < len(arr) - 1 and frequency[arr[i]] < frequency[arr[i+1]]:\n",
        "            next_greater_freq_index[i] = i+1\n",
        "\n",
        "    # Step 4: Find the nearest element with greater frequency\n",
        "    for i in range(len(arr)):\n",
        "        if next_greater_freq_index[i] < len(arr):\n",
        "            result[i] = arr[next_greater_freq_index[i]]\n",
        "\n",
        "    return result\n",
        ""
      ]
    },
    {
      "cell_type": "code",
      "source": [
        "arr1 = [1, 1, 2, 3, 4, 2, 1]\n",
        "print(find_nearest_element(arr1))\n",
        "# Output: [-1, -1, 1, 2, 2, 1, -1]\n",
        "\n",
        "arr2 = [1, 1, 1, 2, 2, 2, 2, 11, 3, 3]\n",
        "print(find_nearest_element(arr2))\n",
        "# Output: [2, 2, 2, -1, -1, -1, -1, 3, -1, -1]\n"
      ],
      "metadata": {
        "colab": {
          "base_uri": "https://localhost:8080/"
        },
        "id": "DyAFU6Op_q0q",
        "outputId": "f0a99946-4279-4fe6-c1bf-37682ad2863b"
      },
      "execution_count": 4,
      "outputs": [
        {
          "output_type": "stream",
          "name": "stdout",
          "text": [
            "[2, 2, 2, 2, 2, 1, -1]\n",
            "[2, 2, 2, 3, 3, 3, 3, 3, -1, -1]\n"
          ]
        }
      ]
    },
    {
      "cell_type": "code",
      "source": [
        "# Question 2\n",
        "def sort_stack(stack):\n",
        "    temp_stack = []\n",
        "\n",
        "    while stack:\n",
        "        temp = stack.pop()\n",
        "\n",
        "        while temp_stack and temp_stack[-1] > temp:\n",
        "            stack.append(temp_stack.pop())\n",
        "\n",
        "        temp_stack.append(temp)\n",
        "\n",
        "    while temp_stack:\n",
        "        stack.append(temp_stack.pop())\n",
        "\n",
        "    return stack\n"
      ],
      "metadata": {
        "id": "nR7Q9Nhp_9fi"
      },
      "execution_count": 5,
      "outputs": []
    },
    {
      "cell_type": "code",
      "source": [
        "stack1 = [34, 3, 31, 98, 92, 23]\n",
        "print(sort_stack(stack1))\n",
        "# Output: [3, 23, 31, 34, 92, 98]\n",
        "\n",
        "stack2 = [3, 5, 1, 4, 2, 8]\n",
        "print(sort_stack(stack2))\n",
        "# Output: [1, 2, 3, 4, 5, 8]\n"
      ],
      "metadata": {
        "colab": {
          "base_uri": "https://localhost:8080/"
        },
        "id": "gzyWNU2KAMcX",
        "outputId": "3b0a5f5a-a12f-4bc2-f574-03779250dc0d"
      },
      "execution_count": 6,
      "outputs": [
        {
          "output_type": "stream",
          "name": "stdout",
          "text": [
            "[98, 92, 34, 31, 23, 3]\n",
            "[8, 5, 4, 3, 2, 1]\n"
          ]
        }
      ]
    },
    {
      "cell_type": "code",
      "source": [
        "# Question 3\n",
        "def delete_middle(stack, index):\n",
        "    if not stack or index == 1:\n",
        "        stack.pop()\n",
        "        return\n",
        "\n",
        "    temp = stack.pop()\n",
        "    delete_middle(stack, index - 1)\n",
        "    stack.append(temp)\n",
        "\n",
        "\n",
        "def delete_middle_element(stack):\n",
        "    size = len(stack)\n",
        "    middle_index = (size // 2) + 1\n",
        "\n",
        "    delete_middle(stack, middle_index)\n",
        "\n",
        "    return stack\n"
      ],
      "metadata": {
        "id": "A6x6lLtOAPSl"
      },
      "execution_count": 7,
      "outputs": []
    },
    {
      "cell_type": "code",
      "source": [
        "stack1 = [1, 2, 3, 4, 5]\n",
        "print(delete_middle_element(stack1))\n",
        "# Output: [1, 2, 4, 5]\n",
        "\n",
        "stack2 = [1, 2, 3, 4, 5, 6]\n",
        "print(delete_middle_element(stack2))\n",
        "# Output: [1, 2, 4, 5, 6]\n"
      ],
      "metadata": {
        "colab": {
          "base_uri": "https://localhost:8080/"
        },
        "id": "0Jgi_cdsAxug",
        "outputId": "1a2a9a3e-feff-4e1e-9b24-8c33ab1e510f"
      },
      "execution_count": 8,
      "outputs": [
        {
          "output_type": "stream",
          "name": "stdout",
          "text": [
            "[1, 2, 4, 5]\n",
            "[1, 2, 4, 5, 6]\n"
          ]
        }
      ]
    },
    {
      "cell_type": "code",
      "source": [
        "# Question 4\n",
        "from queue import Queue\n",
        "from collections import deque\n",
        "\n",
        "def check_queue_order(given_queue):\n",
        "    stack = []\n",
        "    second_queue = Queue()\n",
        "    expected_element = 1\n",
        "\n",
        "    while not given_queue.empty():\n",
        "        front_element = given_queue.queue[0]\n",
        "\n",
        "        if front_element == expected_element:\n",
        "            given_queue.get()\n",
        "            second_queue.put(front_element)\n",
        "            expected_element += 1\n",
        "        elif stack and stack[-1] == expected_element:\n",
        "            stack.pop()\n",
        "            second_queue.put(stack[-1])\n",
        "            expected_element += 1\n",
        "        else:\n",
        "            stack.append(front_element)\n",
        "            given_queue.get()\n",
        "\n",
        "    while stack:\n",
        "        second_queue.put(stack.pop())\n",
        "        expected_element += 1\n",
        "\n",
        "    sorted_queue = deque(list(second_queue.queue))\n",
        "    sorted_queue.rotate(-1)  # Rotate the deque to check for increasing order\n",
        "\n",
        "    if sorted_queue == deque(sorted(sorted_queue)) and second_queue.qsize() == given_queue.qsize():\n",
        "        return \"Yes\"\n",
        "    else:\n",
        "        return \"No\"\n"
      ],
      "metadata": {
        "id": "-o4fp1JhA0Ak"
      },
      "execution_count": 9,
      "outputs": []
    },
    {
      "cell_type": "code",
      "source": [
        "queue1 = Queue()\n",
        "queue1.put(5)\n",
        "queue1.put(1)\n",
        "queue1.put(2)\n",
        "queue1.put(3)\n",
        "queue1.put(4)\n",
        "print(check_queue_order(queue1))\n",
        "# Output: Yes\n",
        "\n",
        "queue2 = Queue()\n",
        "queue2.put(5)\n",
        "queue2.put(1)\n",
        "queue2.put(2)\n",
        "queue2.put(6)\n",
        "queue2.put(3)\n",
        "queue2.put(4)\n",
        "print(check_queue_order(queue2))\n",
        "# Output: No\n"
      ],
      "metadata": {
        "colab": {
          "base_uri": "https://localhost:8080/"
        },
        "id": "HITG-oQZBaws",
        "outputId": "385fe385-7d72-43fc-a050-4cac5aebcaea"
      },
      "execution_count": 10,
      "outputs": [
        {
          "output_type": "stream",
          "name": "stdout",
          "text": [
            "No\n",
            "No\n"
          ]
        }
      ]
    },
    {
      "cell_type": "code",
      "source": [
        "# Question 5\n",
        "def reverse_number(num):\n",
        "    num_str = str(num)\n",
        "    stack = []\n",
        "\n",
        "    for digit in num_str:\n",
        "        stack.append(digit)\n",
        "\n",
        "    reversed_str = \"\"\n",
        "\n",
        "    while stack:\n",
        "        reversed_str += stack.pop()\n",
        "\n",
        "    reversed_num = int(reversed_str)\n",
        "\n",
        "    return reversed_num\n"
      ],
      "metadata": {
        "id": "K1yWnSiJBdB4"
      },
      "execution_count": 12,
      "outputs": []
    },
    {
      "cell_type": "code",
      "source": [
        "num1 = 365\n",
        "print(reverse_number(num1))\n",
        "# Output: 563\n",
        "\n",
        "num2 = 6899\n",
        "print(reverse_number(num2))\n",
        "# Output: 9986\n"
      ],
      "metadata": {
        "colab": {
          "base_uri": "https://localhost:8080/"
        },
        "id": "OYmLarQpB0TC",
        "outputId": "b32c908c-2984-42b6-ace4-b84dc446b4f2"
      },
      "execution_count": 13,
      "outputs": [
        {
          "output_type": "stream",
          "name": "stdout",
          "text": [
            "563\n",
            "9986\n"
          ]
        }
      ]
    },
    {
      "cell_type": "code",
      "source": [
        "# Question 6\n",
        "from queue import Queue\n",
        "\n",
        "def reverse_k_elements(queue, k):\n",
        "    if queue.qsize() < k:\n",
        "        return \"Invalid input: k is larger than the queue size\"\n",
        "\n",
        "    stack = []\n",
        "    for _ in range(k):\n",
        "        stack.append(queue.get())\n",
        "\n",
        "    while not queue.empty():\n",
        "        queue.put(queue.get())\n",
        "\n",
        "    while stack:\n",
        "        queue.put(stack.pop())\n",
        "\n",
        "    return queue\n"
      ],
      "metadata": {
        "id": "VAS51j_nCEwh"
      },
      "execution_count": 15,
      "outputs": []
    },
    {
      "cell_type": "code",
      "source": [
        "# Question 7\n",
        "def count_remaining_words(sequence):\n",
        "    stack = []\n",
        "\n",
        "    for word in sequence:\n",
        "        if stack and stack[-1] == word:\n",
        "            stack.pop()\n",
        "        else:\n",
        "            stack.append(word)\n",
        "\n",
        "    return len(stack)\n"
      ],
      "metadata": {
        "id": "L8Zn0NKyCZiX"
      },
      "execution_count": 21,
      "outputs": []
    },
    {
      "cell_type": "code",
      "source": [
        "sequence1 = ['ab', 'aa', 'aa', 'bcd', 'ab']\n",
        "print(count_remaining_words(sequence1))\n",
        "# Output: 3\n",
        "\n",
        "sequence2 = ['tom', 'jerry', 'jerry', 'tom']\n",
        "print(count_remaining_words(sequence2))\n",
        "# Output: 0\n"
      ],
      "metadata": {
        "colab": {
          "base_uri": "https://localhost:8080/"
        },
        "id": "aTkCxL0JC2HU",
        "outputId": "35b464bb-db3b-4ebf-b4ec-e7ec328c75df"
      },
      "execution_count": 22,
      "outputs": [
        {
          "output_type": "stream",
          "name": "stdout",
          "text": [
            "3\n",
            "0\n"
          ]
        }
      ]
    },
    {
      "cell_type": "code",
      "source": [
        "# Question 8\n",
        "def max_absolute_difference(arr):\n",
        "    n = len(arr)\n",
        "\n",
        "    left_stack = []\n",
        "    right_stack = []\n",
        "    left_smaller = [0] * n\n",
        "    right_smaller = [0] * n\n",
        "\n",
        "    # Finding the nearest left smaller element\n",
        "    for i in range(n):\n",
        "        while left_stack and arr[i] <= arr[left_stack[-1]]:\n",
        "            left_stack.pop()\n",
        "\n",
        "        if left_stack:\n",
        "            left_smaller[i] = arr[left_stack[-1]]\n",
        "\n",
        "        left_stack.append(i)\n",
        "\n",
        "    # Finding the nearest right smaller element\n",
        "    for i in range(n - 1, -1, -1):\n",
        "        while right_stack and arr[i] <= arr[right_stack[-1]]:\n",
        "            right_stack.pop()\n",
        "\n",
        "        if right_stack:\n",
        "            right_smaller[i] = arr[right_stack[-1]]\n",
        "\n",
        "        right_stack.append(i)\n",
        "\n",
        "    max_diff = float('-inf')\n",
        "\n",
        "    for i in range(n):\n",
        "        diff = abs(left_smaller[i] - right_smaller[i])\n",
        "        max_diff = max(max_diff, diff)\n",
        "\n",
        "    return max_diff\n"
      ],
      "metadata": {
        "id": "R8KYJiohE8dF"
      },
      "execution_count": 23,
      "outputs": []
    },
    {
      "cell_type": "code",
      "source": [
        "arr1 = [2, 1, 8]\n",
        "print(max_absolute_difference(arr1))\n",
        "# Output: 1\n",
        "\n",
        "arr2 = [2, 4, 8, 7, 7, 9, 3]\n",
        "print(max_absolute_difference(arr2))\n",
        "# Output: 4\n",
        "\n",
        "arr3 = [5, 1, 9, 2, 5, 1, 7]\n",
        "print(max_absolute_difference(arr3))\n",
        "# Output: 1\n"
      ],
      "metadata": {
        "colab": {
          "base_uri": "https://localhost:8080/"
        },
        "id": "541FaVk0FmQA",
        "outputId": "f1b8af29-0c90-4e55-a85d-f72c61ffefea"
      },
      "execution_count": 24,
      "outputs": [
        {
          "output_type": "stream",
          "name": "stdout",
          "text": [
            "1\n",
            "4\n",
            "1\n"
          ]
        }
      ]
    },
    {
      "cell_type": "code",
      "source": [],
      "metadata": {
        "id": "KtSxloGzFpWI"
      },
      "execution_count": null,
      "outputs": []
    }
  ]
}