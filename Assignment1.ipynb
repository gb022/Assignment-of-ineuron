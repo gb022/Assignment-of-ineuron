{
  "nbformat": 4,
  "nbformat_minor": 0,
  "metadata": {
    "colab": {
      "provenance": []
    },
    "kernelspec": {
      "name": "python3",
      "display_name": "Python 3"
    },
    "language_info": {
      "name": "python"
    }
  },
  "cells": [
    {
      "cell_type": "markdown",
      "source": [
        "Question 1"
      ],
      "metadata": {
        "id": "cPOYz4Bx21rL"
      }
    },
    {
      "cell_type": "code",
      "execution_count": 1,
      "metadata": {
        "colab": {
          "base_uri": "https://localhost:8080/"
        },
        "id": "VY3Vas7c2zB0",
        "outputId": "87ef88db-fbdf-4b7e-ce1a-9c38e4f8bf36"
      },
      "outputs": [
        {
          "output_type": "stream",
          "name": "stdout",
          "text": [
            "[0, 1]\n"
          ]
        }
      ],
      "source": [
        "def two_sum(nums, target):\n",
        "    complement_map = {}\n",
        "    for i, num in enumerate(nums):\n",
        "        complement = target - num\n",
        "        if complement in complement_map:\n",
        "            return [complement_map[complement], i]\n",
        "        complement_map[num] = i\n",
        "    return None\n",
        "\n",
        "# Example usage\n",
        "nums = [2, 7, 11, 15]\n",
        "target = 9\n",
        "print(two_sum(nums, target))  # [0, 1]"
      ]
    },
    {
      "cell_type": "markdown",
      "source": [
        "Question 2"
      ],
      "metadata": {
        "id": "zUcTdpEd3CsO"
      }
    },
    {
      "cell_type": "code",
      "source": [
        "def remove_element(nums, val):\n",
        "    k = 0  # Count of elements not equal to val\n",
        "    i = 0  # Pointer for iterating through the array\n",
        "    n = len(nums)  # Length of the array\n",
        "\n",
        "    while i < n:\n",
        "        if nums[i] != val:\n",
        "            nums[k] = nums[i]\n",
        "            k += 1\n",
        "        i += 1\n",
        "\n",
        "    return k\n",
        "\n",
        "# Example usage\n",
        "nums = [3, 2, 2, 3]\n",
        "val = 3\n",
        "count = remove_element(nums, val)\n",
        "print(count)  # 2\n",
        "print(nums)  # [2, 2, _, _]"
      ],
      "metadata": {
        "colab": {
          "base_uri": "https://localhost:8080/"
        },
        "id": "wzWvdGa53Egy",
        "outputId": "e96f5221-9e24-45d6-e4ea-b7d4a6473f11"
      },
      "execution_count": 2,
      "outputs": [
        {
          "output_type": "stream",
          "name": "stdout",
          "text": [
            "2\n",
            "[2, 2, 2, 3]\n"
          ]
        }
      ]
    },
    {
      "cell_type": "markdown",
      "source": [
        "Question 3"
      ],
      "metadata": {
        "id": "Cf_5Fvbm3PIw"
      }
    },
    {
      "cell_type": "code",
      "source": [
        "def search_insert(nums, target):\n",
        "    left = 0\n",
        "    right = len(nums) - 1\n",
        "\n",
        "    while left <= right:\n",
        "        mid = (left + right) // 2\n",
        "        if nums[mid] == target:\n",
        "            return mid\n",
        "        elif nums[mid] < target:\n",
        "            left = mid + 1\n",
        "        else:\n",
        "            right = mid - 1\n",
        "\n",
        "    return left\n",
        "\n",
        "# Example usage\n",
        "nums = [1, 3, 5, 6]\n",
        "target = 5\n",
        "index = search_insert(nums, target)\n",
        "print(index)  # 2"
      ],
      "metadata": {
        "colab": {
          "base_uri": "https://localhost:8080/"
        },
        "id": "gwtqItOm3QQe",
        "outputId": "655e2efe-69e3-4c8b-a823-44ff7e01af9b"
      },
      "execution_count": 3,
      "outputs": [
        {
          "output_type": "stream",
          "name": "stdout",
          "text": [
            "2\n"
          ]
        }
      ]
    },
    {
      "cell_type": "markdown",
      "source": [
        "Questin 4"
      ],
      "metadata": {
        "id": "nYkTen2N3TUH"
      }
    },
    {
      "cell_type": "code",
      "source": [
        "def plus_one(digits):\n",
        "    n = len(digits)\n",
        "    for i in range(n - 1, -1, -1):\n",
        "        if digits[i] < 9:\n",
        "            digits[i] += 1\n",
        "            return digits\n",
        "        else:\n",
        "            digits[i] = 0\n",
        "\n",
        "    # If we reach here, it means all digits were 9\n",
        "    return [1] + digits\n",
        "\n",
        "# Example usage\n",
        "digits = [1, 2, 3]\n",
        "result = plus_one(digits)\n",
        "print(result)  # [1, 2, 4]"
      ],
      "metadata": {
        "colab": {
          "base_uri": "https://localhost:8080/"
        },
        "id": "FHcH3Ncm3Ue2",
        "outputId": "948e0b93-f218-4fe7-b77f-607653827949"
      },
      "execution_count": 4,
      "outputs": [
        {
          "output_type": "stream",
          "name": "stdout",
          "text": [
            "[1, 2, 4]\n"
          ]
        }
      ]
    },
    {
      "cell_type": "markdown",
      "source": [
        "Question 5"
      ],
      "metadata": {
        "id": "oSygDPKW3aey"
      }
    },
    {
      "cell_type": "code",
      "source": [
        "def merge(nums1, m, nums2, n):\n",
        "    i = m - 1\n",
        "    j = n - 1\n",
        "    k = m + n - 1\n",
        "\n",
        "    while i >= 0 and j >= 0:\n",
        "        if nums1[i] > nums2[j]:\n",
        "            nums1[k] = nums1[i]\n",
        "            i -= 1\n",
        "        else:\n",
        "            nums1[k] = nums2[j]\n",
        "            j -= 1\n",
        "        k -= 1\n",
        "\n",
        "    # If there are remaining elements in nums2\n",
        "    while j >= 0:\n",
        "        nums1[k] = nums2[j]\n",
        "        j -= 1\n",
        "        k -= 1\n",
        "\n",
        "    # nums1 is already modified in-place\n",
        "\n",
        "# Example usage\n",
        "nums1 = [1, 2, 3, 0, 0, 0]\n",
        "m = 3\n",
        "nums2 = [2, 5, 6]\n",
        "n = 3\n",
        "merge(nums1, m, nums2, n)\n",
        "print(nums1)  # [1, 2, 2, 3, 5, 6]"
      ],
      "metadata": {
        "colab": {
          "base_uri": "https://localhost:8080/"
        },
        "id": "k8olq8kZ3b7g",
        "outputId": "3dcee8a0-96f2-4604-afb4-92aaed5dfb73"
      },
      "execution_count": 5,
      "outputs": [
        {
          "output_type": "stream",
          "name": "stdout",
          "text": [
            "[1, 2, 2, 3, 5, 6]\n"
          ]
        }
      ]
    },
    {
      "cell_type": "markdown",
      "source": [
        "Question 6"
      ],
      "metadata": {
        "id": "1riBeS-k3fG3"
      }
    },
    {
      "cell_type": "code",
      "source": [
        "def contains_duplicate(nums):\n",
        "    num_set = set()\n",
        "\n",
        "    for num in nums:\n",
        "        if num in num_set:\n",
        "            return True\n",
        "        num_set.add(num)\n",
        "\n",
        "    return False\n",
        "\n",
        "# Example usage\n",
        "nums = [1, 2, 3, 1]\n",
        "result = contains_duplicate(nums)\n",
        "print(result)  # True"
      ],
      "metadata": {
        "colab": {
          "base_uri": "https://localhost:8080/"
        },
        "id": "eGITNMnD3g3N",
        "outputId": "c3918f7a-51ab-453d-e7ce-71f73556c8ca"
      },
      "execution_count": 6,
      "outputs": [
        {
          "output_type": "stream",
          "name": "stdout",
          "text": [
            "True\n"
          ]
        }
      ]
    },
    {
      "cell_type": "markdown",
      "source": [
        "Question 7"
      ],
      "metadata": {
        "id": "cfgjueu33mwR"
      }
    },
    {
      "cell_type": "code",
      "source": [
        "def move_zeroes(nums):\n",
        "    left = 0\n",
        "    right = 0\n",
        "\n",
        "    while right < len(nums):\n",
        "        if nums[right] != 0:\n",
        "            nums[left], nums[right] = nums[right], nums[left]\n",
        "            left += 1\n",
        "        right += 1\n",
        "\n",
        "# Example usage\n",
        "nums = [0, 1, 0, 3, 12]\n",
        "move_zeroes(nums)\n",
        "print(nums)  # [1, 3, 12, 0, 0]"
      ],
      "metadata": {
        "colab": {
          "base_uri": "https://localhost:8080/"
        },
        "id": "o_wS7IDL3por",
        "outputId": "4a2665ec-50d9-4282-f07e-21c355ea6d56"
      },
      "execution_count": 7,
      "outputs": [
        {
          "output_type": "stream",
          "name": "stdout",
          "text": [
            "[1, 3, 12, 0, 0]\n"
          ]
        }
      ]
    },
    {
      "cell_type": "markdown",
      "source": [
        "Question 8"
      ],
      "metadata": {
        "id": "hbEWLsiK3vfJ"
      }
    },
    {
      "cell_type": "code",
      "source": [
        "def find_error_nums(nums):\n",
        "    num_set = set()\n",
        "    duplicate_num = None\n",
        "\n",
        "    for num in nums:\n",
        "        if num in num_set:\n",
        "            duplicate_num = num\n",
        "        else:\n",
        "            num_set.add(num)\n",
        "\n",
        "    n = len(nums)\n",
        "    missing_num = None\n",
        "    for num in range(1, n + 1):\n",
        "        if num not in num_set:\n",
        "            missing_num = num\n",
        "            break\n",
        "\n",
        "    return [duplicate_num, missing_num]\n",
        "\n",
        "# Example usage\n",
        "nums = [1, 2, 2, 4]\n",
        "result = find_error_nums(nums)\n",
        "print(result)  # [2, 3]"
      ],
      "metadata": {
        "colab": {
          "base_uri": "https://localhost:8080/"
        },
        "id": "QlzCS0J13wqZ",
        "outputId": "8435ab79-d450-4810-a7f6-6457a262eb52"
      },
      "execution_count": 10,
      "outputs": [
        {
          "output_type": "stream",
          "name": "stdout",
          "text": [
            "[2, 3]\n"
          ]
        }
      ]
    }
  ]
}