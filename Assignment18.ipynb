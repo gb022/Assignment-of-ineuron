{
  "nbformat": 4,
  "nbformat_minor": 0,
  "metadata": {
    "colab": {
      "provenance": []
    },
    "kernelspec": {
      "name": "python3",
      "display_name": "Python 3"
    },
    "language_info": {
      "name": "python"
    }
  },
  "cells": [
    {
      "cell_type": "code",
      "execution_count": 1,
      "metadata": {
        "colab": {
          "base_uri": "https://localhost:8080/"
        },
        "id": "hBdREPScnWbZ",
        "outputId": "256a79da-97ed-4f62-dd60-ecaad9d03b52"
      },
      "outputs": [
        {
          "output_type": "stream",
          "name": "stdout",
          "text": [
            "[[1, 6], [8, 10], [15, 18]]\n",
            "[[1, 5]]\n"
          ]
        }
      ],
      "source": [
        "# Question 1\n",
        "def merge_intervals(intervals):\n",
        "    intervals.sort(key=lambda x: x[0])  # Sort intervals based on start times\n",
        "    merged = []  # Result list to store merged intervals\n",
        "\n",
        "    for interval in intervals:\n",
        "        if not merged or interval[0] > merged[-1][1]:\n",
        "            merged.append(interval)\n",
        "        else:\n",
        "            merged[-1][1] = max(merged[-1][1], interval[1])\n",
        "\n",
        "    return merged\n",
        "intervals1 = [[1, 3], [2, 6], [8, 10], [15, 18]]\n",
        "print(merge_intervals(intervals1))  # Output: [[1, 6], [8, 10], [15, 18]]\n",
        "\n",
        "intervals2 = [[1, 4], [4, 5]]\n",
        "print(merge_intervals(intervals2))  # Output: [[1, 5]]\n"
      ]
    },
    {
      "cell_type": "code",
      "source": [
        "# question 2\n",
        "def sortColors(nums):\n",
        "    low, mid, high = 0, 0, len(nums) - 1\n",
        "\n",
        "    while mid <= high:\n",
        "        if nums[mid] == 0:\n",
        "            nums[low], nums[mid] = nums[mid], nums[low]\n",
        "            low += 1\n",
        "            mid += 1\n",
        "        elif nums[mid] == 1:\n",
        "            mid += 1\n",
        "        else:\n",
        "            nums[mid], nums[high] = nums[high], nums[mid]\n",
        "            high -= 1\n",
        "nums1 = [2, 0, 2, 1, 1, 0]\n",
        "sortColors(nums1)\n",
        "print(nums1)  # Output: [0, 0, 1, 1, 2, 2]\n",
        "\n",
        "nums2 = [2, 0, 1]\n",
        "sortColors(nums2)\n",
        "print(nums2)  # Output: [0, 1, 2]\n"
      ],
      "metadata": {
        "colab": {
          "base_uri": "https://localhost:8080/"
        },
        "id": "IUUrpVGTnobp",
        "outputId": "e4ac163b-c09c-4b5a-d361-9e61fd85b5ac"
      },
      "execution_count": 2,
      "outputs": [
        {
          "output_type": "stream",
          "name": "stdout",
          "text": [
            "[0, 0, 1, 1, 2, 2]\n",
            "[0, 1, 2]\n"
          ]
        }
      ]
    },
    {
      "cell_type": "code",
      "source": [
        "# Queation 3\n",
        "def firstBadVersion(n):\n",
        "    left, right = 1, n\n",
        "\n",
        "    while left < right:\n",
        "        mid = left + (right - left) // 2\n",
        "        if isBadVersion(mid):\n",
        "            right = mid\n",
        "        else:\n",
        "            left = mid + 1\n",
        "\n",
        "    return left\n"
      ],
      "metadata": {
        "id": "CXarb_ZXnvOq"
      },
      "execution_count": 5,
      "outputs": []
    },
    {
      "cell_type": "code",
      "source": [
        "# question 4\n",
        "def maximumGap(nums):\n",
        "    if len(nums) < 2:\n",
        "        return 0\n",
        "\n",
        "    minVal, maxVal = min(nums), max(nums)\n",
        "    if minVal == maxVal:\n",
        "        return 0\n",
        "\n",
        "    bucketSize = max(1, (maxVal - minVal) // (len(nums) - 1))\n",
        "    numBuckets = (maxVal - minVal) // bucketSize + 1\n",
        "    buckets = [[float('inf'), float('-inf')] for _ in range(numBuckets)]\n",
        "\n",
        "    for num in nums:\n",
        "        bucketIndex = (num - minVal) // bucketSize\n",
        "        buckets[bucketIndex][0] = min(buckets[bucketIndex][0], num)\n",
        "        buckets[bucketIndex][1] = max(buckets[bucketIndex][1], num)\n",
        "\n",
        "    prevMax = minVal\n",
        "    maxDiff = 0\n",
        "\n",
        "    for bucket in buckets:\n",
        "        if bucket[0] != float('inf'):\n",
        "            maxDiff = max(maxDiff, bucket[0] - prevMax)\n",
        "            prevMax = bucket[1]\n",
        "\n",
        "    return maxDiff\n",
        "nums1 = [3, 6, 9, 1]\n",
        "print(maximumGap(nums1))  # Output: 3\n",
        "\n",
        "nums2 = [10]\n",
        "print(maximumGap(nums2))  # Output: 0\n"
      ],
      "metadata": {
        "colab": {
          "base_uri": "https://localhost:8080/"
        },
        "id": "SBXofncUoG78",
        "outputId": "8f93747b-df00-4223-ad05-04bb23116de4"
      },
      "execution_count": 6,
      "outputs": [
        {
          "output_type": "stream",
          "name": "stdout",
          "text": [
            "3\n",
            "0\n"
          ]
        }
      ]
    },
    {
      "cell_type": "code",
      "source": [
        "# Question 5\n",
        "def containsDuplicate(nums):\n",
        "    seen = set()\n",
        "    for num in nums:\n",
        "        if num in seen:\n",
        "            return True\n",
        "        seen.add(num)\n",
        "    return False\n",
        "nums1 = [1, 2, 3, 1]\n",
        "print(containsDuplicate(nums1))  # Output: True\n",
        "\n",
        "nums2 = [1, 2, 3, 4]\n",
        "print(containsDuplicate(nums2))  # Output: False\n",
        "\n",
        "nums3 = [1, 1, 1, 3, 3, 4, 3, 2, 4, 2]\n",
        "print(containsDuplicate(nums3))  # Output: True\n"
      ],
      "metadata": {
        "colab": {
          "base_uri": "https://localhost:8080/"
        },
        "id": "ie9g3MRCoMT8",
        "outputId": "8d571e6a-0c92-45f2-b8a6-3174aaa0729c"
      },
      "execution_count": 7,
      "outputs": [
        {
          "output_type": "stream",
          "name": "stdout",
          "text": [
            "True\n",
            "False\n",
            "True\n"
          ]
        }
      ]
    },
    {
      "cell_type": "code",
      "source": [
        "# Question 6\n",
        "def findMinArrowShots(points):\n",
        "    points.sort(key=lambda x: x[1])  # Sort based on xend in ascending order\n",
        "    end = points[0][1]  # Initialize the end point with the first balloon's xend\n",
        "    arrows = 1  # Initial arrow count\n",
        "\n",
        "    for i in range(1, len(points)):\n",
        "        if points[i][0] > end:\n",
        "            # Need a new arrow since the current balloon's start point is greater than the current end\n",
        "            end = points[i][1]  # Update the end point\n",
        "            arrows += 1  # Increment arrow count\n",
        "\n",
        "    return arrows\n",
        "points1 = [[10, 16], [2, 8], [1, 6], [7, 12]]\n",
        "print(findMinArrowShots(points1))  # Output: 2\n",
        "\n",
        "points2 = [[1, 2], [3, 4], [5, 6], [7, 8]]\n",
        "print(findMinArrowShots(points2))  # Output: 4\n",
        "\n",
        "points3 = [[1, 2], [2, 3], [3, 4], [4, 5]]\n",
        "print(findMinArrowShots(points3))  # Output: 2\n"
      ],
      "metadata": {
        "colab": {
          "base_uri": "https://localhost:8080/"
        },
        "id": "q72Rtvi4o2zq",
        "outputId": "bdaf48b6-c615-44ce-9ebc-3dcbcd3d2a46"
      },
      "execution_count": 8,
      "outputs": [
        {
          "output_type": "stream",
          "name": "stdout",
          "text": [
            "2\n",
            "4\n",
            "2\n"
          ]
        }
      ]
    },
    {
      "cell_type": "code",
      "source": [
        "# Question 7\n",
        "def lengthOfLIS(nums):\n",
        "    n = len(nums)\n",
        "    dp = [1] * n\n",
        "\n",
        "    for i in range(1, n):\n",
        "        for j in range(i):\n",
        "            if nums[i] > nums[j]:\n",
        "                dp[i] = max(dp[i], dp[j] + 1)\n",
        "\n",
        "    return max(dp)\n",
        "nums1 = [10, 9, 2, 5, 3, 7, 101, 18]\n",
        "print(lengthOfLIS(nums1))  # Output: 4\n",
        "\n",
        "nums2 = [0, 1, 0, 3, 2, 3]\n",
        "print(lengthOfLIS(nums2))  # Output: 4\n",
        "\n",
        "nums3 = [7, 7, 7, 7, 7, 7, 7]\n",
        "print(lengthOfLIS(nums3))  # Output: 1\n"
      ],
      "metadata": {
        "colab": {
          "base_uri": "https://localhost:8080/"
        },
        "id": "T-lLd8S1pEP_",
        "outputId": "c2877861-5455-4ff6-b9ac-3eea0f4478db"
      },
      "execution_count": 9,
      "outputs": [
        {
          "output_type": "stream",
          "name": "stdout",
          "text": [
            "4\n",
            "4\n",
            "1\n"
          ]
        }
      ]
    },
    {
      "cell_type": "code",
      "source": [
        "# Questrion 8\n",
        "def find132pattern(nums):\n",
        "    stack = []\n",
        "    second = float('-inf')\n",
        "\n",
        "    for num in reversed(nums):\n",
        "        if num > second:\n",
        "            return True\n",
        "        while stack and num > stack[-1]:\n",
        "            second = max(second, stack.pop())\n",
        "        stack.append(num)\n",
        "\n",
        "    return False\n",
        "nums1 = [1, 2, 3, 4]\n",
        "print(find132pattern(nums1))  # Output: False\n",
        "\n",
        "nums2 = [3, 1, 4, 2]\n",
        "print(find132pattern(nums2))  # Output: True\n",
        "\n",
        "nums3 = [-1, 3, 2, 0]\n",
        "print(find132pattern(nums3))  # Output: True\n"
      ],
      "metadata": {
        "colab": {
          "base_uri": "https://localhost:8080/"
        },
        "id": "rJJueus4pOxq",
        "outputId": "af70c1e4-0389-44cc-cf96-e0e1c64ea733"
      },
      "execution_count": 10,
      "outputs": [
        {
          "output_type": "stream",
          "name": "stdout",
          "text": [
            "True\n",
            "True\n",
            "True\n"
          ]
        }
      ]
    },
    {
      "cell_type": "code",
      "source": [],
      "metadata": {
        "id": "lOQ7UXMTpaXC"
      },
      "execution_count": null,
      "outputs": []
    }
  ]
}