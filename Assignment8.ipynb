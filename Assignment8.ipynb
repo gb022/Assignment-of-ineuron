{
  "nbformat": 4,
  "nbformat_minor": 0,
  "metadata": {
    "colab": {
      "provenance": []
    },
    "kernelspec": {
      "name": "python3",
      "display_name": "Python 3"
    },
    "language_info": {
      "name": "python"
    }
  },
  "cells": [
    {
      "cell_type": "markdown",
      "source": [
        "QUESTION 8"
      ],
      "metadata": {
        "id": "Uo-GbFBuLR7h"
      }
    },
    {
      "cell_type": "code",
      "execution_count": 3,
      "metadata": {
        "id": "JWGlEdfSKJ-Q"
      },
      "outputs": [],
      "source": [
        "def buddyStrings(s, goal):\n",
        "    if len(s) != len(goal):\n",
        "        return False\n",
        "\n",
        "    if s == goal:\n",
        "        seen = set()\n",
        "        for char in s:\n",
        "            if char in seen:\n",
        "                return True\n",
        "            seen.add(char)\n",
        "        return False\n",
        "\n",
        "    diff_s = []\n",
        "    diff_goal = []\n",
        "    for i in range(len(s)):\n",
        "        if s[i] != goal[i]:\n",
        "            diff_s.append(s[i])\n",
        "            diff_goal.append(goal[i])\n",
        "\n",
        "    if len(diff_s) != 2:\n",
        "        return False\n",
        "\n",
        "    return diff_s == diff_goal[::-1]"
      ]
    },
    {
      "cell_type": "code",
      "source": [
        "s = \"ab\"\n",
        "goal = \"ba\"\n",
        "can_swap = buddyStrings(s, goal)\n",
        "print(can_swap)"
      ],
      "metadata": {
        "colab": {
          "base_uri": "https://localhost:8080/"
        },
        "id": "VEwhjjr2KPsM",
        "outputId": "6beb322d-5f90-4c4e-ae11-db30da9e02d4"
      },
      "execution_count": 4,
      "outputs": [
        {
          "output_type": "stream",
          "name": "stdout",
          "text": [
            "True\n"
          ]
        }
      ]
    },
    {
      "cell_type": "markdown",
      "source": [
        "QUESTION 7 "
      ],
      "metadata": {
        "id": "f0wk8SlVLXvp"
      }
    },
    {
      "cell_type": "code",
      "source": [
        "def decodeString(s):\n",
        "    stack = []\n",
        "    current_string = \"\"\n",
        "    current_num = 0\n",
        "\n",
        "    for c in s:\n",
        "        if c.isdigit():\n",
        "            current_num = current_num * 10 + int(c)\n",
        "        elif c == \"[\":\n",
        "            stack.append(current_string)\n",
        "            stack.append(current_num)\n",
        "            current_string = \"\"\n",
        "            current_num = 0\n",
        "        elif c == \"]\":\n",
        "            num = stack.pop()\n",
        "            prev_string = stack.pop()\n",
        "            current_string = prev_string + num * current_string\n",
        "        else:\n",
        "            current_string += c\n",
        "\n",
        "    return current_string"
      ],
      "metadata": {
        "id": "dRi_k35YLZbN"
      },
      "execution_count": 5,
      "outputs": []
    },
    {
      "cell_type": "code",
      "source": [
        "s = \"3[a]2[bc]\"\n",
        "decoded_string = decodeString(s)\n",
        "print(decoded_string)"
      ],
      "metadata": {
        "colab": {
          "base_uri": "https://localhost:8080/"
        },
        "id": "VqFP0LqFLcHZ",
        "outputId": "2f985c50-7d03-49e2-942e-cd7e0dbb204e"
      },
      "execution_count": 6,
      "outputs": [
        {
          "output_type": "stream",
          "name": "stdout",
          "text": [
            "aaabcbc\n"
          ]
        }
      ]
    },
    {
      "cell_type": "markdown",
      "source": [
        "QUESTION 6"
      ],
      "metadata": {
        "id": "SdGkN6WvLeWl"
      }
    },
    {
      "cell_type": "code",
      "source": [
        "from collections import Counter\n",
        "\n",
        "def findAnagrams(s, p):\n",
        "    p_freq = Counter(p)\n",
        "    left, right = 0, 0\n",
        "    result = []\n",
        "\n",
        "    while right < len(s):\n",
        "        p_freq[s[right]] -= 1\n",
        "\n",
        "        if right - left + 1 == len(p):\n",
        "            if all(value == 0 for value in p_freq.values()):\n",
        "                result.append(left)\n",
        "\n",
        "            p_freq[s[left]] += 1\n",
        "            left += 1\n",
        "\n",
        "        right += 1\n",
        "\n",
        "    return result"
      ],
      "metadata": {
        "id": "fONHcpNULf5Q"
      },
      "execution_count": 7,
      "outputs": []
    },
    {
      "cell_type": "code",
      "source": [
        "s = \"cbaebabacd\"\n",
        "p = \"abc\"\n",
        "indices = findAnagrams(s, p)\n",
        "print(indices)"
      ],
      "metadata": {
        "colab": {
          "base_uri": "https://localhost:8080/"
        },
        "id": "MBefcVp5LiWv",
        "outputId": "933e5967-510d-4b33-ff15-7d1d456fa84a"
      },
      "execution_count": 8,
      "outputs": [
        {
          "output_type": "stream",
          "name": "stdout",
          "text": [
            "[0, 6]\n"
          ]
        }
      ]
    },
    {
      "cell_type": "markdown",
      "source": [
        "QUESTION 5"
      ],
      "metadata": {
        "id": "6qobYtTBLkhy"
      }
    },
    {
      "cell_type": "code",
      "source": [
        "def compress(chars):\n",
        "    write = 0\n",
        "    read = 0\n",
        "\n",
        "    while read < len(chars):\n",
        "        count = 1\n",
        "        while read + 1 < len(chars) and chars[read] == chars[read + 1]:\n",
        "            read += 1\n",
        "            count += 1\n",
        "\n",
        "        chars[write] = chars[read]\n",
        "        write += 1\n",
        "\n",
        "        if count > 1:\n",
        "            count_str = str(count)\n",
        "            for digit in count_str:\n",
        "                chars[write] = digit\n",
        "                write += 1\n",
        "\n",
        "        read += 1\n",
        "\n",
        "    return write"
      ],
      "metadata": {
        "id": "78ZI9-gdLmfJ"
      },
      "execution_count": 9,
      "outputs": []
    },
    {
      "cell_type": "code",
      "source": [
        "chars = [\"a\", \"a\", \"b\", \"b\", \"c\", \"c\", \"c\"]\n",
        "new_length = compress(chars)\n",
        "print(new_length)\n",
        "print(chars[:new_length])"
      ],
      "metadata": {
        "colab": {
          "base_uri": "https://localhost:8080/"
        },
        "id": "UB5R9nINLpEd",
        "outputId": "a844ba4e-25ab-4dd9-88e5-3d7691d1f457"
      },
      "execution_count": 10,
      "outputs": [
        {
          "output_type": "stream",
          "name": "stdout",
          "text": [
            "6\n",
            "['a', '2', 'b', '2', 'c', '3']\n"
          ]
        }
      ]
    },
    {
      "cell_type": "markdown",
      "source": [
        "QUESTION 4"
      ],
      "metadata": {
        "id": "0M1pWHmkLsdH"
      }
    },
    {
      "cell_type": "code",
      "source": [
        "class TreeNode:\n",
        "    def __init__(self, val=0, left=None, right=None):\n",
        "        self.val = val\n",
        "        self.left = left\n",
        "        self.right = right\n",
        "\n",
        "\n",
        "def constructTree(s):\n",
        "    if not s:\n",
        "        return None\n",
        "\n",
        "    # Find the index of the first opening parenthesis\n",
        "    i = s.find('(')\n",
        "    if i == -1:\n",
        "        # No opening parenthesis found, so the whole string is a single node\n",
        "        return TreeNode(int(s))\n",
        "\n",
        "    # Extract the value of the current node\n",
        "    root_val = int(s[:i])\n",
        "    root = TreeNode(root_val)\n",
        "\n",
        "    # Find the substring representing the left child tree\n",
        "    j = findClosingParenthesis(s, i)\n",
        "    root.left = constructTree(s[i + 1 : j])\n",
        "\n",
        "    # Find the substring representing the right child tree\n",
        "    k = findNextOpeningParenthesis(s, j)\n",
        "    root.right = constructTree(s[j + 2 : k])\n",
        "\n",
        "    return root\n",
        "\n",
        "\n",
        "def findClosingParenthesis(s, start):\n",
        "    stack = []\n",
        "    for i in range(start, len(s)):\n",
        "        if s[i] == '(':\n",
        "            stack.append('(')\n",
        "        elif s[i] == ')':\n",
        "            stack.pop()\n",
        "            if len(stack) == 0:\n",
        "                return i\n",
        "\n",
        "\n",
        "def findNextOpeningParenthesis(s, start):\n",
        "    for i in range(start, len(s)):\n",
        "        if s[i] == '(':\n",
        "            return i"
      ],
      "metadata": {
        "id": "pJt82ZPUL07s"
      },
      "execution_count": 11,
      "outputs": []
    },
    {
      "cell_type": "code",
      "source": [
        "s = \"4(2(3)(1))(6(5))\"\n",
        "tree = constructTree(s)\n",
        "\n",
        "\n",
        "def inorderTraversal(root):\n",
        "    if root is None:\n",
        "        return []\n",
        "    return (\n",
        "        inorderTraversal(root.left)\n",
        "        + [root.val]\n",
        "        + inorderTraversal(root.right)\n",
        "    )\n",
        "\n",
        "\n",
        "result = inorderTraversal(tree)\n",
        "print(result)"
      ],
      "metadata": {
        "colab": {
          "base_uri": "https://localhost:8080/"
        },
        "id": "9Kt31uAwL2XR",
        "outputId": "93d3edde-af9d-467d-9c2b-e64348d9c528"
      },
      "execution_count": 12,
      "outputs": [
        {
          "output_type": "stream",
          "name": "stdout",
          "text": [
            "[3, 2, 4]\n"
          ]
        }
      ]
    },
    {
      "cell_type": "markdown",
      "source": [
        "QUESTION 3"
      ],
      "metadata": {
        "id": "GlfWOWIaL4xB"
      }
    },
    {
      "cell_type": "code",
      "source": [
        "def minDistance(word1, word2):\n",
        "    m, n = len(word1), len(word2)\n",
        "    dp = [[0] * (n + 1) for _ in range(m + 1)]\n",
        "\n",
        "    # Initialize the first row\n",
        "    for j in range(1, n + 1):\n",
        "        dp[0][j] = j\n",
        "\n",
        "    # Initialize the first column\n",
        "    for i in range(1, m + 1):\n",
        "        dp[i][0] = i\n",
        "\n",
        "    # Fill in the dp array\n",
        "    for i in range(1, m + 1):\n",
        "        for j in range(1, n + 1):\n",
        "            if word1[i - 1] == word2[j - 1]:\n",
        "                dp[i][j] = dp[i - 1][j - 1]\n",
        "            else:\n",
        "                dp[i][j] = min(dp[i - 1][j], dp[i][j - 1]) + 1\n",
        "\n",
        "    return dp[m][n]"
      ],
      "metadata": {
        "id": "Dlh5Oup_MB2K"
      },
      "execution_count": 13,
      "outputs": []
    },
    {
      "cell_type": "code",
      "source": [
        "word1 = \"sea\"\n",
        "word2 = \"eat\"\n",
        "print(minDistance(word1, word2))"
      ],
      "metadata": {
        "colab": {
          "base_uri": "https://localhost:8080/"
        },
        "id": "eamhT5XVMD_Y",
        "outputId": "17654220-6bf1-4e73-afa6-e71e6c6e62d0"
      },
      "execution_count": 14,
      "outputs": [
        {
          "output_type": "stream",
          "name": "stdout",
          "text": [
            "2\n"
          ]
        }
      ]
    },
    {
      "cell_type": "markdown",
      "source": [
        "QUESTION 2"
      ],
      "metadata": {
        "id": "yeLfhghTMF8y"
      }
    },
    {
      "cell_type": "code",
      "source": [
        "def checkValidString(s):\n",
        "    stack = []\n",
        "    asterisks = []\n",
        "\n",
        "    for i, c in enumerate(s):\n",
        "        if c == '(':\n",
        "            stack.append(i)\n",
        "        elif c == '*':\n",
        "            asterisks.append(i)\n",
        "        else:\n",
        "            if stack:\n",
        "                stack.pop()\n",
        "            elif asterisks:\n",
        "                asterisks.pop()\n",
        "            else:\n",
        "                return False\n",
        "\n",
        "    while stack and asterisks:\n",
        "        if stack[-1] < asterisks[-1]:\n",
        "            stack.pop()\n",
        "            asterisks.pop()\n",
        "        else:\n",
        "            break\n",
        "\n",
        "    return len(stack) == 0 or len(stack) <= len(asterisks)"
      ],
      "metadata": {
        "id": "jhcicPySMHzM"
      },
      "execution_count": 15,
      "outputs": []
    },
    {
      "cell_type": "code",
      "source": [
        "s = \"()\"\n",
        "print(checkValidString(s))"
      ],
      "metadata": {
        "colab": {
          "base_uri": "https://localhost:8080/"
        },
        "id": "ZgmZCV1tMLD-",
        "outputId": "e34ed064-5e0e-474a-c11c-0636b41a7d92"
      },
      "execution_count": 16,
      "outputs": [
        {
          "output_type": "stream",
          "name": "stdout",
          "text": [
            "True\n"
          ]
        }
      ]
    },
    {
      "cell_type": "markdown",
      "source": [
        "QUESTION 1"
      ],
      "metadata": {
        "id": "nw7sznXvMNAc"
      }
    },
    {
      "cell_type": "code",
      "source": [
        "def minimumDeleteSum(s1, s2):\n",
        "    m, n = len(s1), len(s2)\n",
        "    dp = [[0] * (n + 1) for _ in range(m + 1)]\n",
        "\n",
        "    # Initialize the first row\n",
        "    for j in range(1, n + 1):\n",
        "        dp[0][j] = dp[0][j - 1] + ord(s2[j - 1])\n",
        "\n",
        "    # Initialize the first column\n",
        "    for i in range(1, m + 1):\n",
        "        dp[i][0] = dp[i - 1][0] + ord(s1[i - 1])\n",
        "\n",
        "    # Fill in the dp array\n",
        "    for i in range(1, m + 1):\n",
        "        for j in range(1, n + 1):\n",
        "            if s1[i - 1] == s2[j - 1]:\n",
        "                dp[i][j] = dp[i - 1][j - 1]\n",
        "            else:\n",
        "                dp[i][j] = min(dp[i - 1][j] + ord(s1[i - 1]), dp[i][j - 1] + ord(s2[j - 1]))\n",
        "\n",
        "    return dp[m][n]"
      ],
      "metadata": {
        "id": "6qzhNN7HMPmx"
      },
      "execution_count": 17,
      "outputs": []
    },
    {
      "cell_type": "code",
      "source": [
        "s1 = \"sea\"\n",
        "s2 = \"eat\"\n",
        "print(minimumDeleteSum(s1, s2))"
      ],
      "metadata": {
        "colab": {
          "base_uri": "https://localhost:8080/"
        },
        "id": "1ebTmX44MR52",
        "outputId": "935ec525-8a39-43a9-9550-475a5e81924d"
      },
      "execution_count": 18,
      "outputs": [
        {
          "output_type": "stream",
          "name": "stdout",
          "text": [
            "231\n"
          ]
        }
      ]
    }
  ]
}