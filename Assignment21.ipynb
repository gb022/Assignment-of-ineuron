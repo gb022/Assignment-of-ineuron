{
  "nbformat": 4,
  "nbformat_minor": 0,
  "metadata": {
    "colab": {
      "provenance": []
    },
    "kernelspec": {
      "name": "python3",
      "display_name": "Python 3"
    },
    "language_info": {
      "name": "python"
    }
  },
  "cells": [
    {
      "cell_type": "code",
      "execution_count": 1,
      "metadata": {
        "colab": {
          "base_uri": "https://localhost:8080/",
          "height": 70
        },
        "id": "pg6qR9vhfrZD",
        "outputId": "0e282d1a-98ac-49a3-d274-d7f416b5d8d2"
      },
      "outputs": [
        {
          "output_type": "execute_result",
          "data": {
            "text/plain": [
              "'\\nYou are given a binary tree. The binary tree is represented using the TreeNode class. Each TreeNode has an integer value and left and right children, represented using the TreeNode class itself. Convert this binary tree into a binary search tree.\\n\\nInput:\\n\\n        10\\n\\n       /   \\n     2      7\\n\\n   /   \\n 8      4\\n\\nOutput:\\n\\n        8\\n\\n      /   \\n    4     10\\n\\n  /   \\n2      7\\n'"
            ],
            "application/vnd.google.colaboratory.intrinsic+json": {
              "type": "string"
            }
          },
          "metadata": {},
          "execution_count": 1
        }
      ],
      "source": [
        "# 💡 Question-1\n",
        "'''\n",
        "You are given a binary tree. The binary tree is represented using the TreeNode class. Each TreeNode has an integer value and left and right children, represented using the TreeNode class itself. Convert this binary tree into a binary search tree.\n",
        "\n",
        "Input:\n",
        "\n",
        "        10\n",
        "\n",
        "       /   \\\n",
        "\n",
        "     2      7\n",
        "\n",
        "   /   \\\n",
        "\n",
        " 8      4\n",
        "\n",
        "Output:\n",
        "\n",
        "        8\n",
        "\n",
        "      /   \\\n",
        "\n",
        "    4     10\n",
        "\n",
        "  /   \\\n",
        "\n",
        "2      7\n",
        "'''"
      ]
    },
    {
      "cell_type": "code",
      "source": [
        "class TreeNode:\n",
        "    def __init__(self, value):\n",
        "        self.value = value\n",
        "        self.left = None\n",
        "        self.right = None\n",
        "\n",
        "\n",
        "def convert_binary_tree_to_bst(root):\n",
        "    # Step 1: Perform an in-order traversal to extract values\n",
        "    def inorder_traversal(node, values):\n",
        "        if node:\n",
        "            inorder_traversal(node.left, values)\n",
        "            values.append(node.value)\n",
        "            inorder_traversal(node.right, values)\n",
        "\n",
        "    values = []\n",
        "    inorder_traversal(root, values)\n",
        "\n",
        "    # Step 2: Sort the extracted values\n",
        "    values.sort()\n",
        "\n",
        "    # Step 3: Modify the binary tree with sorted values\n",
        "    index = 0\n",
        "\n",
        "    def modify_tree(node):\n",
        "        nonlocal index\n",
        "        if node:\n",
        "            modify_tree(node.left)\n",
        "            node.value = values[index]\n",
        "            index += 1\n",
        "            modify_tree(node.right)\n",
        "\n",
        "    modify_tree(root)\n",
        "\n",
        "    return root\n",
        "\n",
        "\n",
        "# Example usage\n",
        "# Create the binary tree\n",
        "root = TreeNode(10)\n",
        "root.left = TreeNode(2)\n",
        "root.right = TreeNode(7)\n",
        "root.left.left = TreeNode(8)\n",
        "root.left.right = TreeNode(4)\n",
        "\n",
        "# Convert the binary tree to a binary search tree\n",
        "bst_root = convert_binary_tree_to_bst(root)\n",
        "\n",
        "# Perform an in-order traversal on the resulting binary search tree to check if it's sorted\n",
        "def inorder_traversal(node):\n",
        "    if node:\n",
        "        inorder_traversal(node.left)\n",
        "        print(node.value)\n",
        "        inorder_traversal(node.right)\n",
        "\n",
        "inorder_traversal(bst_root)\n"
      ],
      "metadata": {
        "colab": {
          "base_uri": "https://localhost:8080/"
        },
        "id": "X9SWvLelgDmT",
        "outputId": "5064f025-1a42-484a-80c9-ebd8f168b7bc"
      },
      "execution_count": 4,
      "outputs": [
        {
          "output_type": "stream",
          "name": "stdout",
          "text": [
            "2\n",
            "4\n",
            "7\n",
            "8\n",
            "10\n"
          ]
        }
      ]
    },
    {
      "cell_type": "code",
      "source": [
        "# 💡 Question-2:\n",
        "'''\n",
        "Given a Binary Search Tree with all unique values and two keys. Find the distance between two nodes in BST. The given keys always exist in BST.\n",
        "\n",
        "Example:\n",
        "\n",
        "Consider the following BST:\n",
        "\n",
        "![1.png](https://s3-us-west-2.amazonaws.com/secure.notion-static.com/f2455039-7e12-43fc-a7d3-b5be24931c1c/1.png)\n",
        "\n",
        "**Input-1:**\n",
        "\n",
        "n = 9\n",
        "\n",
        "values = [8, 3, 1, 6, 4, 7, 10, 14,13]\n",
        "\n",
        "node-1 = 6\n",
        "\n",
        "node-2 = 14\n",
        "\n",
        "**Output-1:**\n",
        "\n",
        "The distance between the two keys = 4\n",
        "\n",
        "**Input-2:**\n",
        "\n",
        "n = 9\n",
        "\n",
        "values = [8, 3, 1, 6, 4, 7, 10, 14,13]\n",
        "\n",
        "node-1 = 3\n",
        "\n",
        "node-2 = 4\n",
        "\n",
        "**Output-2:**\n",
        "\n",
        "The distance between the two keys = 2\n",
        "\n",
        "'''"
      ],
      "metadata": {
        "colab": {
          "base_uri": "https://localhost:8080/",
          "height": 87
        },
        "id": "EUImYBcSg2io",
        "outputId": "0fa019c1-6a15-4d17-99d2-d57db8abb9a3"
      },
      "execution_count": 5,
      "outputs": [
        {
          "output_type": "execute_result",
          "data": {
            "text/plain": [
              "'\\nGiven a Binary Search Tree with all unique values and two keys. Find the distance between two nodes in BST. The given keys always exist in BST.\\n\\nExample:\\n\\nConsider the following BST:\\n\\n![1.png](https://s3-us-west-2.amazonaws.com/secure.notion-static.com/f2455039-7e12-43fc-a7d3-b5be24931c1c/1.png)\\n\\n**Input-1:**\\n\\nn = 9\\n\\nvalues = [8, 3, 1, 6, 4, 7, 10, 14,13]\\n\\nnode-1 = 6\\n\\nnode-2 = 14\\n\\n**Output-1:**\\n\\nThe distance between the two keys = 4\\n\\n**Input-2:**\\n\\nn = 9\\n\\nvalues = [8, 3, 1, 6, 4, 7, 10, 14,13]\\n\\nnode-1 = 3\\n\\nnode-2 = 4\\n\\n**Output-2:**\\n\\nThe distance between the two keys = 2\\n\\n'"
            ],
            "application/vnd.google.colaboratory.intrinsic+json": {
              "type": "string"
            }
          },
          "metadata": {},
          "execution_count": 5
        }
      ]
    },
    {
      "cell_type": "code",
      "source": [
        "class TreeNode:\n",
        "    def __init__(self, value):\n",
        "        self.value = value\n",
        "        self.left = None\n",
        "        self.right = None\n",
        "\n",
        "\n",
        "def find_distance_between_nodes(root, node1, node2):\n",
        "    # Step 1: Search for node1 and node2 in the BST\n",
        "    def search_bst(node, target, path):\n",
        "        if node is None:\n",
        "            return False\n",
        "        if node.value == target:\n",
        "            path.append(node)\n",
        "            return True\n",
        "        if target < node.value:\n",
        "            path.append(node)\n",
        "            return search_bst(node.left, target, path)\n",
        "        else:\n",
        "            path.append(node)\n",
        "            return search_bst(node.right, target, path)\n",
        "\n",
        "    path1 = []\n",
        "    path2 = []\n",
        "\n",
        "    if not search_bst(root, node1, path1) or not search_bst(root, node2, path2):\n",
        "        return -1  # Nodes not found in the BST\n",
        "\n",
        "    # Step 2: Find the lowest common ancestor (LCA) of node1 and node2\n",
        "    lca = None\n",
        "    i = 0\n",
        "    while i < len(path1) and i < len(path2):\n",
        "        if path1[i] != path2[i]:\n",
        "            break\n",
        "        lca = path1[i]\n",
        "        i += 1\n",
        "\n",
        "    # Step 3: Calculate the distance from the LCA to each node\n",
        "    def distance_from_lca(node, target, distance):\n",
        "        if node is None:\n",
        "            return -1\n",
        "        if node.value == target:\n",
        "            return distance\n",
        "        if target < node.value:\n",
        "            return distance_from_lca(node.left, target, distance + 1)\n",
        "        else:\n",
        "            return distance_from_lca(node.right, target, distance + 1)\n",
        "\n",
        "    distance1 = distance_from_lca(lca, node1, 0)\n",
        "    distance2 = distance_from_lca(lca, node2, 0)\n",
        "\n",
        "    if distance1 == -1 or distance2 == -1:\n",
        "        return -1  # Nodes not found\n",
        "\n",
        "    # Step 4: Calculate the total distance between node1 and node2\n",
        "    total_distance = distance1 + distance2\n",
        "\n",
        "    return total_distance\n",
        "\n",
        "\n",
        "# Example usage\n",
        "# Create the Binary Search Tree\n",
        "root = TreeNode(8)\n",
        "root.left = TreeNode(3)\n",
        "root.left.left = TreeNode(1)\n",
        "root.left.right = TreeNode(6)\n",
        "root.left.right.left = TreeNode(4)\n",
        "root.left.right.right = TreeNode(7)\n",
        "root.right = TreeNode(10)\n",
        "root.right.right = TreeNode(14)\n",
        "root.right.right.left = TreeNode(13)\n",
        "\n",
        "# Example 1\n",
        "node1 = 6\n",
        "node2 = 14\n",
        "distance = find_distance_between_nodes(root, node1, node2)\n",
        "print(\"The distance between node {} and node {} = {}\".format(node1, node2, distance))  # Output: 4\n",
        "\n",
        "# Example 2\n",
        "node1 = 3\n",
        "node2 = 4\n",
        "distance = find_distance_between_nodes(root, node1, node2)\n",
        "print(\"The distance between node {} and node {} = {}\".format(node1, node2, distance))  # Output: 2\n"
      ],
      "metadata": {
        "colab": {
          "base_uri": "https://localhost:8080/"
        },
        "id": "nRaLrdpBhZFW",
        "outputId": "f58c927d-9a35-4735-aaf1-7a9ff7273772"
      },
      "execution_count": 6,
      "outputs": [
        {
          "output_type": "stream",
          "name": "stdout",
          "text": [
            "The distance between node 6 and node 14 = 4\n",
            "The distance between node 3 and node 4 = 2\n"
          ]
        }
      ]
    },
    {
      "cell_type": "code",
      "source": [
        "# 💡 Question-3:\n",
        "'''\n",
        "Write a program to convert a binary tree to a doubly linked list.\n",
        "\n",
        "Input:\n",
        "\n",
        "        10\n",
        "\n",
        "       /   \\\n",
        "\n",
        "     5     20\n",
        "\n",
        "           /   \\\n",
        "\n",
        "        30     35\n",
        "\n",
        "Output:\n",
        "\n",
        "5 10 30 20 35\n",
        "'''"
      ],
      "metadata": {
        "colab": {
          "base_uri": "https://localhost:8080/",
          "height": 53
        },
        "id": "gFxaGmbGhbhk",
        "outputId": "49f6fdee-105d-442f-da8f-4c522c9d3bab"
      },
      "execution_count": 7,
      "outputs": [
        {
          "output_type": "execute_result",
          "data": {
            "text/plain": [
              "'\\nWrite a program to convert a binary tree to a doubly linked list.\\n\\nInput:\\n\\n        10\\n\\n       /   \\n     5     20\\n\\n           /   \\n        30     35\\n\\nOutput:\\n\\n5 10 30 20 35\\n'"
            ],
            "application/vnd.google.colaboratory.intrinsic+json": {
              "type": "string"
            }
          },
          "metadata": {},
          "execution_count": 7
        }
      ]
    },
    {
      "cell_type": "code",
      "source": [
        "class TreeNode:\n",
        "    def __init__(self, value):\n",
        "        self.value = value\n",
        "        self.left = None\n",
        "        self.right = None\n",
        "\n",
        "\n",
        "class DoublyLinkedListNode:\n",
        "    def __init__(self, value):\n",
        "        self.value = value\n",
        "        self.prev = None\n",
        "        self.next = None\n",
        "\n",
        "\n",
        "def convert_binary_tree_to_doubly_linked_list(root):\n",
        "    def inorder_traversal(node):\n",
        "        nonlocal prev, head\n",
        "        if node is None:\n",
        "            return\n",
        "\n",
        "        # Recurse on the left subtree\n",
        "        inorder_traversal(node.left)\n",
        "\n",
        "        # Modify left and right pointers\n",
        "        if prev is None:\n",
        "            head = DoublyLinkedListNode(node.value)\n",
        "            prev = head\n",
        "        else:\n",
        "            new_node = DoublyLinkedListNode(node.value)\n",
        "            prev.next = new_node\n",
        "            new_node.prev = prev\n",
        "            prev = new_node\n",
        "\n",
        "        # Recurse on the right subtree\n",
        "        inorder_traversal(node.right)\n",
        "\n",
        "    # Initialize prev and head variables\n",
        "    prev = None\n",
        "    head = None\n",
        "\n",
        "    # Perform in-order traversal to convert the binary tree to a doubly linked list\n",
        "    inorder_traversal(root)\n",
        "\n",
        "    return head\n",
        "\n",
        "\n",
        "# Example usage\n",
        "# Create the binary tree\n",
        "root = TreeNode(10)\n",
        "root.left = TreeNode(5)\n",
        "root.right = TreeNode(20)\n",
        "root.right.left = TreeNode(30)\n",
        "root.right.right = TreeNode(35)\n",
        "\n",
        "# Convert the binary tree to a doubly linked list\n",
        "doubly_linked_list_head = convert_binary_tree_to_doubly_linked_list(root)\n",
        "\n",
        "# Traverse the doubly linked list from left to right\n",
        "current_node = doubly_linked_list_head\n",
        "while current_node:\n",
        "    print(current_node.value, end=\" \")\n",
        "    current_node = current_node.next\n",
        "\n",
        "# Output: 5 10 30 20 35\n"
      ],
      "metadata": {
        "colab": {
          "base_uri": "https://localhost:8080/"
        },
        "id": "giJ_N_3vhlWK",
        "outputId": "b73bf763-5936-4d6e-8e51-cfe295a9a92a"
      },
      "execution_count": 10,
      "outputs": [
        {
          "output_type": "stream",
          "name": "stdout",
          "text": [
            "5 10 30 20 35 "
          ]
        }
      ]
    },
    {
      "cell_type": "code",
      "source": [
        "# 💡 Question-4:\n",
        "'''\n",
        "Write a program to connect nodes at the same level.\n",
        "\n",
        "Input:\n",
        "\n",
        "        1\n",
        "\n",
        "      /   \\\n",
        "\n",
        "    2      3\n",
        "\n",
        "  /   \\   /   \\\n",
        "\n",
        "4     5 6    7\n",
        "\n",
        "Output:\n",
        "\n",
        "1 → -1\n",
        "\n",
        "2 → 3\n",
        "\n",
        "3 → -1\n",
        "\n",
        "4 → 5\n",
        "\n",
        "5 → 6\n",
        "\n",
        "6 → 7\n",
        "\n",
        "7 → -1\n",
        "'''"
      ],
      "metadata": {
        "colab": {
          "base_uri": "https://localhost:8080/",
          "height": 53
        },
        "id": "yasT7wZ3huf1",
        "outputId": "5e1a93c6-3cdd-4aa4-87ff-dbdeee7f7aa2"
      },
      "execution_count": 13,
      "outputs": [
        {
          "output_type": "execute_result",
          "data": {
            "text/plain": [
              "'\\nWrite a program to connect nodes at the same level.\\n\\nInput:\\n\\n        1\\n\\n      /   \\n    2      3\\n\\n  /   \\\\   /   \\n4     5 6    7\\n\\nOutput:\\n\\n1 → -1\\n\\n2 → 3\\n\\n3 → -1\\n\\n4 → 5\\n\\n5 → 6\\n\\n6 → 7\\n\\n7 → -1\\n'"
            ],
            "application/vnd.google.colaboratory.intrinsic+json": {
              "type": "string"
            }
          },
          "metadata": {},
          "execution_count": 13
        }
      ]
    },
    {
      "cell_type": "code",
      "source": [
        "class TreeNode:\n",
        "    def __init__(self, value):\n",
        "        self.value = value\n",
        "        self.left = None\n",
        "        self.right = None\n",
        "        self.next = None\n",
        "\n",
        "\n",
        "def connect_nodes_at_same_level(root):\n",
        "    if root is None:\n",
        "        return root\n",
        "\n",
        "    # Start with the root node\n",
        "    level_start = root\n",
        "\n",
        "    while level_start:\n",
        "        # Create a dummy node as the previous node for the current level\n",
        "        prev = TreeNode(-1)\n",
        "        current = prev\n",
        "\n",
        "        # Traverse the current level using the next pointer of the nodes in the previous level\n",
        "        while level_start:\n",
        "            if level_start.left:\n",
        "                current.next = level_start.left\n",
        "                current = current.next\n",
        "            if level_start.right:\n",
        "                current.next = level_start.right\n",
        "                current = current.next\n",
        "            level_start = level_start.next\n",
        "\n",
        "        # Move to the next level\n",
        "        level_start = prev.next\n",
        "\n",
        "    return root\n",
        "\n",
        "\n",
        "# Example usage\n",
        "# Create the binary tree\n",
        "root = TreeNode(1)\n",
        "root.left = TreeNode(2)\n",
        "root.right = TreeNode(3)\n",
        "root.left.left = TreeNode(4)\n",
        "root.left.right = TreeNode(5)\n",
        "root.right.left = TreeNode(6)\n",
        "root.right.right = TreeNode(7)\n",
        "\n",
        "# Connect nodes at the same level\n",
        "connected_root = connect_nodes_at_same_level(root)\n",
        "\n",
        "# Traverse the tree to print the connections\n",
        "current = connected_root\n",
        "while current:\n",
        "    print(current.value, end=\" → \")\n",
        "    current = current.next\n",
        "print(\"-1\")\n"
      ],
      "metadata": {
        "colab": {
          "base_uri": "https://localhost:8080/"
        },
        "id": "BxN1jNb7iKvR",
        "outputId": "10b2fc96-6687-490f-913d-12d1da944346"
      },
      "execution_count": 14,
      "outputs": [
        {
          "output_type": "stream",
          "name": "stdout",
          "text": [
            "1 → -1\n"
          ]
        }
      ]
    },
    {
      "cell_type": "code",
      "source": [],
      "metadata": {
        "id": "4MT69BG0ihEp"
      },
      "execution_count": null,
      "outputs": []
    }
  ]
}