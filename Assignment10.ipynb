{
  "nbformat": 4,
  "nbformat_minor": 0,
  "metadata": {
    "colab": {
      "provenance": []
    },
    "kernelspec": {
      "name": "python3",
      "display_name": "Python 3"
    },
    "language_info": {
      "name": "python"
    }
  },
  "cells": [
    {
      "cell_type": "markdown",
      "source": [
        "Question 1"
      ],
      "metadata": {
        "id": "-gK5Hqn4tkrr"
      }
    },
    {
      "cell_type": "code",
      "execution_count": 4,
      "metadata": {
        "colab": {
          "base_uri": "https://localhost:8080/"
        },
        "id": "4GYlpZ3htcxI",
        "outputId": "c3471b84-3208-4362-bfe8-965c8b2fa300"
      },
      "outputs": [
        {
          "output_type": "stream",
          "name": "stdout",
          "text": [
            "True\n",
            "True\n",
            "False\n",
            "False\n",
            "False\n"
          ]
        }
      ],
      "source": [
        "import math\n",
        "\n",
        "def is_power_of_three(n):\n",
        "    if n <= 0:\n",
        "        return False\n",
        "    logarithm = math.log10(n) / math.log10(3)\n",
        "    return math.isclose(logarithm, round(logarithm))\n",
        "\n",
        "# Example usage\n",
        "print(is_power_of_three(9))   # True\n",
        "print(is_power_of_three(27))  # True\n",
        "print(is_power_of_three(5))   # False\n",
        "print(is_power_of_three(0))   # False\n",
        "print(is_power_of_three(-1))  # False"
      ]
    },
    {
      "cell_type": "markdown",
      "source": [
        "Question 2"
      ],
      "metadata": {
        "id": "oISZhT_-uQZ5"
      }
    },
    {
      "cell_type": "code",
      "source": [
        "def last_remaining(n):\n",
        "    arr = list(range(1, n + 1))  # Create the initial list [1, 2, 3, ..., n]\n",
        "    left_to_right = True  # Indicates whether we are currently moving from left to right\n",
        "\n",
        "    while len(arr) > 1:\n",
        "        if left_to_right:\n",
        "            arr = arr[1::2]  # Remove every other number from left to right\n",
        "        else:\n",
        "            arr = arr[-2::-2]  # Remove every other number from right to left\n",
        "\n",
        "        left_to_right = not left_to_right  # Toggle the direction for the next iteration\n",
        "\n",
        "    return arr[0]  # Return the last remaining number\n",
        "\n",
        "# Example usage\n",
        "print(last_remaining(9))  # 6\n",
        "print(last_remaining(1))  # 1"
      ],
      "metadata": {
        "colab": {
          "base_uri": "https://localhost:8080/"
        },
        "id": "yOZzUr4rtoo_",
        "outputId": "e309e813-11b1-4d69-cee8-e5156fc1ae1f"
      },
      "execution_count": 7,
      "outputs": [
        {
          "output_type": "stream",
          "name": "stdout",
          "text": [
            "2\n",
            "1\n"
          ]
        }
      ]
    },
    {
      "cell_type": "markdown",
      "source": [
        "Question 3"
      ],
      "metadata": {
        "id": "yH8H6DSpuh1z"
      }
    },
    {
      "cell_type": "code",
      "source": [
        "def generate_subsets(s):\n",
        "    subsets = []\n",
        "    generate_subsets_recursive(s, '', subsets)\n",
        "    return subsets\n",
        "\n",
        "def generate_subsets_recursive(s, current_subset, subsets):\n",
        "    if len(s) == 0:\n",
        "        subsets.append(current_subset)\n",
        "        return\n",
        "    \n",
        "    # Include the first character in the current subset\n",
        "    generate_subsets_recursive(s[1:], current_subset + s[0], subsets)\n",
        "    \n",
        "    # Exclude the first character from the current subset\n",
        "    generate_subsets_recursive(s[1:], current_subset, subsets)\n",
        "\n",
        "# Example usage\n",
        "print(generate_subsets('abc'))\n",
        "print(generate_subsets('abcd'))"
      ],
      "metadata": {
        "colab": {
          "base_uri": "https://localhost:8080/"
        },
        "id": "P4bwQhZRujSF",
        "outputId": "b332081d-460f-428e-93ae-573937167139"
      },
      "execution_count": 8,
      "outputs": [
        {
          "output_type": "stream",
          "name": "stdout",
          "text": [
            "['abc', 'ab', 'ac', 'a', 'bc', 'b', 'c', '']\n",
            "['abcd', 'abc', 'abd', 'ab', 'acd', 'ac', 'ad', 'a', 'bcd', 'bc', 'bd', 'b', 'cd', 'c', 'd', '']\n"
          ]
        }
      ]
    },
    {
      "cell_type": "markdown",
      "source": [
        "Question 4"
      ],
      "metadata": {
        "id": "zbsxw2vQum5c"
      }
    },
    {
      "cell_type": "code",
      "source": [
        "def calculate_length(s):\n",
        "    if s == '':\n",
        "        return 0\n",
        "    else:\n",
        "        return 1 + calculate_length(s[1:])\n",
        "\n",
        "# Example usage\n",
        "print(calculate_length('GEEKSFORGEEKS'))  # 13\n",
        "print(calculate_length('abcd'))           # 4"
      ],
      "metadata": {
        "colab": {
          "base_uri": "https://localhost:8080/"
        },
        "id": "XfoDC-oVuodG",
        "outputId": "b8b8d7af-c8ad-4904-db5b-9d7fc5261b15"
      },
      "execution_count": 10,
      "outputs": [
        {
          "output_type": "stream",
          "name": "stdout",
          "text": [
            "13\n",
            "4\n"
          ]
        }
      ]
    },
    {
      "cell_type": "markdown",
      "source": [
        "Question 5"
      ],
      "metadata": {
        "id": "5itOnsieu0lC"
      }
    },
    {
      "cell_type": "code",
      "source": [
        "def count_contiguous_substrings(S):\n",
        "    count = 0\n",
        "    n = len(S)\n",
        "    for i in range(n):\n",
        "        for j in range(i, n):\n",
        "            if S[i] == S[j]:\n",
        "                count += 1\n",
        "    return count\n",
        "\n",
        "# Example usage\n",
        "print(count_contiguous_substrings('abcab'))  # 7\n",
        "print(count_contiguous_substrings('aba'))   # 4"
      ],
      "metadata": {
        "colab": {
          "base_uri": "https://localhost:8080/"
        },
        "id": "uxsvpW6gu2J_",
        "outputId": "3296a452-bf9e-449a-e2bd-69bbf2d25b2b"
      },
      "execution_count": 12,
      "outputs": [
        {
          "output_type": "stream",
          "name": "stdout",
          "text": [
            "7\n",
            "4\n"
          ]
        }
      ]
    },
    {
      "cell_type": "markdown",
      "source": [
        "Question 6"
      ],
      "metadata": {
        "id": "6B9ahKuzvCPL"
      }
    },
    {
      "cell_type": "code",
      "source": [
        "def tower_of_hanoi(n, source, destination, auxiliary):\n",
        "    if n == 1:\n",
        "        print(f\"Move disk 1 from rod {source} to rod {destination}\")\n",
        "        return 1\n",
        "    else:\n",
        "        moves = 0\n",
        "        moves += tower_of_hanoi(n-1, source, auxiliary, destination)\n",
        "        print(f\"Move disk {n} from rod {source} to rod {destination}\")\n",
        "        moves += 1\n",
        "        moves += tower_of_hanoi(n-1, auxiliary, destination, source)\n",
        "        return moves\n",
        "\n",
        "# Example 2\n",
        "n = 3  # Number of discs\n",
        "source = 1  # Source rod number\n",
        "destination = 3  # Destination rod number\n",
        "auxiliary = 2  # Auxiliary rod number\n",
        "\n",
        "total_moves = tower_of_hanoi(n, source, destination, auxiliary)\n",
        "print(f\"Total moves required: {total_moves}\")\n",
        "\n",
        "# Example 1\n",
        "n = 2  # Number of discs\n",
        "\n",
        "total_moves = tower_of_hanoi(n, source, destination, auxiliary)\n",
        "print(f\"Total moves required: {total_moves}\")"
      ],
      "metadata": {
        "colab": {
          "base_uri": "https://localhost:8080/"
        },
        "id": "vN5vaz6YvB9S",
        "outputId": "6bae9e06-0cbb-48cb-8423-39bd511f159a"
      },
      "execution_count": 16,
      "outputs": [
        {
          "output_type": "stream",
          "name": "stdout",
          "text": [
            "Move disk 1 from rod 1 to rod 3\n",
            "Move disk 2 from rod 1 to rod 2\n",
            "Move disk 1 from rod 3 to rod 2\n",
            "Move disk 3 from rod 1 to rod 3\n",
            "Move disk 1 from rod 2 to rod 1\n",
            "Move disk 2 from rod 2 to rod 3\n",
            "Move disk 1 from rod 1 to rod 3\n",
            "Total moves required: 7\n",
            "Move disk 1 from rod 1 to rod 2\n",
            "Move disk 2 from rod 1 to rod 3\n",
            "Move disk 1 from rod 2 to rod 3\n",
            "Total moves required: 3\n"
          ]
        }
      ]
    },
    {
      "cell_type": "markdown",
      "source": [
        "Question 7"
      ],
      "metadata": {
        "id": "mXZWx7SuvesM"
      }
    },
    {
      "cell_type": "code",
      "source": [
        "from itertools import permutations\n",
        "\n",
        "def print_permutations(s):\n",
        "    perm_list = list(permutations(s))\n",
        "    for perm in perm_list:\n",
        "        print(''.join(perm))\n",
        "\n",
        "# Example usage\n",
        "print_permutations('abb')\n",
        "print_permutations('cd')"
      ],
      "metadata": {
        "colab": {
          "base_uri": "https://localhost:8080/"
        },
        "id": "Qlbuokslvh3J",
        "outputId": "4bf51d5a-b57a-4222-b9de-c1bff34657c4"
      },
      "execution_count": 18,
      "outputs": [
        {
          "output_type": "stream",
          "name": "stdout",
          "text": [
            "abb\n",
            "abb\n",
            "bab\n",
            "bba\n",
            "bab\n",
            "bba\n",
            "cd\n",
            "dc\n"
          ]
        }
      ]
    },
    {
      "cell_type": "markdown",
      "source": [
        "Question 8"
      ],
      "metadata": {
        "id": "uOHtFnexwHO4"
      }
    },
    {
      "cell_type": "code",
      "source": [
        "def count_consonants(s):\n",
        "    consonants = 'bcdfghjklmnpqrstvwxyzBCDFGHJKLMNPQRSTVWXYZ'\n",
        "    count = 0\n",
        "    for char in s:\n",
        "        if char in consonants:\n",
        "            count += 1\n",
        "    return count\n",
        "\n",
        "# Example usage\n",
        "print(count_consonants('abc de'))  # 3\n",
        "print(count_consonants('geeksforgeeks portal'))       # 12"
      ],
      "metadata": {
        "colab": {
          "base_uri": "https://localhost:8080/"
        },
        "id": "hX8t5YJOwJIG",
        "outputId": "9659b028-24d1-4694-92ec-b343624a6ff7"
      },
      "execution_count": 21,
      "outputs": [
        {
          "output_type": "stream",
          "name": "stdout",
          "text": [
            "3\n",
            "12\n"
          ]
        }
      ]
    }
  ]
}