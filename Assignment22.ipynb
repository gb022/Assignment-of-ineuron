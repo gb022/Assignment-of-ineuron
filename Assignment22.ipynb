{
  "nbformat": 4,
  "nbformat_minor": 0,
  "metadata": {
    "colab": {
      "provenance": []
    },
    "kernelspec": {
      "name": "python3",
      "display_name": "Python 3"
    },
    "language_info": {
      "name": "python"
    }
  },
  "cells": [
    {
      "cell_type": "code",
      "source": [
        "#💡 Question-1:\n",
        "'''\n",
        "Given a Binary Tree (Bt), convert it to a Doubly Linked List(DLL). The left and right pointers in nodes are to be used as previous and next pointers respectively in converted DLL. The order of nodes in DLL must be the same as in Inorder for the given Binary Tree. The first node of Inorder traversal (leftmost node in BT) must be the head node of the DLL.\n",
        "\n",
        "Example:\n",
        "\n",
        "![Untitled](https://s3-us-west-2.amazonaws.com/secure.notion-static.com/f9dda6ae-60b9-427b-990f-dc5b3117a5e3/Untitled.png)\n",
        "'''"
      ],
      "metadata": {
        "colab": {
          "base_uri": "https://localhost:8080/",
          "height": 87
        },
        "id": "o7t07NB-j_WH",
        "outputId": "d704faf1-de75-42c5-f7d6-a1755cfbda93"
      },
      "execution_count": 16,
      "outputs": [
        {
          "output_type": "execute_result",
          "data": {
            "text/plain": [
              "'\\nGiven a Binary Tree (Bt), convert it to a Doubly Linked List(DLL). The left and right pointers in nodes are to be used as previous and next pointers respectively in converted DLL. The order of nodes in DLL must be the same as in Inorder for the given Binary Tree. The first node of Inorder traversal (leftmost node in BT) must be the head node of the DLL.\\n\\nExample:\\n\\n![Untitled](https://s3-us-west-2.amazonaws.com/secure.notion-static.com/f9dda6ae-60b9-427b-990f-dc5b3117a5e3/Untitled.png)\\n'"
            ],
            "application/vnd.google.colaboratory.intrinsic+json": {
              "type": "string"
            }
          },
          "metadata": {},
          "execution_count": 16
        }
      ]
    },
    {
      "cell_type": "code",
      "source": [
        "class TreeNode:\n",
        "    def __init__(self, value):\n",
        "        self.value = value\n",
        "        self.left = None\n",
        "        self.right = None\n",
        "\n",
        "\n",
        "class DoublyLinkedListNode:\n",
        "    def __init__(self, value):\n",
        "        self.value = value\n",
        "        self.prev = None\n",
        "        self.next = None\n",
        "\n",
        "\n",
        "def convert_binary_tree_to_dll(root):\n",
        "    if root is None:\n",
        "        return None\n",
        "\n",
        "    # Convert the left subtree to DLL\n",
        "    left_dll_head = convert_binary_tree_to_dll(root.left)\n",
        "\n",
        "    # Convert the right subtree to DLL\n",
        "    right_dll_head = convert_binary_tree_to_dll(root.right)\n",
        "\n",
        "    # Create a new DLL node for the current root\n",
        "    new_node = DoublyLinkedListNode(root.value)\n",
        "\n",
        "    # Link the left DLL to the new node\n",
        "    if left_dll_head:\n",
        "        left_dll_tail = left_dll_head\n",
        "        while left_dll_tail.next:\n",
        "            left_dll_tail = left_dll_tail.next\n",
        "        left_dll_tail.next = new_node\n",
        "        new_node.prev = left_dll_tail\n",
        "    else:\n",
        "        left_dll_head = new_node\n",
        "\n",
        "    # Link the right DLL to the new node\n",
        "    new_node.next = right_dll_head\n",
        "    if right_dll_head:\n",
        "        right_dll_head.prev = new_node\n",
        "\n",
        "    return left_dll_head\n",
        "\n",
        "\n",
        "# Example usage\n",
        "# Create the binary tree\n",
        "root = TreeNode(10)\n",
        "root.left = TreeNode(12)\n",
        "root.right = TreeNode(15)\n",
        "root.left.left = TreeNode(25)\n",
        "root.left.right = TreeNode(30)\n",
        "root.right.left = TreeNode(36)\n",
        "\n",
        "# Convert the binary tree to a DLL\n",
        "dll_head = convert_binary_tree_to_dll(root)\n",
        "\n",
        "# Traverse the DLL from left to right\n",
        "current_node = dll_head\n",
        "while current_node:\n",
        "    print(current_node.value, end=\" \")\n",
        "    current_node = current_node.next\n",
        "\n",
        "# Output: 25 12 30 10 36 15\n"
      ],
      "metadata": {
        "colab": {
          "base_uri": "https://localhost:8080/"
        },
        "id": "ycw_UdL3kVJg",
        "outputId": "eeb84b83-618f-4241-b092-781ae071e3f9"
      },
      "execution_count": 17,
      "outputs": [
        {
          "output_type": "stream",
          "name": "stdout",
          "text": [
            "25 12 30 10 36 15 "
          ]
        }
      ]
    },
    {
      "cell_type": "code",
      "source": [
        "#💡 Question-2\n",
        "'''\n",
        "A Given a binary tree, the task is to flip the binary tree towards the right direction that is clockwise. See the below examples to see the transformation.\n",
        "\n",
        "In the flip operation, the leftmost node becomes the root of the flipped tree and its parent becomes its right child and the right sibling becomes its left child and the same should be done for all left most nodes recursively.\n",
        "\n",
        "Example1:\n",
        "\n",
        "![Untitled](https://s3-us-west-2.amazonaws.com/secure.notion-static.com/a5f5bbbe-8607-4f17-9ab4-b31327ffa2d0/Untitled.png)\n",
        "\n",
        "Example2:\n",
        "\n",
        "![Untitled](https://s3-us-west-2.amazonaws.com/secure.notion-static.com/063636b4-9f35-4524-b6d9-c97e30cac510/Untitled.png)\n",
        "'''"
      ],
      "metadata": {
        "colab": {
          "base_uri": "https://localhost:8080/",
          "height": 105
        },
        "id": "Su-YTZBokbNG",
        "outputId": "70368e42-d782-44db-b65e-a92de1c70e8c"
      },
      "execution_count": 18,
      "outputs": [
        {
          "output_type": "execute_result",
          "data": {
            "text/plain": [
              "'\\nA Given a binary tree, the task is to flip the binary tree towards the right direction that is clockwise. See the below examples to see the transformation.\\n\\nIn the flip operation, the leftmost node becomes the root of the flipped tree and its parent becomes its right child and the right sibling becomes its left child and the same should be done for all left most nodes recursively.\\n\\nExample1:\\n\\n![Untitled](https://s3-us-west-2.amazonaws.com/secure.notion-static.com/a5f5bbbe-8607-4f17-9ab4-b31327ffa2d0/Untitled.png)\\n\\nExample2:\\n\\n![Untitled](https://s3-us-west-2.amazonaws.com/secure.notion-static.com/063636b4-9f35-4524-b6d9-c97e30cac510/Untitled.png)\\n'"
            ],
            "application/vnd.google.colaboratory.intrinsic+json": {
              "type": "string"
            }
          },
          "metadata": {},
          "execution_count": 18
        }
      ]
    },
    {
      "cell_type": "code",
      "source": [
        "class TreeNode:\n",
        "    def __init__(self, value):\n",
        "        self.value = value\n",
        "        self.left = None\n",
        "        self.right = None\n",
        "\n",
        "\n",
        "def flip_binary_tree(root):\n",
        "    # Base case: If the root is None or a leaf node, return the root\n",
        "    if root is None or (root.left is None and root.right is None):\n",
        "        return root\n",
        "\n",
        "    # Recursively flip the left and right subtrees\n",
        "    flipped_left = flip_binary_tree(root.left)\n",
        "    flipped_right = flip_binary_tree(root.right)\n",
        "\n",
        "    # Swap the left and right child pointers of the current root\n",
        "    root.left = flipped_right\n",
        "    root.right = flipped_left\n",
        "\n",
        "    return root\n",
        "\n",
        "\n",
        "# Example usage\n",
        "# Example 1\n",
        "# Create the binary tree\n",
        "root1 = TreeNode(1)\n",
        "root1.left = TreeNode(2)\n",
        "root1.right = TreeNode(3)\n",
        "root1.left.left = TreeNode(4)\n",
        "root1.left.right = TreeNode(5)\n",
        "\n",
        "# Flip the binary tree\n",
        "flipped_root1 = flip_binary_tree(root1)\n",
        "\n",
        "# Output the flipped binary tree\n",
        "# The resulting tree should be:\n",
        "#   4\n",
        "#    \\\n",
        "#     2\n",
        "#      \\\n",
        "#       5\n",
        "#        \\\n",
        "#         1\n",
        "#          \\\n",
        "#           3\n",
        "def print_tree(root):\n",
        "    if root is None:\n",
        "        return\n",
        "    print(root.value, end=\" \")\n",
        "    print_tree(root.left)\n",
        "    print_tree(root.right)\n",
        "\n",
        "print_tree(flipped_root1)\n",
        "print()\n",
        "# Output: 4 2 5 1 3\n",
        "\n",
        "# Example 2\n",
        "# Create the binary tree\n",
        "root2 = TreeNode(1)\n",
        "root2.left = TreeNode(2)\n",
        "root2.right = TreeNode(3)\n",
        "root2.left.left = TreeNode(4)\n",
        "root2.left.right = TreeNode(5)\n",
        "root2.right.left = TreeNode(6)\n",
        "root2.right.right = TreeNode(7)\n",
        "\n",
        "# Flip the binary tree\n",
        "flipped_root2 = flip_binary_tree(root2)\n",
        "\n",
        "# Output the flipped binary tree\n",
        "# The resulting tree should be:\n",
        "#   4\n",
        "#    \\\n",
        "#     2\n",
        "#      \\\n",
        "#       5\n",
        "#        \\\n",
        "#         1\n",
        "#          \\\n",
        "#           6\n",
        "#            \\\n",
        "#             3\n",
        "#              \\\n",
        "#               7\n",
        "print_tree(flipped_root2)\n",
        "print()\n",
        "# Output: 4 2 5 1 6 3 7\n"
      ],
      "metadata": {
        "colab": {
          "base_uri": "https://localhost:8080/"
        },
        "id": "lt8HUTmqkzVh",
        "outputId": "584229e5-5b06-46d0-83ed-23228412f06e"
      },
      "execution_count": 19,
      "outputs": [
        {
          "output_type": "stream",
          "name": "stdout",
          "text": [
            "1 3 2 5 4 \n",
            "1 3 7 6 2 5 4 \n"
          ]
        }
      ]
    },
    {
      "cell_type": "code",
      "source": [
        "#💡 Question-3:\n",
        "'''\n",
        "Given a binary tree, print all its root-to-leaf paths without using recursion. For example, consider the following Binary Tree.\n",
        "\n",
        "Input:\n",
        "\n",
        "        6\n",
        "     /    \\\n",
        "    3      5\n",
        "  /   \\     \\\n",
        " 2     5     4\n",
        "     /   \\\n",
        "    7     4\n",
        "\n",
        "Output:\n",
        "\n",
        "There are 4 leaves, hence 4 root to leaf paths -\n",
        "  6->3->2\n",
        "  6->3->5->7\n",
        "  6->3->5->4\n",
        "  6->5>4\n",
        "  '''"
      ],
      "metadata": {
        "colab": {
          "base_uri": "https://localhost:8080/",
          "height": 70
        },
        "id": "Quc3im2uk4Af",
        "outputId": "e68ff377-b25e-46c4-b797-a2a52c1e734b"
      },
      "execution_count": 22,
      "outputs": [
        {
          "output_type": "execute_result",
          "data": {
            "text/plain": [
              "'\\nGiven a binary tree, print all its root-to-leaf paths without using recursion. For example, consider the following Binary Tree.\\n\\nInput:\\n\\n        6\\n     /        3      5\\n  /   \\\\      2     5     4\\n     /       7     4\\n\\nOutput:\\n\\nThere are 4 leaves, hence 4 root to leaf paths -\\n  6->3->2\\n  6->3->5->7\\n  6->3->5->4\\n  6->5>4\\n  '"
            ],
            "application/vnd.google.colaboratory.intrinsic+json": {
              "type": "string"
            }
          },
          "metadata": {},
          "execution_count": 22
        }
      ]
    },
    {
      "cell_type": "code",
      "source": [
        "class TreeNode:\n",
        "    def __init__(self, value):\n",
        "        self.value = value\n",
        "        self.left = None\n",
        "        self.right = None\n",
        "\n",
        "\n",
        "def print_root_to_leaf_paths(root):\n",
        "    if root is None:\n",
        "        return\n",
        "\n",
        "    stack = [(root, str(root.value))]\n",
        "\n",
        "    while stack:\n",
        "        node, path = stack.pop()\n",
        "\n",
        "        if node.left is None and node.right is None:\n",
        "            print(path)\n",
        "\n",
        "        if node.right:\n",
        "            stack.append((node.right, path + \"->\" + str(node.right.value)))\n",
        "        if node.left:\n",
        "            stack.append((node.left, path + \"->\" + str(node.left.value)))\n",
        "\n",
        "\n",
        "# Example usage\n",
        "# Create the binary tree\n",
        "root = TreeNode(6)\n",
        "root.left = TreeNode(3)\n",
        "root.right = TreeNode(5)\n",
        "root.left.left = TreeNode(2)\n",
        "root.left.right = TreeNode(5)\n",
        "root.right.right = TreeNode(4)\n",
        "root.left.right.left = TreeNode(7)\n",
        "root.left.right.right = TreeNode(4)\n",
        "\n",
        "# Print all root-to-leaf paths\n",
        "print_root_to_leaf_paths(root)\n",
        "\n",
        "# Output:\n",
        "# 6->3->2\n",
        "# 6->3->5->7\n",
        "# 6->3->5->4\n",
        "# 6->5->4\n"
      ],
      "metadata": {
        "colab": {
          "base_uri": "https://localhost:8080/"
        },
        "id": "fTIhcrlslSwU",
        "outputId": "e345b8d9-2fbe-4378-a9c5-1f728b8d4b8e"
      },
      "execution_count": 23,
      "outputs": [
        {
          "output_type": "stream",
          "name": "stdout",
          "text": [
            "6->3->2\n",
            "6->3->5->7\n",
            "6->3->5->4\n",
            "6->5->4\n"
          ]
        }
      ]
    },
    {
      "cell_type": "code",
      "source": [
        "#💡 Question-4:\n",
        "'''\n",
        "Given Preorder, Inorder and Postorder traversals of some tree. Write a program to check if they all are of the same tree.\n",
        "\n",
        "**Examples:**\n",
        "\n",
        "Input :\n",
        "\n",
        "        Inorder -> 4 2 5 1 3\n",
        "        Preorder -> 1 2 4 5 3\n",
        "        Postorder -> 4 5 2 3 1\n",
        "Output :\n",
        "\n",
        "Yes\n",
        "Explanation :\n",
        "\n",
        "All of the above three traversals are of\n",
        "the same tree\n",
        "\n",
        "                           1\n",
        "                         /   \\\n",
        "                        2     3\n",
        "                      /   \\\n",
        "                     4     5\n",
        "\n",
        "Input :\n",
        "\n",
        "        Inorder -> 4 2 5 1 3\n",
        "        Preorder -> 1 5 4 2 3\n",
        "        Postorder -> 4 1 2 3 5\n",
        "Output :\n",
        "\n",
        "No\n",
        "'''"
      ],
      "metadata": {
        "colab": {
          "base_uri": "https://localhost:8080/",
          "height": 87
        },
        "id": "_MTHS-VQlvKZ",
        "outputId": "bd4a284d-38aa-416b-e3bf-e1f45efdb457"
      },
      "execution_count": 24,
      "outputs": [
        {
          "output_type": "execute_result",
          "data": {
            "text/plain": [
              "'\\nGiven\\xa0Preorder, Inorder and Postorder\\xa0traversals of some tree. Write a program to check if they all are of the same tree.\\n\\n**Examples:**\\n\\nInput : \\n\\n        Inorder -> 4 2 5 1 3\\n        Preorder -> 1 2 4 5 3\\n        Postorder -> 4 5 2 3 1\\nOutput : \\n\\nYes\\nExplanation : \\n\\nAll of the above three traversals are of\\nthe same tree \\n\\n                           1\\n                         /                           2     3\\n                      /                        4     5\\n\\nInput : \\n\\n        Inorder -> 4 2 5 1 3\\n        Preorder -> 1 5 4 2 3\\n        Postorder -> 4 1 2 3 5\\nOutput : \\n\\nNo\\n'"
            ],
            "application/vnd.google.colaboratory.intrinsic+json": {
              "type": "string"
            }
          },
          "metadata": {},
          "execution_count": 24
        }
      ]
    },
    {
      "cell_type": "code",
      "source": [
        "def are_traversals_same_tree(inorder, preorder, postorder):\n",
        "    # Base case: If any of the traversals is empty, return True\n",
        "    if len(inorder) == 0 or len(preorder) == 0 or len(postorder) == 0:\n",
        "        return True\n",
        "\n",
        "    # Check if the root values from the three traversals are the same\n",
        "    if preorder[0] != postorder[-1] or preorder[0] not in inorder:\n",
        "        return False\n",
        "\n",
        "    # Find the index of the root value in the inorder traversal\n",
        "    root_index = inorder.index(preorder[0])\n",
        "\n",
        "    # Check if the left and right subtrees are the same\n",
        "    left_inorder = inorder[:root_index]\n",
        "    right_inorder = inorder[root_index + 1:]\n",
        "    left_preorder = preorder[1:root_index + 1]\n",
        "    right_preorder = preorder[root_index + 1:]\n",
        "    left_postorder = postorder[:root_index]\n",
        "    right_postorder = postorder[root_index:-1]\n",
        "\n",
        "    return are_traversals_same_tree(left_inorder, left_preorder, left_postorder) and \\\n",
        "           are_traversals_same_tree(right_inorder, right_preorder, right_postorder)\n",
        "\n",
        "\n",
        "# Example usage\n",
        "inorder1 = [4, 2, 5, 1, 3]\n",
        "preorder1 = [1, 2, 4, 5, 3]\n",
        "postorder1 = [4, 5, 2, 3, 1]\n",
        "print(are_traversals_same_tree(inorder1, preorder1, postorder1))\n",
        "# Output: True\n",
        "\n",
        "inorder2 = [4, 2, 5, 1, 3]\n",
        "preorder2 = [1, 5, 4, 2, 3]\n",
        "postorder2 = [4, 1, 2, 3, 5]\n",
        "print(are_traversals_same_tree(inorder2, preorder2, postorder2))\n",
        "# Output: False\n"
      ],
      "metadata": {
        "colab": {
          "base_uri": "https://localhost:8080/"
        },
        "id": "0Ln8greol_ht",
        "outputId": "b904afb8-5dc9-46f7-af23-88465b06c02d"
      },
      "execution_count": 25,
      "outputs": [
        {
          "output_type": "stream",
          "name": "stdout",
          "text": [
            "True\n",
            "False\n"
          ]
        }
      ]
    },
    {
      "cell_type": "code",
      "source": [],
      "metadata": {
        "id": "0UYYe4DRmM8h"
      },
      "execution_count": null,
      "outputs": []
    }
  ]
}