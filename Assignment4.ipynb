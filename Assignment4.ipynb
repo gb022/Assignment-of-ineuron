{
  "nbformat": 4,
  "nbformat_minor": 0,
  "metadata": {
    "colab": {
      "provenance": []
    },
    "kernelspec": {
      "name": "python3",
      "display_name": "Python 3"
    },
    "language_info": {
      "name": "python"
    }
  },
  "cells": [
    {
      "cell_type": "markdown",
      "source": [
        "Question 1"
      ],
      "metadata": {
        "id": "1ZNznQd67H_K"
      }
    },
    {
      "cell_type": "code",
      "execution_count": 1,
      "metadata": {
        "colab": {
          "base_uri": "https://localhost:8080/"
        },
        "id": "YTwCQLpP7HaM",
        "outputId": "483b2d48-6081-418a-832f-0dee51322404"
      },
      "outputs": [
        {
          "output_type": "stream",
          "name": "stdout",
          "text": [
            "[1, 5]\n"
          ]
        }
      ],
      "source": [
        "def findCommonElements(arr1, arr2, arr3):\n",
        "    p1, p2, p3 = 0, 0, 0\n",
        "    result = []\n",
        "\n",
        "    while p1 < len(arr1) and p2 < len(arr2) and p3 < len(arr3):\n",
        "        if arr1[p1] == arr2[p2] == arr3[p3]:\n",
        "            result.append(arr1[p1])\n",
        "            p1 += 1\n",
        "            p2 += 1\n",
        "            p3 += 1\n",
        "        elif arr1[p1] < arr2[p2]:\n",
        "            p1 += 1\n",
        "        elif arr2[p2] < arr3[p3]:\n",
        "            p2 += 1\n",
        "        else:\n",
        "            p3 += 1\n",
        "\n",
        "    return result\n",
        "\n",
        "# Example usage\n",
        "arr1 = [1, 2, 3, 4, 5]\n",
        "arr2 = [1, 2, 5, 7, 9]\n",
        "arr3 = [1, 3, 4, 5, 8]\n",
        "result = findCommonElements(arr1, arr2, arr3)\n",
        "print(result)  # Output: [1, 5]"
      ]
    },
    {
      "cell_type": "markdown",
      "source": [
        "Question 2"
      ],
      "metadata": {
        "id": "FW01hbdm7KHb"
      }
    },
    {
      "cell_type": "code",
      "source": [
        "def findMissingDistinct(nums1, nums2):\n",
        "    set1 = set(nums1)\n",
        "    set2 = set(nums2)\n",
        "\n",
        "    diff1 = list(set1 - set2)\n",
        "    diff2 = list(set2 - set1)\n",
        "\n",
        "    return [diff1, diff2]\n",
        "\n",
        "# Example usage\n",
        "nums1 = [1, 2, 3]\n",
        "nums2 = [2, 4, 6]\n",
        "result = findMissingDistinct(nums1, nums2)\n",
        "print(result)  # Output: [[1, 3], [4, 6]]"
      ],
      "metadata": {
        "colab": {
          "base_uri": "https://localhost:8080/"
        },
        "id": "8r1rnCen7LJf",
        "outputId": "a31e20d4-0b35-4f74-a022-a4114bd058ee"
      },
      "execution_count": 2,
      "outputs": [
        {
          "output_type": "stream",
          "name": "stdout",
          "text": [
            "[[1, 3], [4, 6]]\n"
          ]
        }
      ]
    },
    {
      "cell_type": "markdown",
      "source": [
        "Question 3"
      ],
      "metadata": {
        "id": "0-y7RPxw7N9V"
      }
    },
    {
      "cell_type": "code",
      "source": [
        "def transpose(matrix):\n",
        "    rows = len(matrix)\n",
        "    columns = len(matrix[0])\n",
        "\n",
        "    result = [[0] * rows for _ in range(columns)]\n",
        "\n",
        "    for i in range(rows):\n",
        "        for j in range(columns):\n",
        "            result[j][i] = matrix[i][j]\n",
        "\n",
        "    return result\n",
        "\n",
        "# Example usage\n",
        "matrix = [[1, 2, 3], [4, 5, 6], [7, 8, 9]]\n",
        "result = transpose(matrix)\n",
        "print(result)  # Output: [[1, 4, 7], [2, 5, 8], [3, 6, 9]]"
      ],
      "metadata": {
        "colab": {
          "base_uri": "https://localhost:8080/"
        },
        "id": "cWaGZya27POJ",
        "outputId": "a86c52b0-f767-4d25-ad7a-59ffa0504d64"
      },
      "execution_count": 3,
      "outputs": [
        {
          "output_type": "stream",
          "name": "stdout",
          "text": [
            "[[1, 4, 7], [2, 5, 8], [3, 6, 9]]\n"
          ]
        }
      ]
    },
    {
      "cell_type": "markdown",
      "source": [
        "Question 4"
      ],
      "metadata": {
        "id": "jhrEweg67hBf"
      }
    },
    {
      "cell_type": "code",
      "source": [
        "def array_pair_sum(nums):\n",
        "    nums.sort()\n",
        "    max_sum = 0\n",
        "\n",
        "    for i in range(0, len(nums), 2):\n",
        "        max_sum += nums[i]\n",
        "\n",
        "    return max_sum\n",
        "\n",
        "# Example usage\n",
        "nums = [1, 4, 3, 2]\n",
        "max_sum = array_pair_sum(nums)\n",
        "print(max_sum)  # Output: 4"
      ],
      "metadata": {
        "colab": {
          "base_uri": "https://localhost:8080/"
        },
        "id": "wro7cbdg7iMf",
        "outputId": "a91ef875-9fd6-4927-e77a-cba505ddacac"
      },
      "execution_count": 4,
      "outputs": [
        {
          "output_type": "stream",
          "name": "stdout",
          "text": [
            "4\n"
          ]
        }
      ]
    },
    {
      "cell_type": "markdown",
      "source": [
        "Question 5"
      ],
      "metadata": {
        "id": "hVNxIJmR7ic5"
      }
    },
    {
      "cell_type": "code",
      "source": [
        "def arrange_coins(n):\n",
        "    k = 0\n",
        "    total_sum = 0\n",
        "\n",
        "    while total_sum + k + 1 <= n:\n",
        "        k += 1\n",
        "        total_sum += k\n",
        "\n",
        "    return k\n",
        "\n",
        "# Example usage\n",
        "n = 5\n",
        "complete_rows = arrange_coins(n)\n",
        "print(complete_rows)  # Output: 2"
      ],
      "metadata": {
        "colab": {
          "base_uri": "https://localhost:8080/"
        },
        "id": "WGK3YG2O7jgL",
        "outputId": "1f7d854c-e29e-4d24-d488-1a1a67993669"
      },
      "execution_count": 5,
      "outputs": [
        {
          "output_type": "stream",
          "name": "stdout",
          "text": [
            "2\n"
          ]
        }
      ]
    },
    {
      "cell_type": "markdown",
      "source": [
        "Question 6"
      ],
      "metadata": {
        "id": "45ncHxp27jn6"
      }
    },
    {
      "cell_type": "code",
      "source": [
        "def sortedSquares(nums):\n",
        "    result = []\n",
        "    left = 0\n",
        "    right = len(nums) - 1\n",
        "\n",
        "    while left <= right:\n",
        "        if abs(nums[left]) >= abs(nums[right]):\n",
        "            result.append(nums[left] ** 2)\n",
        "            left += 1\n",
        "        else:\n",
        "            result.append(nums[right] ** 2)\n",
        "            right -= 1\n",
        "\n",
        "    return result[::-1]\n",
        "\n",
        "# Example usage\n",
        "nums = [-4, -1, 0, 3, 10]\n",
        "result = sortedSquares(nums)\n",
        "print(result)  # Output: [0, 1, 9, 16, 100]"
      ],
      "metadata": {
        "colab": {
          "base_uri": "https://localhost:8080/"
        },
        "id": "defe82p97k5a",
        "outputId": "b0bb2872-634f-4025-b99e-a79c98e36bd3"
      },
      "execution_count": 6,
      "outputs": [
        {
          "output_type": "stream",
          "name": "stdout",
          "text": [
            "[0, 1, 9, 16, 100]\n"
          ]
        }
      ]
    },
    {
      "cell_type": "markdown",
      "source": [
        "Question 7"
      ],
      "metadata": {
        "id": "pIWm2Zc47lCl"
      }
    },
    {
      "cell_type": "code",
      "source": [
        "def maxCount(m, n, ops):\n",
        "    minA = m\n",
        "    minB = n\n",
        "\n",
        "    for op in ops:\n",
        "        minA = min(minA, op[0])\n",
        "        minB = min(minB, op[1])\n",
        "\n",
        "    return minA * minB\n",
        "\n",
        "# Example usage\n",
        "m = 3\n",
        "n = 3\n",
        "ops = [[2, 2], [3, 3]]\n",
        "result = maxCount(m, n, ops)\n",
        "print(result)  # Output: 4"
      ],
      "metadata": {
        "colab": {
          "base_uri": "https://localhost:8080/"
        },
        "id": "eMiO6rE97mDi",
        "outputId": "213ac04d-d8c9-42c1-cd82-2d4fd809235f"
      },
      "execution_count": 7,
      "outputs": [
        {
          "output_type": "stream",
          "name": "stdout",
          "text": [
            "4\n"
          ]
        }
      ]
    },
    {
      "cell_type": "markdown",
      "source": [
        "Question 8"
      ],
      "metadata": {
        "id": "fkimTtrt7mLu"
      }
    },
    {
      "cell_type": "code",
      "source": [
        "def rearrangeArray(nums, n):\n",
        "    rearranged = []\n",
        "    left, right = 0, n\n",
        "\n",
        "    while left < n:\n",
        "        rearranged.append(nums[left])\n",
        "        rearranged.append(nums[right])\n",
        "        left += 1\n",
        "        right += 1\n",
        "\n",
        "    return rearranged\n",
        "\n",
        "# Example usage\n",
        "nums = [2, 5, 1, 3, 4, 7]\n",
        "n = 3\n",
        "result = rearrangeArray(nums, n)\n",
        "print(result)  # Output: [2, 3, 5, 4, 1, 7]"
      ],
      "metadata": {
        "colab": {
          "base_uri": "https://localhost:8080/"
        },
        "id": "uo6PaY8U7nb8",
        "outputId": "85999a40-1ed9-415e-d649-368d5834858c"
      },
      "execution_count": 8,
      "outputs": [
        {
          "output_type": "stream",
          "name": "stdout",
          "text": [
            "[2, 3, 5, 4, 1, 7]\n"
          ]
        }
      ]
    }
  ]
}