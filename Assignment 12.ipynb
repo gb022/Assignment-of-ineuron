{
  "nbformat": 4,
  "nbformat_minor": 0,
  "metadata": {
    "colab": {
      "provenance": []
    },
    "kernelspec": {
      "name": "python3",
      "display_name": "Python 3"
    },
    "language_info": {
      "name": "python"
    }
  },
  "cells": [
    {
      "cell_type": "code",
      "execution_count": 1,
      "metadata": {
        "id": "Rq87yiV_kCm7"
      },
      "outputs": [],
      "source": [
        "# Question 1\n",
        "class ListNode:\n",
        "    def __init__(self, val=0, next=None):\n",
        "        self.val = val\n",
        "        self.next = next\n",
        "\n",
        "def deleteMiddleNode(head):\n",
        "    if not head or not head.next:\n",
        "        return None\n",
        "\n",
        "    slowPtr = head\n",
        "    fastPtr = head\n",
        "    prevPtr = None\n",
        "\n",
        "    while fastPtr and fastPtr.next:\n",
        "        fastPtr = fastPtr.next.next\n",
        "        prevPtr = slowPtr\n",
        "        slowPtr = slowPtr.next\n",
        "\n",
        "    prevPtr.next = slowPtr.next\n",
        "\n",
        "    return head\n"
      ]
    },
    {
      "cell_type": "code",
      "source": [
        "# Create the linked list 1->2->3->4->5\n",
        "head = ListNode(1)\n",
        "head.next = ListNode(2)\n",
        "head.next.next = ListNode(3)\n",
        "head.next.next.next = ListNode(4)\n",
        "head.next.next.next.next = ListNode(5)\n",
        "\n",
        "# Delete the middle node(s)\n",
        "head = deleteMiddleNode(head)\n",
        "\n",
        "# Print the modified linked list\n",
        "while head:\n",
        "    print(head.val, end=\" \")\n",
        "    head = head.next\n",
        "\n",
        "# Output: 1 2 4 5\n"
      ],
      "metadata": {
        "colab": {
          "base_uri": "https://localhost:8080/"
        },
        "id": "5KI5BQlEkIjv",
        "outputId": "eba20944-bd4e-4dca-a28d-c67ef4881426"
      },
      "execution_count": 3,
      "outputs": [
        {
          "output_type": "stream",
          "name": "stdout",
          "text": [
            "1 2 4 5 "
          ]
        }
      ]
    },
    {
      "cell_type": "code",
      "source": [
        "# Create the linked list 2->4->6->7->5->1\n",
        "head = ListNode(2)\n",
        "head.next = ListNode(4)\n",
        "head.next.next = ListNode(6)\n",
        "head.next.next.next = ListNode(7)\n",
        "head.next.next.next.next = ListNode(5)\n",
        "head.next.next.next.next.next = ListNode(1)\n",
        "\n",
        "# Delete the middle node(s)\n",
        "head = deleteMiddleNode(head)\n",
        "\n",
        "# Print the modified linked list\n",
        "while head:\n",
        "    print(head.val, end=\" \")\n",
        "    head = head.next\n",
        "\n",
        "# Output: 2 4 6 5 1\n"
      ],
      "metadata": {
        "colab": {
          "base_uri": "https://localhost:8080/"
        },
        "id": "PYxoWesOktu1",
        "outputId": "eb42b674-c69d-4bf8-faab-cf067c3e6d50"
      },
      "execution_count": 4,
      "outputs": [
        {
          "output_type": "stream",
          "name": "stdout",
          "text": [
            "2 4 6 5 1 "
          ]
        }
      ]
    },
    {
      "cell_type": "code",
      "source": [
        "# Question 2\n",
        "class ListNode:\n",
        "    def __init__(self, val=0, next=None):\n",
        "        self.val = val\n",
        "        self.next = next\n",
        "\n",
        "def hasLoop(head):\n",
        "    if not head or not head.next:\n",
        "        return False\n",
        "\n",
        "    slowPtr = head\n",
        "    fastPtr = head\n",
        "\n",
        "    while fastPtr and fastPtr.next:\n",
        "        slowPtr = slowPtr.next\n",
        "        fastPtr = fastPtr.next.next\n",
        "        if slowPtr == fastPtr:\n",
        "            return True\n",
        "\n",
        "    return False\n"
      ],
      "metadata": {
        "id": "bbOWGPUIkxnA"
      },
      "execution_count": 5,
      "outputs": []
    },
    {
      "cell_type": "code",
      "source": [
        "# Create the linked list 1->3->4 with a loop at position 2\n",
        "head = ListNode(1)\n",
        "head.next = ListNode(3)\n",
        "head.next.next = ListNode(4)\n",
        "head.next.next.next = head.next  # Creating the loop\n",
        "\n",
        "# Check if the linked list has a loop\n",
        "has_loop = hasLoop(head)\n",
        "\n",
        "# Output: True\n",
        "print(has_loop)\n"
      ],
      "metadata": {
        "colab": {
          "base_uri": "https://localhost:8080/"
        },
        "id": "My7iYmNulaYW",
        "outputId": "a727588b-a869-4e7f-8f6c-ccfb52d98752"
      },
      "execution_count": 6,
      "outputs": [
        {
          "output_type": "stream",
          "name": "stdout",
          "text": [
            "True\n"
          ]
        }
      ]
    },
    {
      "cell_type": "code",
      "source": [
        "# Create the linked list 1->8->3->4 without a loop\n",
        "head = ListNode(1)\n",
        "head.next = ListNode(8)\n",
        "head.next.next = ListNode(3)\n",
        "head.next.next.next = ListNode(4)\n",
        "\n",
        "# Check if the linked list has a loop\n",
        "has_loop = hasLoop(head)\n",
        "\n",
        "# Output: False\n",
        "print(has_loop)\n"
      ],
      "metadata": {
        "colab": {
          "base_uri": "https://localhost:8080/"
        },
        "id": "CzWfIQSjlfzh",
        "outputId": "0bf68100-15fe-4054-ab48-f5df73e2b45e"
      },
      "execution_count": 7,
      "outputs": [
        {
          "output_type": "stream",
          "name": "stdout",
          "text": [
            "False\n"
          ]
        }
      ]
    },
    {
      "cell_type": "code",
      "source": [
        "# Question 3\n",
        "class ListNode:\n",
        "    def __init__(self, val=0, next=None):\n",
        "        self.val = val\n",
        "        self.next = next\n",
        "\n",
        "def findNthFromEnd(head, N):\n",
        "    mainPtr = head\n",
        "    refPtr = head\n",
        "\n",
        "    # Move the mainPtr N nodes ahead\n",
        "    for _ in range(N):\n",
        "        if mainPtr is None:\n",
        "            return -1\n",
        "        mainPtr = mainPtr.next\n",
        "\n",
        "    # Move both pointers one node at a time\n",
        "    while mainPtr:\n",
        "        mainPtr = mainPtr.next\n",
        "        refPtr = refPtr.next\n",
        "\n",
        "    return refPtr.val\n"
      ],
      "metadata": {
        "id": "7awrVqeRli-j"
      },
      "execution_count": 8,
      "outputs": []
    },
    {
      "cell_type": "code",
      "source": [
        "# Create the linked list 1->2->3->4->5->6->7->8->9\n",
        "head = ListNode(1)\n",
        "head.next = ListNode(2)\n",
        "head.next.next = ListNode(3)\n",
        "head.next.next.next = ListNode(4)\n",
        "head.next.next.next.next = ListNode(5)\n",
        "head.next.next.next.next.next = ListNode(6)\n",
        "head.next.next.next.next.next.next = ListNode(7)\n",
        "head.next.next.next.next.next.next.next = ListNode(8)\n",
        "head.next.next.next.next.next.next.next.next = ListNode(9)\n",
        "\n",
        "# Find the 2nd node from the end\n",
        "N = 2\n",
        "result = findNthFromEnd(head, N)\n",
        "\n",
        "# Output: 8\n",
        "print(result)\n"
      ],
      "metadata": {
        "colab": {
          "base_uri": "https://localhost:8080/"
        },
        "id": "b71XiHynm4nK",
        "outputId": "40ba8d85-e81e-4302-db7c-4ad2ff311fb9"
      },
      "execution_count": 9,
      "outputs": [
        {
          "output_type": "stream",
          "name": "stdout",
          "text": [
            "8\n"
          ]
        }
      ]
    },
    {
      "cell_type": "code",
      "source": [
        "# Create the linked list 10->5->100->5\n",
        "head = ListNode(10)\n",
        "head.next = ListNode(5)\n",
        "head.next.next = ListNode(100)\n",
        "head.next.next.next = ListNode(5)\n",
        "\n",
        "# Find the 5th node from the end\n",
        "N = 5\n",
        "result = findNthFromEnd(head, N)\n",
        "\n",
        "# Output: -1\n",
        "print(result)\n"
      ],
      "metadata": {
        "colab": {
          "base_uri": "https://localhost:8080/"
        },
        "id": "P8a6oPzgm7xF",
        "outputId": "836898b3-cad0-4c1f-d5a2-328fdc410ac0"
      },
      "execution_count": 10,
      "outputs": [
        {
          "output_type": "stream",
          "name": "stdout",
          "text": [
            "-1\n"
          ]
        }
      ]
    },
    {
      "cell_type": "code",
      "source": [
        "# Question 4\n",
        "class ListNode:\n",
        "    def __init__(self, data=None):\n",
        "        self.data = data\n",
        "        self.next = None\n",
        "\n",
        "def isPalindrome(head):\n",
        "    stack = []\n",
        "    current = head\n",
        "\n",
        "    # Traverse the linked list and store characters in the stack\n",
        "    while current is not None:\n",
        "        stack.append(current.data)\n",
        "        current = current.next\n",
        "\n",
        "    # Traverse the linked list again and compare characters with the stack\n",
        "    current = head\n",
        "    while current is not None:\n",
        "        if current.data != stack.pop():\n",
        "            return False\n",
        "        current = current.next\n",
        "\n",
        "    return True\n"
      ],
      "metadata": {
        "id": "OrBqDUlgm_lr"
      },
      "execution_count": 11,
      "outputs": []
    },
    {
      "cell_type": "code",
      "source": [
        "# Create the linked list: R->A->D->A->R->NULL\n",
        "head = ListNode('R')\n",
        "node2 = ListNode('A')\n",
        "node3 = ListNode('D')\n",
        "node4 = ListNode('A')\n",
        "node5 = ListNode('R')\n",
        "\n",
        "head.next = node2\n",
        "node2.next = node3\n",
        "node3.next = node4\n",
        "node4.next = node5\n",
        "\n",
        "print(isPalindrome(head))  # Output: True\n",
        "\n",
        "# Create the linked list: C->O->D->E->NULL\n",
        "head = ListNode('C')\n",
        "node2 = ListNode('O')\n",
        "node3 = ListNode('D')\n",
        "node4 = ListNode('E')\n",
        "\n",
        "head.next = node2\n",
        "node2.next = node3\n",
        "node3.next = node4\n",
        "\n",
        "print(isPalindrome(head))  # Output: False\n"
      ],
      "metadata": {
        "colab": {
          "base_uri": "https://localhost:8080/"
        },
        "id": "rEZLgU8xn8QH",
        "outputId": "83c32fba-b340-4bed-e8ac-7a35103513cb"
      },
      "execution_count": 12,
      "outputs": [
        {
          "output_type": "stream",
          "name": "stdout",
          "text": [
            "True\n",
            "False\n"
          ]
        }
      ]
    },
    {
      "cell_type": "code",
      "source": [
        "# Question 5\n",
        "class Node:\n",
        "    def __init__(self, value):\n",
        "        self.value = value\n",
        "        self.next = None\n",
        "\n",
        "def create_linked_list(arr):\n",
        "    head = None\n",
        "    tail = None\n",
        "\n",
        "    # Create the linked list\n",
        "    for value in arr:\n",
        "        new_node = Node(value)\n",
        "        if head is None:\n",
        "            head = new_node\n",
        "            tail = new_node\n",
        "        else:\n",
        "            tail.next = new_node\n",
        "            tail = new_node\n",
        "\n",
        "    return head\n",
        "\n",
        "def create_loop(head, x):\n",
        "    if x == 0:\n",
        "        return head\n",
        "\n",
        "    current = head\n",
        "    count = 1\n",
        "\n",
        "    # Traverse to the node at position X\n",
        "    while count < x and current.next:\n",
        "        current = current.next\n",
        "        count += 1\n",
        "\n",
        "    # Set the last node's next pointer to the Xth node\n",
        "    last_node = current\n",
        "    while last_node.next:\n",
        "        last_node = last_node.next\n",
        "    last_node.next = current\n",
        "\n",
        "    return head\n",
        "\n",
        "def detect_and_remove_loop(head):\n",
        "    if not head or not head.next:\n",
        "        return head\n",
        "\n",
        "    slow = head\n",
        "    fast = head\n",
        "\n",
        "    # Find the meeting point (if loop exists)\n",
        "    while fast and fast.next:\n",
        "        slow = slow.next\n",
        "        fast = fast.next.next\n",
        "        if slow == fast:\n",
        "            break\n",
        "\n",
        "    # No loop exists\n",
        "    if slow != fast:\n",
        "        return head\n",
        "\n",
        "    # Reset slow pointer to the head\n",
        "    slow = head\n",
        "\n",
        "    # Move both pointers one step at a time until they meet again\n",
        "    while slow.next != fast.next:\n",
        "        slow = slow.next\n",
        "        fast = fast.next\n",
        "\n",
        "    # Unlink the last node to remove the loop\n",
        "    fast.next = None\n",
        "\n",
        "    return head\n",
        "\n",
        "def print_linked_list(head):\n",
        "    current = head\n",
        "    nodes = []\n",
        "    while current:\n",
        "        nodes.append(str(current.value))\n",
        "        current = current.next\n",
        "    print(\" -> \".join(nodes))\n",
        "\n",
        "# Given input\n",
        "arr = [1, 3, 4]\n",
        "x = 2\n",
        "\n",
        "# Create the linked list and add a loop\n",
        "head = create_linked_list(arr)\n",
        "head = create_loop(head, x)\n",
        "\n",
        "# Print the original linked list (with the loop)\n",
        "print(\"Original linked list:\")\n",
        "print_linked_list(head)\n",
        "\n",
        "# Remove the loop\n",
        "head = detect_and_remove_loop(head)\n",
        "\n",
        "# Print the linked list after removing the loop\n",
        "print(\"Linked list after removing the loop:\")\n",
        "print_linked_list(head)\n"
      ],
      "metadata": {
        "colab": {
          "base_uri": "https://localhost:8080/"
        },
        "id": "TvsgpGhSn_Dr",
        "outputId": "dd399310-322d-4042-996a-b26ad92e8b31"
      },
      "execution_count": null,
      "outputs": [
        {
          "output_type": "stream",
          "name": "stdout",
          "text": [
            "Original linked list:\n"
          ]
        }
      ]
    },
    {
      "cell_type": "code",
      "source": [
        "# Question 6\n",
        "class Node:\n",
        "    def __init__(self, value):\n",
        "        self.value = value\n",
        "        self.next = None\n",
        "\n",
        "def create_linked_list(arr):\n",
        "    head = None\n",
        "    tail = None\n",
        "\n",
        "    # Create the linked list\n",
        "    for value in arr:\n",
        "        new_node = Node(value)\n",
        "        if head is None:\n",
        "            head = new_node\n",
        "            tail = new_node\n",
        "        else:\n",
        "            tail.next = new_node\n",
        "            tail = new_node\n",
        "\n",
        "    return head\n",
        "\n",
        "def delete_nodes(head, M, N):\n",
        "    if M == 0 or N == 0:\n",
        "        return head\n",
        "\n",
        "    current = head\n",
        "    previous = None\n",
        "\n",
        "    # Traverse the linked list\n",
        "    while current:\n",
        "        # Skip M nodes\n",
        "        for _ in range(M):\n",
        "            if current is None:\n",
        "                return head\n",
        "            previous = current\n",
        "            current = current.next\n",
        "\n",
        "        # Delete N nodes\n",
        "        for _ in range(N):\n",
        "            if current is None:\n",
        "                break\n",
        "            current = current.next\n",
        "\n",
        "        # Adjust pointers\n",
        "        previous.next = current\n",
        "\n",
        "    return head\n",
        "\n",
        "def print_linked_list(head):\n",
        "    current = head\n",
        "    nodes = []\n",
        "    while current:\n",
        "        nodes.append(str(current.value))\n",
        "        current = current.next\n",
        "    print(\" -> \".join(nodes))\n",
        "\n",
        "# Example 1\n",
        "arr1 = [1, 2, 3, 4, 5, 6, 7, 8]\n",
        "M1 = 2\n",
        "N1 = 2\n",
        "head1 = create_linked_list(arr1)\n",
        "print(\"Example 1:\")\n",
        "print(\"Original linked list:\")\n",
        "print_linked_list(head1)\n",
        "head1 = delete_nodes(head1, M1, N1)\n",
        "print(\"Linked list after deletion:\")\n",
        "print_linked_list(head1)\n",
        "\n",
        "# Example 2\n",
        "arr2 = [1, 2, 3, 4, 5, 6, 7, 8, 9, 10]\n",
        "M2 = 3\n",
        "N2 = 2\n",
        "head2 = create_linked_list(arr2)\n",
        "print(\"\\nExample 2:\")\n",
        "print(\"Original linked list:\")\n",
        "print_linked_list(head2)\n",
        "head2 = delete_nodes(head2, M2, N2)\n",
        "print(\"Linked list after deletion:\")\n",
        "print_linked_list(head2)\n",
        "\n",
        "# Example 3\n",
        "arr3 = [1, 2, 3, 4, 5, 6, 7, 8, 9, 10]\n",
        "M3 = 1\n",
        "N3 = 1\n",
        "head3 = create_linked_list(arr3)\n",
        "print(\"\\nExample 3:\")\n",
        "print(\"Original linked list:\")\n",
        "print_linked_list(head3)\n",
        "head3 = delete_nodes(head3, M3, N3)\n",
        "print(\"Linked list after deletion:\")\n",
        "print_linked_list(head3)\n"
      ],
      "metadata": {
        "colab": {
          "base_uri": "https://localhost:8080/"
        },
        "id": "-J4turUbogoA",
        "outputId": "41fe509a-74f4-4ff0-80b8-13f4f64f5da4"
      },
      "execution_count": 1,
      "outputs": [
        {
          "output_type": "stream",
          "name": "stdout",
          "text": [
            "Example 1:\n",
            "Original linked list:\n",
            "1 -> 2 -> 3 -> 4 -> 5 -> 6 -> 7 -> 8\n",
            "Linked list after deletion:\n",
            "1 -> 2 -> 5 -> 6\n",
            "\n",
            "Example 2:\n",
            "Original linked list:\n",
            "1 -> 2 -> 3 -> 4 -> 5 -> 6 -> 7 -> 8 -> 9 -> 10\n",
            "Linked list after deletion:\n",
            "1 -> 2 -> 3 -> 6 -> 7 -> 8\n",
            "\n",
            "Example 3:\n",
            "Original linked list:\n",
            "1 -> 2 -> 3 -> 4 -> 5 -> 6 -> 7 -> 8 -> 9 -> 10\n",
            "Linked list after deletion:\n",
            "1 -> 3 -> 5 -> 7 -> 9\n"
          ]
        }
      ]
    },
    {
      "cell_type": "code",
      "source": [
        "# Question 7\n",
        "class Node:\n",
        "    def __init__(self, value):\n",
        "        self.value = value\n",
        "        self.next = None\n",
        "\n",
        "def create_linked_list(arr):\n",
        "    head = None\n",
        "    tail = None\n",
        "\n",
        "    # Create the linked list\n",
        "    for value in arr:\n",
        "        new_node = Node(value)\n",
        "        if head is None:\n",
        "            head = new_node\n",
        "            tail = new_node\n",
        "        else:\n",
        "            tail.next = new_node\n",
        "            tail = new_node\n",
        "\n",
        "    return head\n",
        "\n",
        "def merge_lists(first, second):\n",
        "    if not second:\n",
        "        return first\n",
        "\n",
        "    current1 = first\n",
        "    current2 = second\n",
        "\n",
        "    while current1 and current2:\n",
        "        # Save the next pointers\n",
        "        next1 = current1.next\n",
        "        next2 = current2.next\n",
        "\n",
        "        # Insert the node from the second list into the first list\n",
        "        current1.next = current2\n",
        "        current2.next = next1\n",
        "\n",
        "        # Move to the next nodes\n",
        "        current1 = next1\n",
        "        current2 = next2\n",
        "\n",
        "    return first\n",
        "\n",
        "def print_linked_list(head):\n",
        "    current = head\n",
        "    nodes = []\n",
        "    while current:\n",
        "        nodes.append(str(current.value))\n",
        "        current = current.next\n",
        "    print(\" -> \".join(nodes))\n",
        "\n",
        "# Example\n",
        "arr1 = [5, 7, 17, 13, 11]\n",
        "arr2 = [12, 10, 2, 4, 6]\n",
        "\n",
        "first_list = create_linked_list(arr1)\n",
        "second_list = create_linked_list(arr2)\n",
        "\n",
        "print(\"First list before merging:\")\n",
        "print_linked_list(first_list)\n",
        "print(\"Second list before merging:\")\n",
        "print_linked_list(second_list)\n",
        "\n",
        "first_list = merge_lists(first_list, second_list)\n",
        "\n",
        "print(\"First list after merging:\")\n",
        "print_linked_list(first_list)\n",
        "print(\"Second list after merging:\")\n",
        "print_linked_list(second_list)\n"
      ],
      "metadata": {
        "colab": {
          "base_uri": "https://localhost:8080/"
        },
        "id": "IjNL0rtdwAPu",
        "outputId": "b8ccf091-e658-481c-c2df-cc1efcdde773"
      },
      "execution_count": 2,
      "outputs": [
        {
          "output_type": "stream",
          "name": "stdout",
          "text": [
            "First list before merging:\n",
            "5 -> 7 -> 17 -> 13 -> 11\n",
            "Second list before merging:\n",
            "12 -> 10 -> 2 -> 4 -> 6\n",
            "First list after merging:\n",
            "5 -> 12 -> 7 -> 10 -> 17 -> 2 -> 13 -> 4 -> 11 -> 6\n",
            "Second list after merging:\n",
            "12 -> 7 -> 10 -> 17 -> 2 -> 13 -> 4 -> 11 -> 6\n"
          ]
        }
      ]
    },
    {
      "cell_type": "code",
      "source": [
        "# Question 8\n",
        "class ListNode:\n",
        "    def __init__(self, val):\n",
        "        self.val = val\n",
        "        self.next = None\n",
        "\n",
        "def has_cycle(head):\n",
        "    if not head or not head.next:\n",
        "        return False\n",
        "\n",
        "    slow = head\n",
        "    fast = head.next\n",
        "\n",
        "    while slow != fast:\n",
        "        if not fast or not fast.next:\n",
        "            return False\n",
        "        slow = slow.next\n",
        "        fast = fast.next.next\n",
        "\n",
        "    return True\n"
      ],
      "metadata": {
        "id": "YOzfQLNFwWcK"
      },
      "execution_count": 4,
      "outputs": []
    },
    {
      "cell_type": "code",
      "source": [],
      "metadata": {
        "id": "SoeCKzEWw4Rw"
      },
      "execution_count": null,
      "outputs": []
    }
  ]
}