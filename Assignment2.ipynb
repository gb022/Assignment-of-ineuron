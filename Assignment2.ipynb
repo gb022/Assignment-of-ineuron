{
  "nbformat": 4,
  "nbformat_minor": 0,
  "metadata": {
    "colab": {
      "provenance": []
    },
    "kernelspec": {
      "name": "python3",
      "display_name": "Python 3"
    },
    "language_info": {
      "name": "python"
    }
  },
  "cells": [
    {
      "cell_type": "markdown",
      "source": [
        "Question 1"
      ],
      "metadata": {
        "id": "bFsLvAIz4MjL"
      }
    },
    {
      "cell_type": "code",
      "execution_count": 1,
      "metadata": {
        "colab": {
          "base_uri": "https://localhost:8080/"
        },
        "id": "EgLxUg4n4I4Q",
        "outputId": "4d16f677-e3c8-4986-df46-d597989fe6bc"
      },
      "outputs": [
        {
          "output_type": "stream",
          "name": "stdout",
          "text": [
            "4\n"
          ]
        }
      ],
      "source": [
        "def array_pair_sum(nums):\n",
        "    nums.sort()  # Sort the array in ascending order\n",
        "    max_sum = 0\n",
        "\n",
        "    for i in range(0, len(nums), 2):\n",
        "        max_sum += nums[i]\n",
        "\n",
        "    return max_sum\n",
        "\n",
        "# Example usage\n",
        "nums = [1, 4, 3, 2]\n",
        "result = array_pair_sum(nums)\n",
        "print(result)  # 4"
      ]
    },
    {
      "cell_type": "markdown",
      "source": [
        "Question 2"
      ],
      "metadata": {
        "id": "oYIptfqx4OoT"
      }
    },
    {
      "cell_type": "code",
      "source": [
        "def max_num_different_candies(candyType):\n",
        "    max_num = len(candyType) // 2  # Maximum number of candies Alice can eat\n",
        "    unique_candies = set(candyType)  # Set to store unique types of candies\n",
        "\n",
        "    return min(max_num, len(unique_candies))\n",
        "\n",
        "# Example usage\n",
        "candyType = [1, 1, 2, 2, 3, 3]\n",
        "result = max_num_different_candies(candyType)\n",
        "print(result)  # 3"
      ],
      "metadata": {
        "colab": {
          "base_uri": "https://localhost:8080/"
        },
        "id": "ooNxlrt54QQ1",
        "outputId": "16466f5e-b13e-4ab2-f1b0-271bc21f065a"
      },
      "execution_count": 2,
      "outputs": [
        {
          "output_type": "stream",
          "name": "stdout",
          "text": [
            "3\n"
          ]
        }
      ]
    },
    {
      "cell_type": "markdown",
      "source": [
        "Question 3"
      ],
      "metadata": {
        "id": "G14IOr0n4Qh3"
      }
    },
    {
      "cell_type": "code",
      "source": [
        "def findLHS(nums):\n",
        "    num_count = {}  # Hashmap to store the frequency of each number\n",
        "    max_length = 0\n",
        "\n",
        "    # Count the frequency of each number in nums\n",
        "    for num in nums:\n",
        "        num_count[num] = num_count.get(num, 0) + 1\n",
        "\n",
        "    # Check if a number and its consecutive number form a harmonious subsequence\n",
        "    for num in num_count:\n",
        "        if num + 1 in num_count:\n",
        "            curr_length = num_count[num] + num_count[num + 1]\n",
        "            max_length = max(max_length, curr_length)\n",
        "\n",
        "    return max_length\n",
        "\n",
        "# Example usage\n",
        "nums = [1, 3, 2, 2, 5, 2, 3, 7]\n",
        "result = findLHS(nums)\n",
        "print(result)  # 5"
      ],
      "metadata": {
        "colab": {
          "base_uri": "https://localhost:8080/"
        },
        "id": "nXIvyzxK4Smo",
        "outputId": "43901409-dcf0-4a03-ad28-e5f2a858bdaa"
      },
      "execution_count": 3,
      "outputs": [
        {
          "output_type": "stream",
          "name": "stdout",
          "text": [
            "5\n"
          ]
        }
      ]
    },
    {
      "cell_type": "markdown",
      "source": [
        "Question 4"
      ],
      "metadata": {
        "id": "iAdbOt5t4Sxo"
      }
    },
    {
      "cell_type": "code",
      "source": [
        "def canPlaceFlowers(flowerbed, n):\n",
        "    length = len(flowerbed)\n",
        "    count = 0\n",
        "    i = 0\n",
        "\n",
        "    while i < length:\n",
        "        if flowerbed[i] == 0 and (i == 0 or flowerbed[i - 1] == 0) and (i == length - 1 or flowerbed[i + 1] == 0):\n",
        "            flowerbed[i] = 1\n",
        "            count += 1\n",
        "            if count >= n:\n",
        "                return True\n",
        "        i += 1\n",
        "\n",
        "    return count >= n\n",
        "\n",
        "# Example usage\n",
        "flowerbed = [1, 0, 0, 0, 1]\n",
        "n = 1\n",
        "result = canPlaceFlowers(flowerbed, n)\n",
        "print(result)  # True"
      ],
      "metadata": {
        "colab": {
          "base_uri": "https://localhost:8080/"
        },
        "id": "SD-wjHPj4UCY",
        "outputId": "05068008-5f5d-488f-ea55-d9a3a308e33c"
      },
      "execution_count": 4,
      "outputs": [
        {
          "output_type": "stream",
          "name": "stdout",
          "text": [
            "True\n"
          ]
        }
      ]
    },
    {
      "cell_type": "markdown",
      "source": [
        "Question 5"
      ],
      "metadata": {
        "id": "EddVq3Uu4UPf"
      }
    },
    {
      "cell_type": "code",
      "source": [
        "def maximumProduct(nums):\n",
        "    nums.sort()\n",
        "    n = len(nums)\n",
        "    \n",
        "    return max(nums[n-1] * nums[n-2] * nums[n-3], nums[0] * nums[1] * nums[n-1])\n",
        "\n",
        "# Example usage\n",
        "nums = [1, 2, 3]\n",
        "result = maximumProduct(nums)\n",
        "print(result)  # 6"
      ],
      "metadata": {
        "colab": {
          "base_uri": "https://localhost:8080/"
        },
        "id": "bINSAu0R4VtT",
        "outputId": "16f7333e-0eff-4aa9-836f-4aa781b65d1c"
      },
      "execution_count": 5,
      "outputs": [
        {
          "output_type": "stream",
          "name": "stdout",
          "text": [
            "6\n"
          ]
        }
      ]
    },
    {
      "cell_type": "markdown",
      "source": [
        "Question 6"
      ],
      "metadata": {
        "id": "XkXhj1GR4V3V"
      }
    },
    {
      "cell_type": "code",
      "source": [
        "def search(nums, target):\n",
        "    left, right = 0, len(nums) - 1\n",
        "\n",
        "    while left <= right:\n",
        "        mid = left + (right - left) // 2\n",
        "\n",
        "        if nums[mid] == target:\n",
        "            return mid\n",
        "        elif nums[mid] > target:\n",
        "            right = mid - 1\n",
        "        else:\n",
        "            left = mid + 1\n",
        "\n",
        "    return -1\n",
        "\n",
        "# Example usage\n",
        "nums = [-1, 0, 3, 5, 9, 12]\n",
        "target = 9\n",
        "result = search(nums, target)\n",
        "print(result)  # 4"
      ],
      "metadata": {
        "colab": {
          "base_uri": "https://localhost:8080/"
        },
        "id": "1OogiTEr4XFE",
        "outputId": "2935b73c-f834-4b68-c368-e53d0d3bbac2"
      },
      "execution_count": 6,
      "outputs": [
        {
          "output_type": "stream",
          "name": "stdout",
          "text": [
            "4\n"
          ]
        }
      ]
    },
    {
      "cell_type": "markdown",
      "source": [
        "Question 7"
      ],
      "metadata": {
        "id": "6cZnn14F4XOK"
      }
    },
    {
      "cell_type": "code",
      "source": [
        "def search(nums, target):\n",
        "    left, right = 0, len(nums) - 1\n",
        "\n",
        "    while left <= right:\n",
        "        mid = (left + right) // 2\n",
        "\n",
        "        if nums[mid] == target:\n",
        "            return mid\n",
        "        elif nums[mid] < target:\n",
        "            left = mid + 1\n",
        "        else:\n",
        "            right = mid - 1\n",
        "\n",
        "    return -1\n",
        "\n",
        "# Example usage\n",
        "nums = [-1, 0, 3, 5, 9, 12]\n",
        "target = 9\n",
        "result = search(nums, target)\n",
        "print(result)  # 4"
      ],
      "metadata": {
        "colab": {
          "base_uri": "https://localhost:8080/"
        },
        "id": "o119sLVO4YrZ",
        "outputId": "275276d1-1395-436c-f072-8837a2f373b2"
      },
      "execution_count": 7,
      "outputs": [
        {
          "output_type": "stream",
          "name": "stdout",
          "text": [
            "4\n"
          ]
        }
      ]
    },
    {
      "cell_type": "markdown",
      "source": [
        "Question 8"
      ],
      "metadata": {
        "id": "H9H5pthL4Yzq"
      }
    },
    {
      "cell_type": "code",
      "source": [
        "def minimumScore(nums, k):\n",
        "    min_num = float('inf')\n",
        "    max_num = float('-inf')\n",
        "\n",
        "    for num in nums:\n",
        "        min_num = min(min_num, num)\n",
        "        max_num = max(max_num, num)\n",
        "\n",
        "    initial_score = max_num - min_num\n",
        "\n",
        "    if initial_score == 0:\n",
        "        return 0\n",
        "\n",
        "    for num in nums:\n",
        "        potential_min = min_num + k\n",
        "        potential_max = max_num + k\n",
        "\n",
        "        min_num = min(min_num, potential_min)\n",
        "        max_num = max(max_num, potential_max)\n",
        "\n",
        "    final_score = max_num - min_num\n",
        "\n",
        "    return final_score\n",
        "\n",
        "# Example usage\n",
        "nums = [1]\n",
        "k = 0\n",
        "result = minimumScore(nums, k)\n",
        "print(result)  # 0"
      ],
      "metadata": {
        "colab": {
          "base_uri": "https://localhost:8080/"
        },
        "id": "RugXmB3h4Z-b",
        "outputId": "c73b7bfd-8594-464f-c28b-ae1be8dd1621"
      },
      "execution_count": 9,
      "outputs": [
        {
          "output_type": "stream",
          "name": "stdout",
          "text": [
            "0\n"
          ]
        }
      ]
    }
  ]
}