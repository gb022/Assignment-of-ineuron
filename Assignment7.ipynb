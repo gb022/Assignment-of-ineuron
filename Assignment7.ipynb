{
  "nbformat": 4,
  "nbformat_minor": 0,
  "metadata": {
    "colab": {
      "provenance": []
    },
    "kernelspec": {
      "name": "python3",
      "display_name": "Python 3"
    },
    "language_info": {
      "name": "python"
    }
  },
  "cells": [
    {
      "cell_type": "markdown",
      "source": [
        "Question 1"
      ],
      "metadata": {
        "id": "ZEjCvx2n_vf7"
      }
    },
    {
      "cell_type": "code",
      "execution_count": 1,
      "metadata": {
        "id": "q4LRQ5Rz_vE7"
      },
      "outputs": [],
      "source": [
        "def isIsomorphic(s, t):\n",
        "    s_to_t = {}\n",
        "    t_to_s = {}\n",
        "\n",
        "    for ch_s, ch_t in zip(s, t):\n",
        "        if (ch_s in s_to_t and s_to_t[ch_s] != ch_t) or (ch_t in t_to_s and t_to_s[ch_t] != ch_s):\n",
        "            return False\n",
        "        s_to_t[ch_s] = ch_t\n",
        "        t_to_s[ch_t] = ch_s\n",
        "\n",
        "    return True"
      ]
    },
    {
      "cell_type": "code",
      "source": [
        "s = \"egg\"\n",
        "t = \"add\"\n",
        "print(isIsomorphic(s, t))"
      ],
      "metadata": {
        "colab": {
          "base_uri": "https://localhost:8080/"
        },
        "id": "qBhYpPCGBioq",
        "outputId": "823edf7f-486b-4baf-c03f-1a7f2f89275e"
      },
      "execution_count": 2,
      "outputs": [
        {
          "output_type": "stream",
          "name": "stdout",
          "text": [
            "True\n"
          ]
        }
      ]
    },
    {
      "cell_type": "markdown",
      "source": [
        "Question 2"
      ],
      "metadata": {
        "id": "GSW9K-GP_ygN"
      }
    },
    {
      "cell_type": "code",
      "source": [
        "def isStrobogrammatic(num):\n",
        "    strobogrammatic_digits = {\n",
        "        '0': '0',\n",
        "        '1': '1',\n",
        "        '6': '9',\n",
        "        '8': '8',\n",
        "        '9': '6'\n",
        "    }\n",
        "\n",
        "    left = 0\n",
        "    right = len(num) - 1\n",
        "\n",
        "    while left <= right:\n",
        "        if num[left] not in strobogrammatic_digits or num[right] not in strobogrammatic_digits:\n",
        "            return False\n",
        "        if num[left] != strobogrammatic_digits[num[right]]:\n",
        "            return False\n",
        "        left += 1\n",
        "        right -= 1\n",
        "\n",
        "    return True"
      ],
      "metadata": {
        "id": "UxU451Co_zeQ"
      },
      "execution_count": 3,
      "outputs": []
    },
    {
      "cell_type": "code",
      "source": [
        "num = \"69\"\n",
        "print(isStrobogrammatic(num))"
      ],
      "metadata": {
        "colab": {
          "base_uri": "https://localhost:8080/"
        },
        "id": "xnSEXk0bBnaH",
        "outputId": "9390a487-2309-40fc-9419-e47d7a4ab07b"
      },
      "execution_count": 4,
      "outputs": [
        {
          "output_type": "stream",
          "name": "stdout",
          "text": [
            "True\n"
          ]
        }
      ]
    },
    {
      "cell_type": "markdown",
      "source": [
        "Question 3"
      ],
      "metadata": {
        "id": "7nJ_bnqS_zlO"
      }
    },
    {
      "cell_type": "code",
      "source": [
        "def addStrings(num1, num2):\n",
        "    p1 = len(num1) - 1\n",
        "    p2 = len(num2) - 1\n",
        "    carry = 0\n",
        "    result = []\n",
        "\n",
        "    while p1 >= 0 or p2 >= 0 or carry:\n",
        "        digit1 = int(num1[p1]) if p1 >= 0 else 0\n",
        "        digit2 = int(num2[p2]) if p2 >= 0 else 0\n",
        "\n",
        "        # Compute the sum of the digits and the carry\n",
        "        total = digit1 + digit2 + carry\n",
        "\n",
        "        # Append the least significant digit to the result\n",
        "        result.append(str(total % 10))\n",
        "\n",
        "        # Update the carry\n",
        "        carry = total // 10\n",
        "\n",
        "        # Move the pointers to the left\n",
        "        p1 -= 1\n",
        "        p2 -= 1\n",
        "\n",
        "    # Reverse the result string and return it\n",
        "    return ''.join(result[::-1])"
      ],
      "metadata": {
        "id": "N5ywTEy3_0pC"
      },
      "execution_count": 5,
      "outputs": []
    },
    {
      "cell_type": "code",
      "source": [
        "num1 = \"11\"\n",
        "num2 = \"123\"\n",
        "print(addStrings(num1, num2))"
      ],
      "metadata": {
        "colab": {
          "base_uri": "https://localhost:8080/"
        },
        "id": "nf1qjQmCB2sN",
        "outputId": "bd03a98f-6e10-4020-b944-db9268440c15"
      },
      "execution_count": 6,
      "outputs": [
        {
          "output_type": "stream",
          "name": "stdout",
          "text": [
            "134\n"
          ]
        }
      ]
    },
    {
      "cell_type": "markdown",
      "source": [
        "Question 4"
      ],
      "metadata": {
        "id": "J72gn0RL_0wV"
      }
    },
    {
      "cell_type": "code",
      "source": [
        "def reverseWords(s):\n",
        "    words = s.split()\n",
        "    reversed_words = [word[::-1] for word in words]\n",
        "    return ' '.join(reversed_words)"
      ],
      "metadata": {
        "id": "lifq7ura_1-f"
      },
      "execution_count": 7,
      "outputs": []
    },
    {
      "cell_type": "code",
      "source": [
        "s = \"Let's take LeetCode contest\"\n",
        "print(reverseWords(s))"
      ],
      "metadata": {
        "colab": {
          "base_uri": "https://localhost:8080/"
        },
        "id": "6g7A-B6EB-GW",
        "outputId": "fffc994d-1b4b-4240-9080-49fe1ba6311e"
      },
      "execution_count": 8,
      "outputs": [
        {
          "output_type": "stream",
          "name": "stdout",
          "text": [
            "s'teL ekat edoCteeL tsetnoc\n"
          ]
        }
      ]
    },
    {
      "cell_type": "markdown",
      "source": [
        "Quetsion 5"
      ],
      "metadata": {
        "id": "PDyJzHHx_2Fi"
      }
    },
    {
      "cell_type": "code",
      "source": [
        "def reverseStr(s, k):\n",
        "    result = \"\"\n",
        "    for i in range(0, len(s), 2 * k):\n",
        "        result += s[i:i+k][::-1] + s[i+k:i+2*k]\n",
        "    return result"
      ],
      "metadata": {
        "id": "iktLhfvQ_3J2"
      },
      "execution_count": 9,
      "outputs": []
    },
    {
      "cell_type": "code",
      "source": [
        "s = \"abcdefg\"\n",
        "k = 2\n",
        "print(reverseStr(s, k))"
      ],
      "metadata": {
        "colab": {
          "base_uri": "https://localhost:8080/"
        },
        "id": "i5VJQKHCCGS7",
        "outputId": "cdaeb4bd-42af-4c80-c0ae-95dae01bbd06"
      },
      "execution_count": 10,
      "outputs": [
        {
          "output_type": "stream",
          "name": "stdout",
          "text": [
            "bacdfeg\n"
          ]
        }
      ]
    },
    {
      "cell_type": "markdown",
      "source": [
        "Question 6"
      ],
      "metadata": {
        "id": "BaNv_6RM_3TW"
      }
    },
    {
      "cell_type": "code",
      "source": [
        "def rotateString(s, goal):\n",
        "    if len(s) != len(goal):\n",
        "        return False\n",
        "    return goal in s + s"
      ],
      "metadata": {
        "id": "RMWatYUj_4WY"
      },
      "execution_count": 11,
      "outputs": []
    },
    {
      "cell_type": "code",
      "source": [
        "s = \"abcde\"\n",
        "goal = \"cdeab\"\n",
        "print(rotateString(s, goal))"
      ],
      "metadata": {
        "colab": {
          "base_uri": "https://localhost:8080/"
        },
        "id": "zYedJql3CL_6",
        "outputId": "adfd8f04-b4b6-4881-c731-983b3507cc8b"
      },
      "execution_count": 12,
      "outputs": [
        {
          "output_type": "stream",
          "name": "stdout",
          "text": [
            "True\n"
          ]
        }
      ]
    },
    {
      "cell_type": "markdown",
      "source": [
        "Question 7"
      ],
      "metadata": {
        "id": "6YHpO3ev_4du"
      }
    },
    {
      "cell_type": "code",
      "source": [
        "def processString(string):\n",
        "    processed = []\n",
        "    for char in string:\n",
        "        if char != '#':\n",
        "            processed.append(char)\n",
        "        elif processed:\n",
        "            processed.pop()\n",
        "    return ''.join(processed)\n",
        "\n",
        "def backspaceCompare(s, t):\n",
        "    processed_s = processString(s)\n",
        "    processed_t = processString(t)\n",
        "    return processed_s == processed_t"
      ],
      "metadata": {
        "id": "YgVtDzqV_6Ej"
      },
      "execution_count": 13,
      "outputs": []
    },
    {
      "cell_type": "code",
      "source": [
        "s = \"ab#c\"\n",
        "t = \"ad#c\"\n",
        "print(backspaceCompare(s, t))"
      ],
      "metadata": {
        "colab": {
          "base_uri": "https://localhost:8080/"
        },
        "id": "kRKEDtJVCTyX",
        "outputId": "42f6c2bd-faee-4b8f-fcd1-16333c5b9934"
      },
      "execution_count": 14,
      "outputs": [
        {
          "output_type": "stream",
          "name": "stdout",
          "text": [
            "True\n"
          ]
        }
      ]
    },
    {
      "cell_type": "markdown",
      "source": [
        "Question 8"
      ],
      "metadata": {
        "id": "0LyFJC-Q_6hH"
      }
    },
    {
      "cell_type": "code",
      "source": [
        "def checkStraightLine(coordinates):\n",
        "    # Base case: If there are less than 3 coordinates, return True\n",
        "    if len(coordinates) < 3:\n",
        "        return True\n",
        "\n",
        "    # Calculate the slope between the first two points\n",
        "    x1, y1 = coordinates[0]\n",
        "    x2, y2 = coordinates[1]\n",
        "    slope = float('inf') if x2 - x1 == 0 else (y2 - y1) / (x2 - x1)\n",
        "\n",
        "    # Check the slope between each consecutive pair of points\n",
        "    for i in range(2, len(coordinates)):\n",
        "        x, y = coordinates[i]\n",
        "        if x - x2 == 0:\n",
        "            curr_slope = float('inf')\n",
        "        else:\n",
        "            curr_slope = (y - y2) / (x - x2)\n",
        "        if curr_slope != slope:\n",
        "            return False\n",
        "        x2, y2 = x, y\n",
        "\n",
        "    return True"
      ],
      "metadata": {
        "id": "Y5Cg1Cdc_7wA"
      },
      "execution_count": 15,
      "outputs": []
    },
    {
      "cell_type": "code",
      "source": [
        "coordinates = [[1, 2], [2, 3], [3, 4], [4, 5], [5, 6], [6, 7]]\n",
        "print(checkStraightLine(coordinates))"
      ],
      "metadata": {
        "id": "EKdJPGtYCaJq",
        "outputId": "51272cc9-98d0-491c-9f18-0955cea05203",
        "colab": {
          "base_uri": "https://localhost:8080/"
        }
      },
      "execution_count": 16,
      "outputs": [
        {
          "output_type": "stream",
          "name": "stdout",
          "text": [
            "True\n"
          ]
        }
      ]
    }
  ]
}